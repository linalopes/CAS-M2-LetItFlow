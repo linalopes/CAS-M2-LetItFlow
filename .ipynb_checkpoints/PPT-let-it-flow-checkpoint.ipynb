{
 "cells": [
  {
   "cell_type": "markdown",
   "metadata": {
    "editable": true,
    "slideshow": {
     "slide_type": "slide"
    },
    "tags": []
   },
   "source": [
    "# Let It Flow\n",
    "\n",
    "by Lina, Martina and Rudi-R"
   ]
  },
  {
   "cell_type": "markdown",
   "metadata": {
    "editable": true,
    "rise": {
     "theme": "sky",
     "transition": "zoom"
    },
    "slideshow": {
     "slide_type": "slide"
    },
    "tags": []
   },
   "source": [
    "## Summary\n",
    "1. Inspiration\n",
    "2. Create Dataset\n",
    "3. Goal\n",
    "4. First Tryout - RNN\n",
    "5. Supervised Learning - Linas Notebooks\n",
    "6. Unsupervised Learning - Rudis Notebooks\n",
    "7. Pytorch to Tensorflow"
   ]
  },
  {
   "cell_type": "markdown",
   "metadata": {
    "editable": true,
    "slideshow": {
     "slide_type": "slide"
    },
    "tags": []
   },
   "source": [
    "## Inspiration\n",
    "\n",
    "- The Sound of the day-by-day life\n",
    "- Playfull experience\n",
    "- Own data, own bias"
   ]
  },
  {
   "cell_type": "markdown",
   "metadata": {
    "editable": true,
    "scroll": true,
    "slideshow": {
     "slide_type": "slide"
    },
    "tags": []
   },
   "source": [
    "## Create Dataset\n",
    "\n",
    "### How we created ...\n",
    "\n",
    "\n",
    "\n",
    "#### Dataset Overview\n",
    "\n",
    "- Number of Participants: 3 (Lina, Martina, Rudi)\n",
    "- Total Clips: 600 short clips (200 per person)\n",
    "- Recording Device: iPhone with the native app camera\n",
    "- Duration of Clips: Each clip should be up to 20 seconds long\n",
    "- Object Used: IKEA glass (each participant will have two identical glasses)\n",
    "- Water: Tap water, room temperature\n",
    "\n",
    "\n",
    "\n",
    "#### Recording Guidelines\n",
    "1. Setting:\n",
    "- Record in a quiet environment to minimize background noise, as we are primarily using the audio from the clips.\n",
    "- You could aim for 10 – 20 recordings per setup. This ensures you capture a variety of sound nuances within the same conditions (e.g., slight variations in pouring speed, distance from the glass, etc.) without oversaturating the dataset with too much repetition.\n",
    "- Pouring Variations: Each participant will pour water into the glass at three distinct speeds:\n",
    "    - Slow: Gentle, slow pouring. ~15s.\n",
    "    - Medium: Steady, moderate flow. ~10s.\n",
    "    - Fast: Rapid pouring, near the limit of what the glass can handle without spilling. Ensure a clear distinction between these speeds in each clip.\n",
    "\n",
    "2. Consistency:\n",
    "- Always use the same IKEA glass model.\n",
    "- Always fill the same amount of water in the glass at the start.\n",
    "- Record in different environments, but maintain sound clarity.\n",
    "- Different pouring angles (straight, diagonal)\n",
    "\n",
    "3. Environment:\n",
    "- You can change the recording environment slightly (kitchen, outdoors, etc.), but the sound of the pouring water should remain the focus.\n",
    "- Recordings should be done with natural, ambient room acoustics, without any additional audio effects.\n",
    "\n",
    "4. Video Duration:\n",
    "- Aim for shorter clips (10-20 seconds). The audio needs to capture the entire pouring process, from start to end.\n"
   ]
  },
  {
   "cell_type": "markdown",
   "metadata": {
    "editable": true,
    "slideshow": {
     "slide_type": "slide"
    },
    "tags": []
   },
   "source": [
    "## Create Dataset\n",
    "\n",
    " ### ... and how we used\n",
    "\n",
    " - RAW\n",
    "    - Python script build on top of  Videopy - FFmpeg libraries.\n",
    "    - Audios in .wav (Waveform Audio File Format) format with the PCM (Pulse Code Modulation) codec.\n",
    " - normalized in 18s\n",
    "   - cropping and padding"
   ]
  },
  {
   "cell_type": "markdown",
   "metadata": {
    "editable": true,
    "slideshow": {
     "slide_type": "slide"
    },
    "tags": []
   },
   "source": [
    "## Goal\n",
    "The goal is to train a machine learning model from a custom dataset of water pouring sounds.\n",
    "\n",
    "The final system will generate sound triggers based on the pouring speed, potentially creating an orchestral experience in a collaborative web app where multiple users can interact simultaneously."
   ]
  },
  {
   "cell_type": "markdown",
   "metadata": {
    "editable": true,
    "slideshow": {
     "slide_type": "slide"
    },
    "tags": []
   },
   "source": [
    "## First Tryout - RNN\n",
    "\n",
    "Recurrent Neural Networks (RNNs)\n",
    "\n",
    "Best For: Sequential data, such as audio or time-series data.\n",
    "\n",
    "**Why RNNs?**\n",
    "\n",
    "Audio is a form of sequential data, meaning each sound sample is dependent on the previous one. RNNs, especially Long Short-Term Memory (LSTM) networks or Gated Recurrent Units (GRUs), are good at capturing this temporal dependency.\n",
    "In your case, the speed of pouring is a continuous process, and RNNs are designed to learn patterns in sequences over time.\n",
    "\n",
    "Check the Notebook [here](./Lina/first_tryout.ipynb)"
   ]
  },
  {
   "cell_type": "markdown",
   "metadata": {
    "editable": true,
    "slideshow": {
     "slide_type": "slide"
    },
    "tags": []
   },
   "source": [
    "## Supervised Learning - Linas Notebooks\n",
    "\n",
    "### Datavis of the RAW\n",
    "- [The Analysis of the RAW dataset](./Lina/analising_data.ipynb)\n"
   ]
  },
  {
   "cell_type": "markdown",
   "metadata": {
    "editable": false,
    "slideshow": {
     "slide_type": ""
    },
    "tags": []
   },
   "source": [
    "<div style=\"display: flex;\">\n",
    "  <div style=\"flex: 50%;\">\n",
    "    <img src=\"https://live.staticflickr.com/65535/54015126372_8e11389d2c_o.jpg\" width=\"300\">\n",
    "  </div>\n",
    "  <div style=\"flex: 50%;\">\n",
    "    Texto relacionado à imagem ou qualquer outra informação que você queira exibir nesta coluna.\n",
    "  </div>\n",
    "</div>\n"
   ]
  }
 ],
 "metadata": {
  "kernelspec": {
   "display_name": "aicp",
   "language": "python",
   "name": "aicp"
  },
  "language_info": {
   "codemirror_mode": {
    "name": "ipython",
    "version": 3
   },
   "file_extension": ".py",
   "mimetype": "text/x-python",
   "name": "python",
   "nbconvert_exporter": "python",
   "pygments_lexer": "ipython3",
   "version": "3.10.14"
  },
  "toc": {
   "base_numbering": 1
  }
 },
 "nbformat": 4,
 "nbformat_minor": 4
}
