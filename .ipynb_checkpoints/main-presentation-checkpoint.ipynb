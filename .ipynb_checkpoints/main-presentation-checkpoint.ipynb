{
 "cells": [
  {
   "cell_type": "raw",
   "metadata": {
    "editable": true,
    "slideshow": {
     "slide_type": "slide"
    },
    "tags": []
   },
   "source": [
    "<head>\n",
    "  <link rel=\"stylesheet\" type=\"text/css\" href=\"custom.css\">\n",
    "</head>"
   ]
  },
  {
   "cell_type": "markdown",
   "metadata": {
    "editable": true,
    "slideshow": {
     "slide_type": "slide"
    },
    "tags": []
   },
   "source": [
    "# Let It Flow"
   ]
  },
  {
   "cell_type": "markdown",
   "metadata": {
    "editable": true,
    "slideshow": {
     "slide_type": "slide"
    },
    "tags": []
   },
   "source": [
    "## Summary\n",
    "1. Inspiration\n",
    "2. Create Dataset\n",
    "3. Goal\n",
    "4. Dirty Prototype\n",
    "5. Supervised Learning - Linas Notebooks\n",
    "6. Unsupervised Learning - Rudis Notebooks\n",
    "7. Pytorch to Tensorflow"
   ]
  },
  {
   "cell_type": "markdown",
   "metadata": {
    "editable": true,
    "slideshow": {
     "slide_type": "slide"
    },
    "tags": []
   },
   "source": [
    "## Inspiration\n",
    "\n",
    "- The Sound of the day-by-day life\n",
    "- Playfull experience\n",
    "- Own data, own bias"
   ]
  },
  {
   "cell_type": "markdown",
   "metadata": {
    "editable": true,
    "slideshow": {
     "slide_type": "slide"
    },
    "tags": []
   },
   "source": [
    "## Create Dataset\n",
    "\n",
    "### How we created ..."
   ]
  },
  {
   "cell_type": "markdown",
   "metadata": {
    "editable": true,
    "slideshow": {
     "slide_type": "slide"
    },
    "tags": []
   },
   "source": [
    "## Create Dataset\n",
    "\n",
    " ### ... and how we used\n",
    "\n",
    " - RAW\n",
    " - normalized in 18s\n",
    "   - cropping and padding"
   ]
  }
 ],
 "metadata": {
  "kernelspec": {
   "display_name": "aicp",
   "language": "python",
   "name": "aicp"
  },
  "language_info": {
   "codemirror_mode": {
    "name": "ipython",
    "version": 3
   },
   "file_extension": ".py",
   "mimetype": "text/x-python",
   "name": "python",
   "nbconvert_exporter": "python",
   "pygments_lexer": "ipython3",
   "version": "3.10.14"
  },
  "toc": {
   "base_numbering": 1
  }
 },
 "nbformat": 4,
 "nbformat_minor": 4
}
