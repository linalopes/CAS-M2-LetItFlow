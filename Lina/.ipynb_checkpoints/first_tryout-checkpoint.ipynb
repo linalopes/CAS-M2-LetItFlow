{
 "cells": [
  {
   "cell_type": "markdown",
   "metadata": {
    "editable": true,
    "slideshow": {
     "slide_type": "slide"
    },
    "tags": []
   },
   "source": [
    "# First Tryout - Workflow\n",
    "\n",
    "1. **Preparing the audio data**:\n",
    "    - Loading audio files from the `dataset` folder.\n",
    "    - Normalizing the loudness of the audio files.\n",
    "    - Downsampling the audio for efficiency.\n",
    "2. **Extracting features suitable for RNN input**:\n",
    "    - Converting audio signals into sequences of features (MFCCs).\n",
    "3. **Building and training an RNN model**:\n",
    "    - Using an RNN-based autoencoder to learn patterns in the data."
   ]
  },
  {
   "cell_type": "markdown",
   "metadata": {
    "editable": true,
    "slideshow": {
     "slide_type": ""
    },
    "tags": []
   },
   "source": [
    "Import Necessary Libraries"
   ]
  },
  {
   "cell_type": "code",
   "execution_count": 1,
   "metadata": {
    "editable": true,
    "slideshow": {
     "slide_type": "slide"
    },
    "tags": []
   },
   "outputs": [],
   "source": [
    "import os\n",
    "import librosa\n",
    "import numpy as np\n",
    "import torch\n",
    "from torch.utils.data import Dataset, DataLoader\n",
    "import torch.nn as nn\n",
    "import torch.optim as optim\n",
    "from tqdm.notebook import tqdm\n",
    "import matplotlib.pyplot as plt\n",
    "%matplotlib inline"
   ]
  },
  {
   "cell_type": "markdown",
   "metadata": {
    "editable": true,
    "slideshow": {
     "slide_type": "slide"
    },
    "tags": []
   },
   "source": [
    "## Preparing the audio data\n",
    "\n",
    "1. Define Audio Preprocessing Functions"
   ]
  },
  {
   "cell_type": "code",
   "execution_count": 2,
   "metadata": {
    "editable": true,
    "slideshow": {
     "slide_type": "subslide"
    },
    "tags": []
   },
   "outputs": [],
   "source": [
    "def normalize_loudness(y):\n",
    "    \"\"\"Normalize audio to have consistent loudness.\"\"\"\n",
    "    rms = np.sqrt(np.mean(y**2))\n",
    "    if rms > 0:\n",
    "        y = y / rms\n",
    "    return y\n",
    "\n",
    "def load_and_preprocess_audio(file_path, target_sr=16000):\n",
    "    \"\"\"Load and preprocess audio file.\"\"\"\n",
    "    y, sr = librosa.load(file_path, sr=None)\n",
    "    # Downsample if necessary\n",
    "    if sr != target_sr:\n",
    "        y = librosa.resample(y, orig_sr=sr, target_sr=target_sr)\n",
    "    # Normalize loudness\n",
    "    y = normalize_loudness(y)\n",
    "    return y\n"
   ]
  },
  {
   "cell_type": "markdown",
   "metadata": {
    "editable": true,
    "slideshow": {
     "slide_type": "slide"
    },
    "tags": []
   },
   "source": [
    "## Preparing the audio data\n",
    "\n",
    "2. Load Audio Files from the folder `dataset`\n",
    "\n"
   ]
  },
  {
   "cell_type": "code",
   "execution_count": 3,
   "metadata": {
    "editable": true,
    "slideshow": {
     "slide_type": "subslide"
    },
    "tags": []
   },
   "outputs": [
    {
     "data": {
      "application/vnd.jupyter.widget-view+json": {
       "model_id": "04b52bac6cfb4a47a450d916eb0f2f8e",
       "version_major": 2,
       "version_minor": 0
      },
      "text/plain": [
       "Loading and preprocessing audio files:   0%|          | 0/615 [00:00<?, ?it/s]"
      ]
     },
     "metadata": {},
     "output_type": "display_data"
    }
   ],
   "source": [
    "# Path to your dataset folder\n",
    "dataset_path = 'dataset'\n",
    "\n",
    "# Get list of audio files\n",
    "audio_files = [os.path.join(dataset_path, f) for f in os.listdir(dataset_path) if f.endswith('.wav')]\n",
    "\n",
    "# Preprocess and store audio data\n",
    "audio_data = []\n",
    "\n",
    "for file in tqdm(audio_files, desc='Loading and preprocessing audio files'):\n",
    "    y = load_and_preprocess_audio(file)\n",
    "    audio_data.append(y)\n"
   ]
  },
  {
   "cell_type": "markdown",
   "metadata": {},
   "source": [
    "## Extracting features suitable for RNN input\n",
    "\n",
    "3. Define Feature Extraction Function"
   ]
  },
  {
   "cell_type": "code",
   "execution_count": 4,
   "metadata": {},
   "outputs": [],
   "source": [
    "def extract_mfcc_features(y, sr=16000, n_mfcc=40):\n",
    "    \"\"\"Extract MFCC features from audio signal.\"\"\"\n",
    "    mfcc = librosa.feature.mfcc(y=y, sr=sr, n_mfcc=n_mfcc)\n",
    "    mfcc = mfcc.T  # Shape: (Time steps, n_mfcc)\n",
    "    return mfcc"
   ]
  },
  {
   "cell_type": "markdown",
   "metadata": {},
   "source": [
    "## Extracting features suitable for RNN input\n",
    "\n",
    "4. Extract Features from All Audio Data"
   ]
  },
  {
   "cell_type": "code",
   "execution_count": 5,
   "metadata": {},
   "outputs": [
    {
     "data": {
      "application/vnd.jupyter.widget-view+json": {
       "model_id": "9ccaab0a1a794160806750b5a91fd76f",
       "version_major": 2,
       "version_minor": 0
      },
      "text/plain": [
       "Extracting features:   0%|          | 0/615 [00:00<?, ?it/s]"
      ]
     },
     "metadata": {},
     "output_type": "display_data"
    }
   ],
   "source": [
    "# List to hold feature sequences\n",
    "feature_sequences = []\n",
    "\n",
    "for y in tqdm(audio_data, desc='Extracting features'):\n",
    "    features = extract_mfcc_features(y)\n",
    "    feature_sequences.append(features)"
   ]
  },
  {
   "cell_type": "markdown",
   "metadata": {},
   "source": [
    "## Building and training an RNN model\n",
    "\n",
    "5. Prepare Data for PyTorch and Create a Custom Dataset"
   ]
  },
  {
   "cell_type": "code",
   "execution_count": 6,
   "metadata": {},
   "outputs": [],
   "source": [
    "class AudioDataset(Dataset):\n",
    "    def __init__(self, feature_sequences):\n",
    "        self.feature_sequences = feature_sequences\n",
    "\n",
    "    def __len__(self):\n",
    "        return len(self.feature_sequences)\n",
    "\n",
    "    def __getitem__(self, idx):\n",
    "        return self.feature_sequences[idx]\n"
   ]
  },
  {
   "cell_type": "markdown",
   "metadata": {},
   "source": [
    "## Building and training an RNN model\n",
    "\n",
    "6. Define a Collate Function to Handle Variable Sequence Lengths"
   ]
  },
  {
   "cell_type": "code",
   "execution_count": 7,
   "metadata": {},
   "outputs": [],
   "source": [
    "def collate_fn(batch):\n",
    "    # Batch is a list of sequences\n",
    "    # Find the longest sequence in the batch\n",
    "    batch_size = len(batch)\n",
    "    lengths = [seq.shape[0] for seq in batch]\n",
    "    max_length = max(lengths)\n",
    "\n",
    "    # Number of features (n_mfcc)\n",
    "    n_features = batch[0].shape[1]\n",
    "\n",
    "    # Create a tensor of zeros with shape (batch_size, max_length, n_features)\n",
    "    padded_batch = torch.zeros(batch_size, max_length, n_features)\n",
    "\n",
    "    for i, seq in enumerate(batch):\n",
    "        length = seq.shape[0]\n",
    "        padded_batch[i, :length, :] = torch.tensor(seq)\n",
    "\n",
    "    return padded_batch, lengths\n"
   ]
  },
  {
   "cell_type": "markdown",
   "metadata": {},
   "source": [
    "## Building and training an RNN model\n",
    "\n",
    "7. Create DataLoader"
   ]
  },
  {
   "cell_type": "code",
   "execution_count": 8,
   "metadata": {},
   "outputs": [],
   "source": [
    "dataset = AudioDataset(feature_sequences)\n",
    "dataloader = DataLoader(dataset, batch_size=16, shuffle=True, collate_fn=collate_fn)\n"
   ]
  },
  {
   "cell_type": "markdown",
   "metadata": {},
   "source": [
    "## Building and training an RNN model\n",
    "\n",
    "8. Define the RNN Autoencoder Model and Define the Model"
   ]
  },
  {
   "cell_type": "code",
   "execution_count": 13,
   "metadata": {},
   "outputs": [],
   "source": [
    "class RNNAutoencoder(nn.Module):\n",
    "    def __init__(self, input_size, hidden_size):\n",
    "        super(RNNAutoencoder, self).__init__()\n",
    "        self.hidden_size = hidden_size\n",
    "\n",
    "        # Encoder\n",
    "        self.encoder_rnn = nn.GRU(input_size, hidden_size, batch_first=True)\n",
    "\n",
    "        # Decoder\n",
    "        self.decoder_rnn = nn.GRU(hidden_size, hidden_size, batch_first=True)\n",
    "\n",
    "        # Output layer to map hidden_size back to input_size\n",
    "        self.output_layer = nn.Linear(hidden_size, input_size)\n",
    "\n",
    "    def forward(self, x, lengths):\n",
    "        # Pack the sequence\n",
    "        packed_input = nn.utils.rnn.pack_padded_sequence(\n",
    "            x, lengths, batch_first=True, enforce_sorted=False\n",
    "        )\n",
    "\n",
    "        # Encoder\n",
    "        _, hidden = self.encoder_rnn(packed_input)\n",
    "\n",
    "        # Decoder input: zeros\n",
    "        batch_size, max_length, _ = x.size()\n",
    "        decoder_input = torch.zeros(batch_size, max_length, self.hidden_size).to(x.device)\n",
    "\n",
    "        # Decoder hidden state\n",
    "        decoder_hidden = hidden  # Now sizes match\n",
    "\n",
    "        # Decoder\n",
    "        outputs, _ = self.decoder_rnn(decoder_input, decoder_hidden)\n",
    "\n",
    "        # Map outputs to input_size\n",
    "        outputs = self.output_layer(outputs)\n",
    "\n",
    "        return outputs\n"
   ]
  },
  {
   "cell_type": "markdown",
   "metadata": {
    "editable": true,
    "slideshow": {
     "slide_type": ""
    },
    "tags": []
   },
   "source": [
    "## Building and training an RNN model\n",
    "\n",
    "9. Initialize the Model"
   ]
  },
  {
   "cell_type": "code",
   "execution_count": 15,
   "metadata": {},
   "outputs": [],
   "source": [
    "input_size = feature_sequences[0].shape[1]  # n_mfcc\n",
    "hidden_size = 128  # Adjust as needed\n",
    "\n",
    "model = RNNAutoencoder(input_size, hidden_size)\n"
   ]
  },
  {
   "cell_type": "markdown",
   "metadata": {},
   "source": [
    "## Building and training an RNN model\n",
    "\n",
    "10. Define Loss Function and Optimizer"
   ]
  },
  {
   "cell_type": "code",
   "execution_count": 16,
   "metadata": {},
   "outputs": [],
   "source": [
    "criterion = nn.MSELoss()\n",
    "optimizer = optim.Adam(model.parameters(), lr=0.001)"
   ]
  },
  {
   "cell_type": "markdown",
   "metadata": {},
   "source": [
    "## Building and training an RNN model\n",
    "\n",
    "11. Train the Model"
   ]
  },
  {
   "cell_type": "code",
   "execution_count": 17,
   "metadata": {},
   "outputs": [
    {
     "data": {
      "application/vnd.jupyter.widget-view+json": {
       "model_id": "c322a97b424c42029f8a8e2eb87af154",
       "version_major": 2,
       "version_minor": 0
      },
      "text/plain": [
       "Epoch 1/20:   0%|          | 0/39 [00:00<?, ?it/s]"
      ]
     },
     "metadata": {},
     "output_type": "display_data"
    },
    {
     "name": "stdout",
     "output_type": "stream",
     "text": [
      "Epoch [1/20], Loss: 370.6023\n"
     ]
    },
    {
     "data": {
      "application/vnd.jupyter.widget-view+json": {
       "model_id": "ab2e673bd239478c8827c5cd81dcf3a4",
       "version_major": 2,
       "version_minor": 0
      },
      "text/plain": [
       "Epoch 2/20:   0%|          | 0/39 [00:00<?, ?it/s]"
      ]
     },
     "metadata": {},
     "output_type": "display_data"
    },
    {
     "name": "stdout",
     "output_type": "stream",
     "text": [
      "Epoch [2/20], Loss: 357.4949\n"
     ]
    },
    {
     "data": {
      "application/vnd.jupyter.widget-view+json": {
       "model_id": "0eb9ce521237417bb156f6a7637c5733",
       "version_major": 2,
       "version_minor": 0
      },
      "text/plain": [
       "Epoch 3/20:   0%|          | 0/39 [00:00<?, ?it/s]"
      ]
     },
     "metadata": {},
     "output_type": "display_data"
    },
    {
     "name": "stdout",
     "output_type": "stream",
     "text": [
      "Epoch [3/20], Loss: 349.6778\n"
     ]
    },
    {
     "data": {
      "application/vnd.jupyter.widget-view+json": {
       "model_id": "cc94dfb95b2345448068598ac18a5ccd",
       "version_major": 2,
       "version_minor": 0
      },
      "text/plain": [
       "Epoch 4/20:   0%|          | 0/39 [00:00<?, ?it/s]"
      ]
     },
     "metadata": {},
     "output_type": "display_data"
    },
    {
     "name": "stdout",
     "output_type": "stream",
     "text": [
      "Epoch [4/20], Loss: 347.0342\n"
     ]
    },
    {
     "data": {
      "application/vnd.jupyter.widget-view+json": {
       "model_id": "d89f147d5a274ecdbcf73f420f960fd8",
       "version_major": 2,
       "version_minor": 0
      },
      "text/plain": [
       "Epoch 5/20:   0%|          | 0/39 [00:00<?, ?it/s]"
      ]
     },
     "metadata": {},
     "output_type": "display_data"
    },
    {
     "name": "stdout",
     "output_type": "stream",
     "text": [
      "Epoch [5/20], Loss: 336.1911\n"
     ]
    },
    {
     "data": {
      "application/vnd.jupyter.widget-view+json": {
       "model_id": "40dfa884283e40928455da0c5b5ffe55",
       "version_major": 2,
       "version_minor": 0
      },
      "text/plain": [
       "Epoch 6/20:   0%|          | 0/39 [00:00<?, ?it/s]"
      ]
     },
     "metadata": {},
     "output_type": "display_data"
    },
    {
     "name": "stdout",
     "output_type": "stream",
     "text": [
      "Epoch [6/20], Loss: 328.8751\n"
     ]
    },
    {
     "data": {
      "application/vnd.jupyter.widget-view+json": {
       "model_id": "eb7aa3419a4b4f0e96b91976ca0a3d08",
       "version_major": 2,
       "version_minor": 0
      },
      "text/plain": [
       "Epoch 7/20:   0%|          | 0/39 [00:00<?, ?it/s]"
      ]
     },
     "metadata": {},
     "output_type": "display_data"
    },
    {
     "name": "stdout",
     "output_type": "stream",
     "text": [
      "Epoch [7/20], Loss: 324.7436\n"
     ]
    },
    {
     "data": {
      "application/vnd.jupyter.widget-view+json": {
       "model_id": "d269dd49286848ee9d1803fc40014797",
       "version_major": 2,
       "version_minor": 0
      },
      "text/plain": [
       "Epoch 8/20:   0%|          | 0/39 [00:00<?, ?it/s]"
      ]
     },
     "metadata": {},
     "output_type": "display_data"
    },
    {
     "name": "stdout",
     "output_type": "stream",
     "text": [
      "Epoch [8/20], Loss: 325.8131\n"
     ]
    },
    {
     "data": {
      "application/vnd.jupyter.widget-view+json": {
       "model_id": "1350ead9c70c45609208d64bb00601a7",
       "version_major": 2,
       "version_minor": 0
      },
      "text/plain": [
       "Epoch 9/20:   0%|          | 0/39 [00:00<?, ?it/s]"
      ]
     },
     "metadata": {},
     "output_type": "display_data"
    },
    {
     "name": "stdout",
     "output_type": "stream",
     "text": [
      "Epoch [9/20], Loss: 331.2735\n"
     ]
    },
    {
     "data": {
      "application/vnd.jupyter.widget-view+json": {
       "model_id": "c786c8380c7c42ae890f091983567529",
       "version_major": 2,
       "version_minor": 0
      },
      "text/plain": [
       "Epoch 10/20:   0%|          | 0/39 [00:00<?, ?it/s]"
      ]
     },
     "metadata": {},
     "output_type": "display_data"
    },
    {
     "name": "stdout",
     "output_type": "stream",
     "text": [
      "Epoch [10/20], Loss: 323.1777\n"
     ]
    },
    {
     "data": {
      "application/vnd.jupyter.widget-view+json": {
       "model_id": "c57bcb8ed80a4c6f80d04e06909fd125",
       "version_major": 2,
       "version_minor": 0
      },
      "text/plain": [
       "Epoch 11/20:   0%|          | 0/39 [00:00<?, ?it/s]"
      ]
     },
     "metadata": {},
     "output_type": "display_data"
    },
    {
     "name": "stdout",
     "output_type": "stream",
     "text": [
      "Epoch [11/20], Loss: 318.2445\n"
     ]
    },
    {
     "data": {
      "application/vnd.jupyter.widget-view+json": {
       "model_id": "7977a09d2e0947c5a0eb53d88b5a7c91",
       "version_major": 2,
       "version_minor": 0
      },
      "text/plain": [
       "Epoch 12/20:   0%|          | 0/39 [00:00<?, ?it/s]"
      ]
     },
     "metadata": {},
     "output_type": "display_data"
    },
    {
     "name": "stdout",
     "output_type": "stream",
     "text": [
      "Epoch [12/20], Loss: 318.3924\n"
     ]
    },
    {
     "data": {
      "application/vnd.jupyter.widget-view+json": {
       "model_id": "f405d8b25a174359bdfed60387fcf54f",
       "version_major": 2,
       "version_minor": 0
      },
      "text/plain": [
       "Epoch 13/20:   0%|          | 0/39 [00:00<?, ?it/s]"
      ]
     },
     "metadata": {},
     "output_type": "display_data"
    },
    {
     "name": "stdout",
     "output_type": "stream",
     "text": [
      "Epoch [13/20], Loss: 323.0417\n"
     ]
    },
    {
     "data": {
      "application/vnd.jupyter.widget-view+json": {
       "model_id": "5fc833cecccd440283d54d3890a6619a",
       "version_major": 2,
       "version_minor": 0
      },
      "text/plain": [
       "Epoch 14/20:   0%|          | 0/39 [00:00<?, ?it/s]"
      ]
     },
     "metadata": {},
     "output_type": "display_data"
    },
    {
     "name": "stdout",
     "output_type": "stream",
     "text": [
      "Epoch [14/20], Loss: 320.0580\n"
     ]
    },
    {
     "data": {
      "application/vnd.jupyter.widget-view+json": {
       "model_id": "0b04406a73f64b40b6fee04a8c47b337",
       "version_major": 2,
       "version_minor": 0
      },
      "text/plain": [
       "Epoch 15/20:   0%|          | 0/39 [00:00<?, ?it/s]"
      ]
     },
     "metadata": {},
     "output_type": "display_data"
    },
    {
     "name": "stdout",
     "output_type": "stream",
     "text": [
      "Epoch [15/20], Loss: 319.8809\n"
     ]
    },
    {
     "data": {
      "application/vnd.jupyter.widget-view+json": {
       "model_id": "5810c4c8b8014873b5b22acaf7a51016",
       "version_major": 2,
       "version_minor": 0
      },
      "text/plain": [
       "Epoch 16/20:   0%|          | 0/39 [00:00<?, ?it/s]"
      ]
     },
     "metadata": {},
     "output_type": "display_data"
    },
    {
     "name": "stdout",
     "output_type": "stream",
     "text": [
      "Epoch [16/20], Loss: 327.8841\n"
     ]
    },
    {
     "data": {
      "application/vnd.jupyter.widget-view+json": {
       "model_id": "418562594197467eb77a0aaeee772578",
       "version_major": 2,
       "version_minor": 0
      },
      "text/plain": [
       "Epoch 17/20:   0%|          | 0/39 [00:00<?, ?it/s]"
      ]
     },
     "metadata": {},
     "output_type": "display_data"
    },
    {
     "name": "stdout",
     "output_type": "stream",
     "text": [
      "Epoch [17/20], Loss: 319.8341\n"
     ]
    },
    {
     "data": {
      "application/vnd.jupyter.widget-view+json": {
       "model_id": "3b649f838b5b4525b92bae31e7b84da2",
       "version_major": 2,
       "version_minor": 0
      },
      "text/plain": [
       "Epoch 18/20:   0%|          | 0/39 [00:00<?, ?it/s]"
      ]
     },
     "metadata": {},
     "output_type": "display_data"
    },
    {
     "name": "stdout",
     "output_type": "stream",
     "text": [
      "Epoch [18/20], Loss: 310.4694\n"
     ]
    },
    {
     "data": {
      "application/vnd.jupyter.widget-view+json": {
       "model_id": "725dfa297df642ce8bea47b8443b5a39",
       "version_major": 2,
       "version_minor": 0
      },
      "text/plain": [
       "Epoch 19/20:   0%|          | 0/39 [00:00<?, ?it/s]"
      ]
     },
     "metadata": {},
     "output_type": "display_data"
    },
    {
     "name": "stdout",
     "output_type": "stream",
     "text": [
      "Epoch [19/20], Loss: 298.8561\n"
     ]
    },
    {
     "data": {
      "application/vnd.jupyter.widget-view+json": {
       "model_id": "5730a62c40a240be88d75f1e8ce7c99b",
       "version_major": 2,
       "version_minor": 0
      },
      "text/plain": [
       "Epoch 20/20:   0%|          | 0/39 [00:00<?, ?it/s]"
      ]
     },
     "metadata": {},
     "output_type": "display_data"
    },
    {
     "name": "stdout",
     "output_type": "stream",
     "text": [
      "Epoch [20/20], Loss: 294.7963\n"
     ]
    }
   ],
   "source": [
    "num_epochs = 20  # Adjust as needed\n",
    "device = torch.device('cuda' if torch.cuda.is_available() else 'cpu')\n",
    "model.to(device)\n",
    "\n",
    "for epoch in range(num_epochs):\n",
    "    model.train()\n",
    "    epoch_loss = 0\n",
    "\n",
    "    for batch_data, lengths in tqdm(dataloader, desc=f'Epoch {epoch+1}/{num_epochs}'):\n",
    "        # Move data to device\n",
    "        batch_data = batch_data.to(device).float()\n",
    "\n",
    "        # Forward pass\n",
    "        outputs = model(batch_data, lengths)\n",
    "\n",
    "        # Compute loss\n",
    "        loss = criterion(outputs, batch_data)\n",
    "\n",
    "        # Backward pass and optimization\n",
    "        optimizer.zero_grad()\n",
    "        loss.backward()\n",
    "        optimizer.step()\n",
    "\n",
    "        epoch_loss += loss.item()\n",
    "\n",
    "    avg_loss = epoch_loss / len(dataloader)\n",
    "    print(f'Epoch [{epoch+1}/{num_epochs}], Loss: {avg_loss:.4f}')\n"
   ]
  },
  {
   "cell_type": "markdown",
   "metadata": {},
   "source": [
    "### Analyze the Learned Representations\n",
    "\n",
    "1. Extract Latent Features"
   ]
  },
  {
   "cell_type": "code",
   "execution_count": 18,
   "metadata": {},
   "outputs": [],
   "source": [
    "model.eval()\n",
    "latent_features = []\n",
    "\n",
    "with torch.no_grad():\n",
    "    for batch_data, lengths in dataloader:\n",
    "        batch_data = batch_data.to(device).float()\n",
    "        # Pack the sequence\n",
    "        packed_input = nn.utils.rnn.pack_padded_sequence(batch_data, lengths, batch_first=True, enforce_sorted=False)\n",
    "        # Encoder\n",
    "        _, hidden = model.encoder_rnn(packed_input)\n",
    "        # hidden shape: (1, batch_size, hidden_size)\n",
    "        latent = hidden.squeeze(0)\n",
    "        latent_features.append(latent.cpu().numpy())\n",
    "\n",
    "# Concatenate all latent features\n",
    "latent_features = np.vstack(latent_features)\n"
   ]
  },
  {
   "cell_type": "markdown",
   "metadata": {},
   "source": [
    "2. Perform Clustering on Latent Features"
   ]
  },
  {
   "cell_type": "code",
   "execution_count": 19,
   "metadata": {},
   "outputs": [
    {
     "data": {
      "image/png": "[encoded data removed]",
      "text/plain": [
       "<Figure size 800x600 with 2 Axes>"
      ]
     },
     "metadata": {},
     "output_type": "display_data"
    }
   ],
   "source": [
    "from sklearn.cluster import KMeans\n",
    "from sklearn.decomposition import PCA\n",
    "\n",
    "# Perform clustering\n",
    "n_clusters = 3  # Adjust as needed\n",
    "kmeans = KMeans(n_clusters=n_clusters)\n",
    "labels = kmeans.fit_predict(latent_features)\n",
    "\n",
    "# Visualize using PCA\n",
    "pca = PCA(n_components=2)\n",
    "reduced_features = pca.fit_transform(latent_features)\n",
    "\n",
    "plt.figure(figsize=(8, 6))\n",
    "scatter = plt.scatter(reduced_features[:, 0], reduced_features[:, 1], c=labels, cmap='viridis')\n",
    "plt.title('Clustering of Audio Sequences Based on Latent Features')\n",
    "plt.xlabel('PCA Component 1')\n",
    "plt.ylabel('PCA Component 2')\n",
    "plt.colorbar(scatter, label='Cluster')\n",
    "plt.show()\n"
   ]
  },
  {
   "cell_type": "markdown",
   "metadata": {},
   "source": [
    "3. Optional - Listen to Samples from Each Cluster\n"
   ]
  },
  {
   "cell_type": "code",
   "execution_count": null,
   "metadata": {},
   "outputs": [],
   "source": [
    "import IPython.display as ipd\n",
    "\n",
    "# Map from dataset index to original audio data\n",
    "index = 0\n",
    "for batch_data, _ in dataloader:\n",
    "    batch_size = batch_data.size(0)\n",
    "    for i in range(batch_size):\n",
    "        # Get the label for this sample\n",
    "        cluster_label = labels[index]\n",
    "        print(f'Playing audio from Cluster {cluster_label}')\n",
    "        y = audio_data[index]\n",
    "        ipd.display(ipd.Audio(y, rate=16000))\n",
    "        index += 1\n",
    "        # Break after one sample per cluster\n",
    "        if index >= len(audio_data):\n",
    "            break\n",
    "    if index >= len(audio_data):\n",
    "        break\n"
   ]
  }
 ],
 "metadata": {
  "kernelspec": {
   "display_name": "aicp",
   "language": "python",
   "name": "aicp"
  },
  "language_info": {
   "codemirror_mode": {
    "name": "ipython",
    "version": 3
   },
   "file_extension": ".py",
   "mimetype": "text/x-python",
   "name": "python",
   "nbconvert_exporter": "python",
   "pygments_lexer": "ipython3",
   "version": "3.10.14"
  }
 },
 "nbformat": 4,
 "nbformat_minor": 4
}
