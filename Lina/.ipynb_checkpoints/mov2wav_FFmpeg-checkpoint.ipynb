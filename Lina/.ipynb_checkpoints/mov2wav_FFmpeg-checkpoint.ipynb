{
 "cells": [
  {
   "cell_type": "code",
   "execution_count": null,
   "metadata": {},
   "outputs": [],
   "source": [
    "import os\n",
    "import subprocess"
   ]
  },
  {
   "cell_type": "code",
   "execution_count": null,
   "metadata": {},
   "outputs": [],
   "source": [
    "def extract_audio_from_mov_folder(input_folder, output_folder):\n",
    "    \"\"\"\n",
    "    Extracts audio from all .mov files in the input folder and saves them as .wav files with pcm_s16le codec in the output folder.\n",
    "    \n",
    "    Parameters:\n",
    "        input_folder (str): Path to the folder containing .mov files.\n",
    "        output_folder (str): Path to the folder to save the extracted audio files.\n",
    "    \"\"\"\n",
    "    # Ensure the output folder exists\n",
    "    if not os.path.exists(output_folder):\n",
    "        os.makedirs(output_folder)\n",
    "    \n",
    "    # Loop through all files in the input folder\n",
    "    for filename in os.listdir(input_folder):\n",
    "        if filename.endswith(\".MOV\"):\n",
    "            input_file = os.path.join(input_folder, filename)\n",
    "            # Generate output filename, replacing the .mov extension with .wav\n",
    "            output_file = os.path.join(output_folder, os.path.splitext(filename)[0] + \".wav\")\n",
    "            \n",
    "            print(f\"Processing: {input_file} -> {output_file}\")\n",
    "            \n",
    "            # Use ffmpeg to extract audio and convert to .wav with pcm_s16le codec\n",
    "            command = ['ffmpeg', '-i', input_file, '-vn', '-acodec', 'pcm_s16le', output_file]\n",
    "            \n",
    "            try:\n",
    "                # Run ffmpeg command and capture output and errors\n",
    "                result = subprocess.run(command, capture_output=True, text=True)\n",
    "                \n",
    "                # Print the command output\n",
    "                print(f\"FFmpeg Output:\\n{result.stdout}\")\n",
    "                print(f\"FFmpeg Errors (if any):\\n{result.stderr}\")\n",
    "                \n",
    "                if result.returncode == 0:\n",
    "                    print(f\"Successfully extracted audio from {filename}.\")\n",
    "                else:\n",
    "                    print(f\"Failed to extract audio from {filename}.\")\n",
    "            except subprocess.CalledProcessError as e:\n",
    "                print(f\"Error occurred while processing {filename}: {e}\")\n",
    "            except FileNotFoundError:\n",
    "                print(\"ffmpeg is not installed or not found in PATH.\")"
   ]
  },
  {
   "cell_type": "code",
   "execution_count": null,
   "metadata": {},
   "outputs": [],
   "source": [
    "# Define input and output folders\n",
    "input_mov_folder = \"mov\"  # Folder containing .mov files\n",
    "output_wav_folder = \"wav\"  # Folder to save extracted .wav files\n",
    "\n",
    "# Call the function to process all .mov files\n",
    "extract_audio_from_mov_folder(input_mov_folder, output_wav_folder)"
   ]
  }
 ],
 "metadata": {
  "kernelspec": {
   "display_name": "Python 3 (ipykernel)",
   "language": "python",
   "name": "python3"
  },
  "language_info": {
   "codemirror_mode": {
    "name": "ipython",
    "version": 3
   },
   "file_extension": ".py",
   "mimetype": "text/x-python",
   "name": "python",
   "nbconvert_exporter": "python",
   "pygments_lexer": "ipython3",
   "version": "3.10.14"
  },
  "rise": {
   "scroll": true,
   "transition": "convex"
  }
 },
 "nbformat": 4,
 "nbformat_minor": 2
}
