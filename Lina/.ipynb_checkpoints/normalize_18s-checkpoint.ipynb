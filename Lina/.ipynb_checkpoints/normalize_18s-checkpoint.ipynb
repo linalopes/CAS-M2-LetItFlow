{
 "cells": [
  {
   "cell_type": "markdown",
   "metadata": {},
   "source": [
    "# Normalization:\n",
    "Normalizing the audio samples to a uniform length of 18 seconds, by cropping longer files and padding shorter ones.\n",
    "\n",
    "**Consistency**: Having all audio files with the same length makes it easier for algorithms to process and compare them. It avoids issues where models need to handle variable-length inputs.\n",
    "\n",
    "**Alignment**: When performing operations like feature extraction (e.g., frequency analysis, zero-crossing rate), it's beneficial for the features to be extracted from audio clips of the same duration, ensuring that features like spectral centroid and dominant frequency are based on consistent timeframes.\n",
    "\n",
    "**Padding Shorter Files**: Padding shorter files to a fixed length ensures that you don't lose important information from shorter clips. The padding (often with zeros) won't affect the meaningful parts of the signal but will give you a consistent length.\n"
   ]
  },
  {
   "cell_type": "code",
   "execution_count": 2,
   "metadata": {},
   "outputs": [
    {
     "name": "stdout",
     "output_type": "stream",
     "text": [
      "All audio files have been normalized to 18 seconds.\n"
     ]
    }
   ],
   "source": [
    "import librosa\n",
    "import os\n",
    "import numpy as np\n",
    "import soundfile as sf\n",
    "\n",
    "# Path to the audio folder\n",
    "audio_folder = '../dataset'\n",
    "output_folder = '../dataset_normalized'\n",
    "os.makedirs(output_folder, exist_ok=True)\n",
    "\n",
    "# Target duration for all audio files (18 seconds)\n",
    "target_duration = 18  # seconds\n",
    "\n",
    "# Sample rate for loading and saving audio files\n",
    "sample_rate = 22050  # Adjust based on your original sample rate\n",
    "\n",
    "# Function to normalize audio length to 18 seconds\n",
    "def normalize_audio_length(file_path, output_path, target_duration, sample_rate):\n",
    "    y, sr = librosa.load(file_path, sr=sample_rate)\n",
    "    \n",
    "    # Calculate the target length in samples\n",
    "    target_length = int(target_duration * sample_rate)\n",
    "    \n",
    "    if len(y) > target_length:\n",
    "        # Crop the audio if it's longer than 18 seconds\n",
    "        y = y[:target_length]\n",
    "    else:\n",
    "        # Pad the audio with zeros if it's shorter than 18 seconds\n",
    "        padding = target_length - len(y)\n",
    "        y = np.pad(y, (0, padding), 'constant')\n",
    "    \n",
    "    # Save the normalized audio to the output folder\n",
    "    sf.write(output_path, y, sample_rate)\n",
    "\n",
    "# Normalize all audio files in the dataset\n",
    "for filename in os.listdir(audio_folder):\n",
    "    if filename.endswith('.wav'):  # Adjust extension if necessary\n",
    "        file_path = os.path.join(audio_folder, filename)\n",
    "        output_path = os.path.join(output_folder, filename)\n",
    "        normalize_audio_length(file_path, output_path, target_duration, sample_rate)\n",
    "\n",
    "print(\"All audio files have been normalized to 18 seconds.\")\n"
   ]
  }
 ],
 "metadata": {
  "kernelspec": {
   "display_name": "Python 3 (ipykernel)",
   "language": "python",
   "name": "python3"
  },
  "language_info": {
   "codemirror_mode": {
    "name": "ipython",
    "version": 3
   },
   "file_extension": ".py",
   "mimetype": "text/x-python",
   "name": "python",
   "nbconvert_exporter": "python",
   "pygments_lexer": "ipython3",
   "version": "3.10.14"
  }
 },
 "nbformat": 4,
 "nbformat_minor": 2
}
