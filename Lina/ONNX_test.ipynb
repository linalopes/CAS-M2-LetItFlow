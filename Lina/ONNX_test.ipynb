{
 "cells": [
  {
   "cell_type": "code",
   "execution_count": 7,
   "metadata": {},
   "outputs": [],
   "source": [
    "import onnx\n",
    "import onnxruntime as ort\n",
    "import numpy as np\n",
    "import pandas as pd\n",
    "import librosa\n",
    "import os"
   ]
  },
  {
   "cell_type": "code",
   "execution_count": 8,
   "metadata": {},
   "outputs": [
    {
     "name": "stdout",
     "output_type": "stream",
     "text": [
      "ONNX model loaded successfully.\n",
      "ONNX model accuracy: 41.79%\n"
     ]
    }
   ],
   "source": [
    "# ONNX model paths and dataset\n",
    "onnx_model_path = \"../models/rnn_model.onnx\"\n",
    "dataset_path = \"audio_durations_labels.csv\"\n",
    "\n",
    "# Load the ONNX model\n",
    "onnx_model = onnx.load(onnx_model_path)\n",
    "onnx.checker.check_model(onnx_model)\n",
    "print(\"ONNX model loaded successfully.\")\n",
    "\n",
    "# Initialize the ONNX Runtime session\n",
    "ort_session = ort.InferenceSession(onnx_model_path)\n",
    "\n",
    "# Function to extract features (similar to RNN training)\n",
    "def extract_sequential_features(file_path, sr=22050, n_mfcc=13, target_length=100):\n",
    "    y, _ = librosa.load(file_path, sr=sr)\n",
    "    mfcc = librosa.feature.mfcc(y=y, sr=sr, n_mfcc=n_mfcc)\n",
    "    \n",
    "    # Transpor e padronizar a sequência para o comprimento esperado pelo modelo (target_length)\n",
    "    mfcc = mfcc.T  # Transpor para [sequência, n_mfcc]\n",
    "    \n",
    "    # Truncar se for maior que target_length\n",
    "    if len(mfcc) > target_length:\n",
    "        mfcc = mfcc[:target_length]\n",
    "    # Preencher (pad) com zeros se for menor que target_length\n",
    "    elif len(mfcc) < target_length:\n",
    "        padding = np.zeros((target_length - len(mfcc), mfcc.shape[1]))\n",
    "        mfcc = np.vstack((mfcc, padding))\n",
    "    \n",
    "    return mfcc\n",
    "\n",
    "# Load labels from CSV\n",
    "labels_df = pd.read_csv(dataset_path)\n",
    "\n",
    "# Map labels to numeric values\n",
    "label_map = {'short': 0, 'medium': 1, 'long': 2}\n",
    "\n",
    "# Function to calculate accuracy\n",
    "def evaluate_model(ort_session, labels_df, audio_folder):\n",
    "    correct = 0\n",
    "    total = 0\n",
    "    \n",
    "    for idx, row in labels_df.iterrows():\n",
    "        file_name = row['file_name']\n",
    "        true_label = label_map[row['label']]\n",
    "        \n",
    "        # Extract features from the audio file\n",
    "        file_path = os.path.join(audio_folder, file_name)\n",
    "        features = extract_sequential_features(file_path)\n",
    "        \n",
    "        # Prepare input for ONNX model\n",
    "        input_data = np.expand_dims(features, axis=0).astype(np.float32)  # [batch_size, seq_length, n_mfcc]\n",
    "        \n",
    "        # Perform inference with the ONNX model\n",
    "        outputs = ort_session.run(None, {'input': input_data})\n",
    "        predicted_label = np.argmax(outputs[0])\n",
    "        \n",
    "        # Check if the prediction is correct\n",
    "        if predicted_label == true_label:\n",
    "            correct += 1\n",
    "        total += 1\n",
    "    \n",
    "    # Calculate accuracy\n",
    "    accuracy = correct / total\n",
    "    return accuracy\n",
    "\n",
    "# Evaluate the model\n",
    "audio_folder = \"../dataset_normalized\"\n",
    "accuracy = evaluate_model(ort_session, labels_df, audio_folder)\n",
    "print(f\"ONNX model accuracy: {accuracy * 100:.2f}%\")"
   ]
  }
 ],
 "metadata": {
  "kernelspec": {
   "display_name": "aicp",
   "language": "python",
   "name": "python3"
  },
  "language_info": {
   "codemirror_mode": {
    "name": "ipython",
    "version": 3
   },
   "file_extension": ".py",
   "mimetype": "text/x-python",
   "name": "python",
   "nbconvert_exporter": "python",
   "pygments_lexer": "ipython3",
   "version": "3.10.14"
  }
 },
 "nbformat": 4,
 "nbformat_minor": 2
}
