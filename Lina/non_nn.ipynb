{
 "cells": [
  {
   "cell_type": "code",
   "execution_count": 3,
   "metadata": {},
   "outputs": [],
   "source": [
    "import librosa\n",
    "import os\n",
    "import numpy as np\n",
    "import pandas as pd\n",
    "from sklearn.model_selection import train_test_split\n",
    "from sklearn.preprocessing import LabelEncoder\n",
    "from sklearn.linear_model import LogisticRegression\n",
    "from sklearn.metrics import classification_report, accuracy_score, confusion_matrix\n",
    "from sklearn.ensemble import RandomForestClassifier\n",
    "\n",
    "import seaborn as sns\n",
    "import matplotlib.pyplot as plt"
   ]
  },
  {
   "cell_type": "markdown",
   "metadata": {},
   "source": [
    "# Logistic Regression\n",
    "\n",
    "**When to use**: When the output variables are categorical (such as short, medium, long). It is a simple and efficient technique for binary or multi-class classification.\n",
    "\n",
    "**Advantage**: Fast, easy to implement and interpret.\n",
    "\n",
    "**Applicable**: Since our problem has three classes, we can use a multinomial logistic regression."
   ]
  },
  {
   "cell_type": "code",
   "execution_count": 2,
   "metadata": {},
   "outputs": [
    {
     "name": "stdout",
     "output_type": "stream",
     "text": [
      "Accuracy: 0.8864864864864865\n",
      "\n",
      "Classification Report:\n",
      "               precision    recall  f1-score   support\n",
      "\n",
      "        long       0.92      0.96      0.94        70\n",
      "      medium       0.78      0.69      0.73        42\n",
      "       short       0.91      0.93      0.92        73\n",
      "\n",
      "    accuracy                           0.89       185\n",
      "   macro avg       0.87      0.86      0.86       185\n",
      "weighted avg       0.88      0.89      0.88       185\n",
      "\n"
     ]
    }
   ],
   "source": [
    "# Path to the dataset\n",
    "audio_folder = '../dataset_normalized'\n",
    "\n",
    "# Function to extract audio features\n",
    "def extract_features(file_path):\n",
    "    y, sr = librosa.load(file_path)\n",
    "\n",
    "    # 1. Duration\n",
    "    duration = librosa.get_duration(y=y, sr=sr)\n",
    "\n",
    "    # 2. Amplitude (maximum amplitude)\n",
    "    amplitude_max = np.max(np.abs(y))\n",
    "\n",
    "    # 3. FFT (Frequency Analysis)\n",
    "    fft = np.fft.fft(y)\n",
    "    magnitude = np.abs(fft)\n",
    "    frequency = np.fft.fftfreq(len(magnitude), 1/sr)\n",
    "    dominant_frequency = frequency[np.argmax(magnitude)]\n",
    "\n",
    "    # 4. Spectral Centroid\n",
    "    spectral_centroid = librosa.feature.spectral_centroid(y=y, sr=sr).mean()\n",
    "\n",
    "    # 5. Zero Crossing Rate\n",
    "    zero_crossing_rate = librosa.feature.zero_crossing_rate(y).mean()\n",
    "\n",
    "    # Return all features as a list\n",
    "    return [duration, amplitude_max, dominant_frequency, spectral_centroid, zero_crossing_rate]\n",
    "\n",
    "# Create lists to store file names and their corresponding features\n",
    "audio_features = []\n",
    "labels = []\n",
    "\n",
    "# Assuming you have a separate CSV file with the labels for each file\n",
    "labels_df = pd.read_csv('audio_durations_labels.csv')  # Load the labels CSV\n",
    "\n",
    "# Iterate through all audio files in the dataset folder\n",
    "for filename in os.listdir(audio_folder):\n",
    "    if filename.endswith('.wav'):  # Make sure to adjust if the files are different\n",
    "        file_path = os.path.join(audio_folder, filename)\n",
    "        # Extract features from the audio file\n",
    "        features = extract_features(file_path)\n",
    "        # Find the label from the labels_df for this file\n",
    "        label = labels_df[labels_df['file_name'] == filename]['label'].values[0]\n",
    "        \n",
    "        # Append the features and label\n",
    "        audio_features.append(features)\n",
    "        labels.append(label)\n",
    "\n",
    "# Convert the audio features and labels into a DataFrame\n",
    "features_df = pd.DataFrame(audio_features, columns=['duration', 'amplitude_max', 'dominant_frequency', 'spectral_centroid', 'zero_crossing_rate'])\n",
    "features_df['label'] = labels\n",
    "\n",
    "# Prepare the features (X) and labels (y)\n",
    "X = features_df[['amplitude_max', 'dominant_frequency', 'spectral_centroid', 'zero_crossing_rate']]  # You can include/exclude any feature\n",
    "y = features_df['label']\n",
    "\n",
    "# Encode the labels (short, medium, long) into numerical values\n",
    "label_encoder = LabelEncoder()\n",
    "y_encoded = label_encoder.fit_transform(y)\n",
    "\n",
    "# Split the data into training and testing sets\n",
    "X_train, X_test, y_train, y_test = train_test_split(X, y_encoded, test_size=0.3, random_state=42)\n",
    "\n",
    "# Initialize the logistic regression model\n",
    "log_reg = LogisticRegression(max_iter=1000)\n",
    "\n",
    "# Train the model\n",
    "log_reg.fit(X_train, y_train)\n",
    "\n",
    "# Make predictions on the test set\n",
    "y_pred = log_reg.predict(X_test)\n",
    "\n",
    "# Evaluate the model\n",
    "print(\"Accuracy:\", accuracy_score(y_test, y_pred))\n",
    "print(\"\\nClassification Report:\\n\", classification_report(y_test, y_pred, target_names=label_encoder.classes_))\n"
   ]
  },
  {
   "cell_type": "markdown",
   "metadata": {},
   "source": [
    "# Random Forest Classifier\n",
    "**When to use**: When you have multiple features and want to capture complex interactions between them. Random Forest is an ensemble of decision trees and generally provides good results for classification.\n",
    "\n",
    "**Advantage**: Handles complex data well and is less susceptible to overfitting than a single decision tree."
   ]
  },
  {
   "cell_type": "code",
   "execution_count": 5,
   "metadata": {},
   "outputs": [
    {
     "data": {
      "text/html": [
       "<div>\n",
       "<style scoped>\n",
       "    .dataframe tbody tr th:only-of-type {\n",
       "        vertical-align: middle;\n",
       "    }\n",
       "\n",
       "    .dataframe tbody tr th {\n",
       "        vertical-align: top;\n",
       "    }\n",
       "\n",
       "    .dataframe thead th {\n",
       "        text-align: right;\n",
       "    }\n",
       "</style>\n",
       "<table border=\"1\" class=\"dataframe\">\n",
       "  <thead>\n",
       "    <tr style=\"text-align: right;\">\n",
       "      <th></th>\n",
       "      <th>duration</th>\n",
       "      <th>amplitude_max</th>\n",
       "      <th>dominant_frequency</th>\n",
       "      <th>spectral_centroid</th>\n",
       "      <th>zero_crossing_rate</th>\n",
       "      <th>file_name</th>\n",
       "      <th>duration_seconds</th>\n",
       "      <th>label</th>\n",
       "    </tr>\n",
       "  </thead>\n",
       "  <tbody>\n",
       "    <tr>\n",
       "      <th>0</th>\n",
       "      <td>3.400000</td>\n",
       "      <td>0.110510</td>\n",
       "      <td>54.705882</td>\n",
       "      <td>2693.875832</td>\n",
       "      <td>0.120811</td>\n",
       "      <td>IMG_6969.wav</td>\n",
       "      <td>3.400000</td>\n",
       "      <td>short</td>\n",
       "    </tr>\n",
       "    <tr>\n",
       "      <th>1</th>\n",
       "      <td>13.030023</td>\n",
       "      <td>0.131408</td>\n",
       "      <td>101.841726</td>\n",
       "      <td>2400.584924</td>\n",
       "      <td>0.112325</td>\n",
       "      <td>IMG_6955.wav</td>\n",
       "      <td>13.030023</td>\n",
       "      <td>long</td>\n",
       "    </tr>\n",
       "    <tr>\n",
       "      <th>2</th>\n",
       "      <td>8.780000</td>\n",
       "      <td>0.107243</td>\n",
       "      <td>102.733485</td>\n",
       "      <td>2363.703953</td>\n",
       "      <td>0.105469</td>\n",
       "      <td>IMG_6941.wav</td>\n",
       "      <td>8.780000</td>\n",
       "      <td>medium</td>\n",
       "    </tr>\n",
       "    <tr>\n",
       "      <th>3</th>\n",
       "      <td>18.310023</td>\n",
       "      <td>0.596768</td>\n",
       "      <td>49.371867</td>\n",
       "      <td>2378.741314</td>\n",
       "      <td>0.084683</td>\n",
       "      <td>IMG_6772.wav</td>\n",
       "      <td>18.310023</td>\n",
       "      <td>long</td>\n",
       "    </tr>\n",
       "    <tr>\n",
       "      <th>4</th>\n",
       "      <td>13.530023</td>\n",
       "      <td>0.336703</td>\n",
       "      <td>131.115819</td>\n",
       "      <td>2262.181480</td>\n",
       "      <td>0.114526</td>\n",
       "      <td>IMG_9327.wav</td>\n",
       "      <td>13.530023</td>\n",
       "      <td>long</td>\n",
       "    </tr>\n",
       "  </tbody>\n",
       "</table>\n",
       "</div>"
      ],
      "text/plain": [
       "    duration  amplitude_max  dominant_frequency  spectral_centroid  \\\n",
       "0   3.400000       0.110510           54.705882        2693.875832   \n",
       "1  13.030023       0.131408          101.841726        2400.584924   \n",
       "2   8.780000       0.107243          102.733485        2363.703953   \n",
       "3  18.310023       0.596768           49.371867        2378.741314   \n",
       "4  13.530023       0.336703          131.115819        2262.181480   \n",
       "\n",
       "   zero_crossing_rate     file_name  duration_seconds   label  \n",
       "0            0.120811  IMG_6969.wav          3.400000   short  \n",
       "1            0.112325  IMG_6955.wav         13.030023    long  \n",
       "2            0.105469  IMG_6941.wav          8.780000  medium  \n",
       "3            0.084683  IMG_6772.wav         18.310023    long  \n",
       "4            0.114526  IMG_9327.wav         13.530023    long  "
      ]
     },
     "execution_count": 5,
     "metadata": {},
     "output_type": "execute_result"
    }
   ],
   "source": [
    "# Load the combined dataset (features + labels)\n",
    "combined_df = pd.read_csv('combined_audio_data.csv')\n",
    "\n",
    "# Display the first few rows\n",
    "combined_df.head()\n"
   ]
  },
  {
   "cell_type": "markdown",
   "metadata": {},
   "source": [
    "## Prepare the Data\n",
    "We will use the features (e.g., amplitude_max, spectral_centroid, etc.) as the input (X), and the label (short, medium, long) as the target (y)."
   ]
  },
  {
   "cell_type": "code",
   "execution_count": 6,
   "metadata": {},
   "outputs": [],
   "source": [
    "# Prepare the features (X) and the target (y)\n",
    "X = combined_df[['amplitude_max', 'spectral_centroid', 'dominant_frequency', 'zero_crossing_rate']]\n",
    "y = combined_df['label']\n",
    "\n",
    "# Split the data into training and testing sets (70% train, 30% test)\n",
    "X_train, X_test, y_train, y_test = train_test_split(X, y, test_size=0.3, random_state=42)\n"
   ]
  },
  {
   "cell_type": "markdown",
   "metadata": {},
   "source": [
    "## Train the Random Forest Classifier\n",
    "Now, we will train the Random Forest Classifier and fit it to the training data."
   ]
  },
  {
   "cell_type": "code",
   "execution_count": 7,
   "metadata": {},
   "outputs": [],
   "source": [
    "# Initialize the Random Forest Classifier\n",
    "rf_model = RandomForestClassifier(n_estimators=100, class_weight='balanced', random_state=42)\n",
    "\n",
    "# Train the model\n",
    "rf_model.fit(X_train, y_train)\n",
    "\n",
    "# Make predictions on the test set\n",
    "y_pred = rf_model.predict(X_test)\n"
   ]
  },
  {
   "cell_type": "markdown",
   "metadata": {},
   "source": [
    "## Evaluate the Model\n",
    "After training the model, we will evaluate its performance using accuracy, confusion matrix, and classification report."
   ]
  },
  {
   "cell_type": "code",
   "execution_count": 8,
   "metadata": {},
   "outputs": [
    {
     "name": "stdout",
     "output_type": "stream",
     "text": [
      "Accuracy: 0.5243\n",
      "\n",
      "Classification Report:\n",
      "               precision    recall  f1-score   support\n",
      "\n",
      "        long       0.56      0.71      0.63        70\n",
      "      medium       0.33      0.21      0.26        42\n",
      "       short       0.55      0.52      0.54        73\n",
      "\n",
      "    accuracy                           0.52       185\n",
      "   macro avg       0.48      0.48      0.48       185\n",
      "weighted avg       0.51      0.52      0.51       185\n",
      "\n"
     ]
    },
    {
     "data": {
      "image/png": "[encoded data removed]",
      "text/plain": [
       "<Figure size 800x600 with 2 Axes>"
      ]
     },
     "metadata": {},
     "output_type": "display_data"
    }
   ],
   "source": [
    "# Evaluate accuracy\n",
    "accuracy = accuracy_score(y_test, y_pred)\n",
    "print(f'Accuracy: {accuracy:.4f}')\n",
    "\n",
    "# Classification report\n",
    "print(\"\\nClassification Report:\\n\", classification_report(y_test, y_pred))\n",
    "\n",
    "# Confusion Matrix\n",
    "cm = confusion_matrix(y_test, y_pred)\n",
    "\n",
    "# Visualize the confusion matrix with seaborn heatmap\n",
    "plt.figure(figsize=(8, 6))\n",
    "sns.heatmap(cm, annot=True, fmt='d', cmap='Blues', xticklabels=rf_model.classes_, yticklabels=rf_model.classes_)\n",
    "plt.title('Confusion Matrix')\n",
    "plt.ylabel('Actual Label')\n",
    "plt.xlabel('Predicted Label')\n",
    "plt.show()\n"
   ]
  }
 ],
 "metadata": {
  "kernelspec": {
   "display_name": "aicp",
   "language": "python",
   "name": "python3"
  },
  "language_info": {
   "codemirror_mode": {
    "name": "ipython",
    "version": 3
   },
   "file_extension": ".py",
   "mimetype": "text/x-python",
   "name": "python",
   "nbconvert_exporter": "python",
   "pygments_lexer": "ipython3",
   "version": "3.10.14"
  }
 },
 "nbformat": 4,
 "nbformat_minor": 2
}
