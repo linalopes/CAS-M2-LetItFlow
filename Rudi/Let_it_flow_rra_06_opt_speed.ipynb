{
 "cells": [
  {
   "cell_type": "code",
   "execution_count": 1,
   "metadata": {},
   "outputs": [],
   "source": [
    "# Cell 1: Import Libraries\n",
    "import os\n",
    "import librosa\n",
    "import numpy as np\n",
    "import torch\n",
    "from torch.utils.data import Dataset, DataLoader\n",
    "import torch.nn as nn\n",
    "import torch.optim as optim\n",
    "from tqdm.notebook import tqdm\n",
    "import matplotlib.pyplot as plt\n",
    "%matplotlib inline\n"
   ]
  },
  {
   "cell_type": "code",
   "execution_count": 3,
   "metadata": {},
   "outputs": [],
   "source": [
    "# Cell 2: Define Preprocessing Functions\n",
    "\n",
    "def normalize_loudness(y):\n",
    "    \"\"\"Normalize audio to have consistent loudness.\"\"\"\n",
    "    rms = np.sqrt(np.mean(y**2))\n",
    "    if rms > 0:\n",
    "        y = y / rms\n",
    "    return y\n",
    "\n",
    "def load_and_preprocess_audio(file_path, target_sr=16000):\n",
    "    \"\"\"Load and preprocess audio file.\"\"\"\n",
    "    y, sr = librosa.load(file_path, sr=None)\n",
    "    # Downsample if necessary\n",
    "    if sr != target_sr:\n",
    "        y = librosa.resample(y, orig_sr=sr, target_sr=target_sr)\n",
    "    # Normalize loudness\n",
    "    y = normalize_loudness(y)\n",
    "    return y\n",
    "\n",
    "def segment_audio(y, sr, segment_length=3.0, hop_length=1.0):\n",
    "    \"\"\"Segment audio into overlapping chunks.\"\"\"\n",
    "    segment_samples = int(segment_length * sr)\n",
    "    hop_samples = int(hop_length * sr)\n",
    "    segments = []\n",
    "    for start in range(0, len(y) - segment_samples + 1, hop_samples):\n",
    "        end = start + segment_samples\n",
    "        segments.append(y[start:end])\n",
    "    return segments\n",
    "\n",
    "def estimate_tempo(y, sr=16000):\n",
    "    \"\"\"Estimate the tempo of an audio signal.\"\"\"\n",
    "    try:\n",
    "        tempo, _ = librosa.beat.beat_track(y=y, sr=sr, trim=False)\n",
    "        if tempo == 0:\n",
    "            tempo = np.nan  # Handle zero tempo\n",
    "    except Exception as e:\n",
    "        print(f\"Error estimating tempo: {e}\")\n",
    "        tempo = np.nan\n",
    "    return tempo\n"
   ]
  },
  {
   "cell_type": "code",
   "execution_count": 4,
   "metadata": {},
   "outputs": [
    {
     "data": {
      "application/vnd.jupyter.widget-view+json": {
       "model_id": "0817c3343c714b2d95774278fd5c03bf",
       "version_major": 2,
       "version_minor": 0
      },
      "text/plain": [
       "Loading and preprocessing audio files:   0%|          | 0/615 [00:00<?, ?it/s]"
      ]
     },
     "metadata": {},
     "output_type": "display_data"
    }
   ],
   "source": [
    "# Cell 3: Load and Process Audio Files\n",
    "\n",
    "# Path to your dataset folder\n",
    "dataset_path = '../dataset'\n",
    "\n",
    "# Get list of audio files\n",
    "audio_files = [os.path.join(dataset_path, f) for f in os.listdir(dataset_path) if f.endswith('.wav')]\n",
    "\n",
    "# Preprocess and store audio segments and tempo labels\n",
    "audio_segments = []\n",
    "tempo_labels = []\n",
    "\n",
    "for file in tqdm(audio_files, desc='Loading and preprocessing audio files'):\n",
    "    y = load_and_preprocess_audio(file)\n",
    "    segments = segment_audio(y, sr=16000, segment_length=3.0, hop_length=1.0)\n",
    "    for segment in segments:\n",
    "        # Estimate tempo for each segment\n",
    "        tempo = estimate_tempo(segment)\n",
    "        audio_segments.append(segment)\n",
    "        tempo_labels.append(tempo)\n",
    "\n",
    "# Convert tempo_labels to a NumPy array\n",
    "tempo_labels = np.array(tempo_labels)\n",
    "\n",
    "# Identify valid indices where tempo is not NaN\n",
    "valid_indices = ~np.isnan(tempo_labels)\n",
    "\n",
    "# Filter the audio_segments and tempo_labels\n",
    "audio_segments = [audio_segments[i] for i in range(len(audio_segments)) if valid_indices[i]]\n",
    "tempo_labels = tempo_labels[valid_indices]\n"
   ]
  },
  {
   "cell_type": "code",
   "execution_count": 5,
   "metadata": {},
   "outputs": [],
   "source": [
    "# Cell 4: Define Feature Extraction Function\n",
    "\n",
    "def extract_features(y, sr=16000):\n",
    "    \"\"\"Extract various audio features.\"\"\"\n",
    "    # Tempogram features\n",
    "    oenv = librosa.onset.onset_strength(y=y, sr=sr)\n",
    "    tempogram = librosa.feature.tempogram(onset_envelope=oenv, sr=sr)\n",
    "    tempogram_mean = np.mean(tempogram, axis=1)\n",
    "    \n",
    "    # MFCC features\n",
    "    mfcc = librosa.feature.mfcc(y=y, sr=sr, n_mfcc=13)\n",
    "    mfcc_mean = np.mean(mfcc, axis=1)\n",
    "    \n",
    "    # Chroma features\n",
    "    chroma = librosa.feature.chroma_stft(y=y, sr=sr)\n",
    "    chroma_mean = np.mean(chroma, axis=1)\n",
    "    \n",
    "    # Spectral Contrast\n",
    "    contrast = librosa.feature.spectral_contrast(y=y, sr=sr)\n",
    "    contrast_mean = np.mean(contrast, axis=1)\n",
    "    \n",
    "    # Concatenate all features\n",
    "    features = np.concatenate((tempogram_mean, mfcc_mean, chroma_mean, contrast_mean))\n",
    "    return features\n",
    "\n",
    "\n"
   ]
  },
  {
   "cell_type": "code",
   "execution_count": 6,
   "metadata": {},
   "outputs": [
    {
     "data": {
      "application/vnd.jupyter.widget-view+json": {
       "model_id": "e3f64f0367ce4d868d08ecd3175de3a7",
       "version_major": 2,
       "version_minor": 0
      },
      "text/plain": [
       "Extracting features:   0%|          | 0/5638 [00:00<?, ?it/s]"
      ]
     },
     "metadata": {},
     "output_type": "display_data"
    }
   ],
   "source": [
    "# Cell 5: Extract Features from All Segments\n",
    "\n",
    "# Extract features for all segments\n",
    "feature_vectors = []\n",
    "\n",
    "for y in tqdm(audio_segments, desc='Extracting features'):\n",
    "    features = extract_features(y)\n",
    "    feature_vectors.append(features)\n",
    "\n",
    "# Convert feature_vectors to a NumPy array\n",
    "feature_vectors = np.array(feature_vectors)\n"
   ]
  },
  {
   "cell_type": "code",
   "execution_count": 7,
   "metadata": {},
   "outputs": [
    {
     "name": "stdout",
     "output_type": "stream",
     "text": [
      "Feature vectors normalized shape: (5638, 416)\n"
     ]
    }
   ],
   "source": [
    "# Cell 6: Normalize Features\n",
    "\n",
    "# Normalize features\n",
    "feature_mean = np.mean(feature_vectors, axis=0)\n",
    "feature_std = np.std(feature_vectors, axis=0)\n",
    "feature_std[feature_std == 0] = 1e-6  # Avoid division by zero\n",
    "feature_vectors_normalized = (feature_vectors - feature_mean) / feature_std\n",
    "\n",
    "# Add a print statement to confirm variable creation\n",
    "print(\"Feature vectors normalized shape:\", feature_vectors_normalized.shape)\n"
   ]
  },
  {
   "cell_type": "code",
   "execution_count": 8,
   "metadata": {},
   "outputs": [],
   "source": [
    "# Cell 7: Normalize Tempo Labels\n",
    "\n",
    "# Compute the maximum tempo value\n",
    "max_tempo = np.max(tempo_labels)\n",
    "\n",
    "# Normalize tempo labels\n",
    "tempo_labels_normalized = tempo_labels / max_tempo\n"
   ]
  },
  {
   "cell_type": "code",
   "execution_count": 9,
   "metadata": {},
   "outputs": [],
   "source": [
    "# Cell 8: Create a Custom Dataset\n",
    "\n",
    "from torch.utils.data import Dataset, DataLoader\n",
    "\n",
    "class TempoDataset(Dataset):\n",
    "    def __init__(self, feature_vectors, tempo_labels):\n",
    "        self.feature_vectors = torch.tensor(feature_vectors).float()\n",
    "        self.tempo_labels = torch.tensor(tempo_labels).float()\n",
    "\n",
    "    def __len__(self):\n",
    "        return len(self.feature_vectors)\n",
    "\n",
    "    def __getitem__(self, idx):\n",
    "        return self.feature_vectors[idx], self.tempo_labels[idx]\n"
   ]
  },
  {
   "cell_type": "code",
   "execution_count": 10,
   "metadata": {},
   "outputs": [],
   "source": [
    "# Cell 9: Split Dataset\n",
    "\n",
    "from sklearn.model_selection import train_test_split\n",
    "\n",
    "# Use normalized features and labels\n",
    "train_features, val_features, train_labels, val_labels = train_test_split(\n",
    "    feature_vectors_normalized, tempo_labels_normalized, test_size=0.2, random_state=42)\n",
    "\n",
    "\n",
    "# Cell 10: Create DataLoaders\n",
    "\n",
    "# Create DataLoaders\n",
    "train_dataset = TempoDataset(train_features, train_labels)\n",
    "train_dataloader = DataLoader(train_dataset, batch_size=32, shuffle=True)\n",
    "\n",
    "val_dataset = TempoDataset(val_features, val_labels)\n",
    "val_dataloader = DataLoader(val_dataset, batch_size=32, shuffle=False)\n"
   ]
  },
  {
   "cell_type": "code",
   "execution_count": 11,
   "metadata": {},
   "outputs": [],
   "source": [
    "# Cell 11: Define the Regression Model\n",
    "\n",
    "import torch.nn as nn\n",
    "\n",
    "class TempoRegressor(nn.Module):\n",
    "    def __init__(self, input_size, hidden_size):\n",
    "        super(TempoRegressor, self).__init__()\n",
    "        self.fc1 = nn.Linear(input_size, hidden_size)\n",
    "        self.relu1 = nn.ReLU()\n",
    "        self.dropout1 = nn.Dropout(p=0.5)\n",
    "        self.fc2 = nn.Linear(hidden_size, hidden_size // 2)\n",
    "        self.relu2 = nn.ReLU()\n",
    "        self.dropout2 = nn.Dropout(p=0.5)\n",
    "        self.fc3 = nn.Linear(hidden_size // 2, 1)\n",
    "        self.sigmoid = nn.Sigmoid()  # Output between 0 and 1\n",
    "\n",
    "    def forward(self, x):\n",
    "        x = self.fc1(x)\n",
    "        x = self.relu1(x)\n",
    "        x = self.dropout1(x)\n",
    "        x = self.fc2(x)\n",
    "        x = self.relu2(x)\n",
    "        x = self.dropout2(x)\n",
    "        x = self.fc3(x)\n",
    "        x = self.sigmoid(x)\n",
    "        return x.squeeze()\n"
   ]
  },
  {
   "cell_type": "code",
   "execution_count": 12,
   "metadata": {},
   "outputs": [],
   "source": [
    "# Cell 12: Initialize the Model\n",
    "\n",
    "# Define input_size and hidden_size based on the new feature vector size\n",
    "input_size = feature_vectors_normalized.shape[1]  # Number of features\n",
    "hidden_size = 128  # Adjusted hidden size\n",
    "\n",
    "model = TempoRegressor(input_size, hidden_size)\n"
   ]
  },
  {
   "cell_type": "code",
   "execution_count": 13,
   "metadata": {},
   "outputs": [],
   "source": [
    "# Cell 13: Define Loss Function and Optimizer\n",
    "\n",
    "import torch.optim as optim\n",
    "\n",
    "criterion = nn.L1Loss()  # Using Mean Absolute Error loss\n",
    "optimizer = optim.Adam(model.parameters(), lr=0.0001)  # Reduced learning rate\n"
   ]
  },
  {
   "cell_type": "markdown",
   "metadata": {},
   "source": [
    "!!!!! OPTIONAL !!!! \n"
   ]
  },
  {
   "cell_type": "markdown",
   "metadata": {},
   "source": [
    "Resume Training form a previously saved model. (This means you need to run step 7 at least one time before)\n",
    "\n",
    "\n"
   ]
  },
  {
   "cell_type": "code",
   "execution_count": 49,
   "metadata": {},
   "outputs": [
    {
     "name": "stdout",
     "output_type": "stream",
     "text": [
      "Best model loaded successfully for evaluation.\n"
     ]
    },
    {
     "name": "stderr",
     "output_type": "stream",
     "text": [
      "/var/folders/5k/5lwm6jlm8xjb4h00r6bnjs280000gn/T/ipykernel_16769/1124066247.py:15: FutureWarning: You are using `torch.load` with `weights_only=False` (the current default value), which uses the default pickle module implicitly. It is possible to construct malicious pickle data which will execute arbitrary code during unpickling (See https://github.com/pytorch/pytorch/blob/main/SECURITY.md#untrusted-models for more details). In a future release, the default value for `weights_only` will be flipped to `True`. This limits the functions that could be executed during unpickling. Arbitrary objects will no longer be allowed to be loaded via this mode unless they are explicitly allowlisted by the user via `torch.serialization.add_safe_globals`. We recommend you start setting `weights_only=True` for any use case where you don't have full control of the loaded file. Please open an issue on GitHub for any issues related to this experimental feature.\n",
      "  model.load_state_dict(torch.load(best_model_path, map_location=device))\n"
     ]
    }
   ],
   "source": [
    "# Cell Before: Load the Best Model\n",
    "\n",
    "import torch\n",
    "\n",
    "# Ensure the model class TempoRegressor is defined\n",
    "# and input_size, hidden_size are set\n",
    "\n",
    "# Initialize the model\n",
    "model = TempoRegressor(input_size, hidden_size)\n",
    "model.to(device)\n",
    "\n",
    "# Load the best model\n",
    "checkpoint_dir = 'checkpoints_04'  # Update as needed\n",
    "best_model_path = os.path.join(checkpoint_dir, 'best_tempo_model_06_speed.pth')\n",
    "model.load_state_dict(torch.load(best_model_path, map_location=device))\n",
    "model.eval()\n",
    "\n",
    "print(\"Best model loaded successfully for evaluation.\")\n"
   ]
  },
  {
   "cell_type": "code",
   "execution_count": 50,
   "metadata": {},
   "outputs": [
    {
     "name": "stderr",
     "output_type": "stream",
     "text": [
      "Epoch 1/50: 100%|██████████| 141/141 [00:00<00:00, 2091.65it/s]\n"
     ]
    },
    {
     "name": "stdout",
     "output_type": "stream",
     "text": [
      "Epoch [1/50], Train Loss: 0.0661, Val Loss: 0.0739\n",
      "Best model saved with validation loss: 0.0739\n"
     ]
    },
    {
     "name": "stderr",
     "output_type": "stream",
     "text": [
      "Epoch 2/50: 100%|██████████| 141/141 [00:00<00:00, 1819.76it/s]\n"
     ]
    },
    {
     "name": "stdout",
     "output_type": "stream",
     "text": [
      "Epoch [2/50], Train Loss: 0.0653, Val Loss: 0.0739\n",
      "No improvement in validation loss for 1 epoch(s).\n"
     ]
    },
    {
     "name": "stderr",
     "output_type": "stream",
     "text": [
      "Epoch 3/50: 100%|██████████| 141/141 [00:00<00:00, 2544.44it/s]\n"
     ]
    },
    {
     "name": "stdout",
     "output_type": "stream",
     "text": [
      "Epoch [3/50], Train Loss: 0.0649, Val Loss: 0.0739\n",
      "No improvement in validation loss for 2 epoch(s).\n"
     ]
    },
    {
     "name": "stderr",
     "output_type": "stream",
     "text": [
      "Epoch 4/50: 100%|██████████| 141/141 [00:00<00:00, 2566.72it/s]\n"
     ]
    },
    {
     "name": "stdout",
     "output_type": "stream",
     "text": [
      "Epoch [4/50], Train Loss: 0.0652, Val Loss: 0.0739\n",
      "No improvement in validation loss for 3 epoch(s).\n"
     ]
    },
    {
     "name": "stderr",
     "output_type": "stream",
     "text": [
      "Epoch 5/50: 100%|██████████| 141/141 [00:00<00:00, 2345.43it/s]\n"
     ]
    },
    {
     "name": "stdout",
     "output_type": "stream",
     "text": [
      "Epoch [5/50], Train Loss: 0.0658, Val Loss: 0.0739\n",
      "No improvement in validation loss for 4 epoch(s).\n"
     ]
    },
    {
     "name": "stderr",
     "output_type": "stream",
     "text": [
      "Epoch 6/50: 100%|██████████| 141/141 [00:00<00:00, 2555.41it/s]\n"
     ]
    },
    {
     "name": "stdout",
     "output_type": "stream",
     "text": [
      "Epoch [6/50], Train Loss: 0.0652, Val Loss: 0.0739\n",
      "No improvement in validation loss for 5 epoch(s).\n"
     ]
    },
    {
     "name": "stderr",
     "output_type": "stream",
     "text": [
      "Epoch 7/50: 100%|██████████| 141/141 [00:00<00:00, 2596.59it/s]\n"
     ]
    },
    {
     "name": "stdout",
     "output_type": "stream",
     "text": [
      "Epoch [7/50], Train Loss: 0.0653, Val Loss: 0.0739\n",
      "No improvement in validation loss for 6 epoch(s).\n"
     ]
    },
    {
     "name": "stderr",
     "output_type": "stream",
     "text": [
      "Epoch 8/50: 100%|██████████| 141/141 [00:00<00:00, 2603.83it/s]\n"
     ]
    },
    {
     "name": "stdout",
     "output_type": "stream",
     "text": [
      "Epoch [8/50], Train Loss: 0.0652, Val Loss: 0.0739\n",
      "No improvement in validation loss for 7 epoch(s).\n"
     ]
    },
    {
     "name": "stderr",
     "output_type": "stream",
     "text": [
      "Epoch 9/50: 100%|██████████| 141/141 [00:00<00:00, 2576.75it/s]\n"
     ]
    },
    {
     "name": "stdout",
     "output_type": "stream",
     "text": [
      "Epoch [9/50], Train Loss: 0.0655, Val Loss: 0.0739\n",
      "No improvement in validation loss for 8 epoch(s).\n"
     ]
    },
    {
     "name": "stderr",
     "output_type": "stream",
     "text": [
      "Epoch 10/50: 100%|██████████| 141/141 [00:00<00:00, 2046.38it/s]\n"
     ]
    },
    {
     "name": "stdout",
     "output_type": "stream",
     "text": [
      "Epoch [10/50], Train Loss: 0.0659, Val Loss: 0.0739\n",
      "No improvement in validation loss for 9 epoch(s).\n"
     ]
    },
    {
     "name": "stderr",
     "output_type": "stream",
     "text": [
      "Epoch 11/50: 100%|██████████| 141/141 [00:00<00:00, 1337.85it/s]\n"
     ]
    },
    {
     "name": "stdout",
     "output_type": "stream",
     "text": [
      "Epoch [11/50], Train Loss: 0.0655, Val Loss: 0.0739\n",
      "No improvement in validation loss for 10 epoch(s).\n",
      "Early stopping triggered.\n"
     ]
    },
    {
     "data": {
      "image/png": "[encoded data removed]",
      "text/plain": [
       "<Figure size 1000x500 with 1 Axes>"
      ]
     },
     "metadata": {},
     "output_type": "display_data"
    }
   ],
   "source": [
    "# Cell 14: Train the Model\n",
    "\n",
    "import torch\n",
    "import matplotlib.pyplot as plt\n",
    "from tqdm import tqdm\n",
    "import os\n",
    "\n",
    "# Ensure 'checkpoint_dir' is defined\n",
    "checkpoint_dir = 'checkpoints_04'  # Update as needed\n",
    "os.makedirs(checkpoint_dir, exist_ok=True)\n",
    "\n",
    "# Check if a GPU is available and set device accordingly\n",
    "device = torch.device('cuda' if torch.cuda.is_available() else 'cpu')\n",
    "model.to(device)\n",
    "\n",
    "# Initialize lists to store losses\n",
    "train_losses = []\n",
    "val_losses = []\n",
    "\n",
    "# Set the number of epochs and early stopping parameters\n",
    "num_epochs = 50\n",
    "patience = 10\n",
    "best_val_loss = float('inf')\n",
    "counter = 0\n",
    "\n",
    "for epoch in range(num_epochs):\n",
    "    model.train()\n",
    "    train_loss = 0\n",
    "\n",
    "    for batch_data, batch_labels in tqdm(train_dataloader, desc=f'Epoch {epoch+1}/{num_epochs}'):\n",
    "        batch_data = batch_data.to(device)\n",
    "        batch_labels = batch_labels.to(device)\n",
    "\n",
    "        # Forward pass\n",
    "        outputs = model(batch_data)\n",
    "        loss = criterion(outputs, batch_labels)\n",
    "\n",
    "        # Backward pass and optimization\n",
    "        optimizer.zero_grad()\n",
    "        loss.backward()\n",
    "        optimizer.step()\n",
    "\n",
    "        train_loss += loss.item()\n",
    "\n",
    "    avg_train_loss = train_loss / len(train_dataloader)\n",
    "    train_losses.append(avg_train_loss)\n",
    "\n",
    "    # Validation\n",
    "    model.eval()\n",
    "    val_loss = 0\n",
    "\n",
    "    with torch.no_grad():\n",
    "        for val_data, val_labels in val_dataloader:\n",
    "            val_data = val_data.to(device)\n",
    "            val_labels = val_labels.to(device)\n",
    "\n",
    "            outputs = model(val_data)\n",
    "            loss = criterion(outputs, val_labels)\n",
    "\n",
    "            val_loss += loss.item()\n",
    "\n",
    "    avg_val_loss = val_loss / len(val_dataloader)\n",
    "    val_losses.append(avg_val_loss)\n",
    "\n",
    "    print(f'Epoch [{epoch+1}/{num_epochs}], Train Loss: {avg_train_loss:.4f}, Val Loss: {avg_val_loss:.4f}')\n",
    "\n",
    "    # Early Stopping and Checkpoint Saving\n",
    "    if avg_val_loss < best_val_loss:\n",
    "        best_val_loss = avg_val_loss\n",
    "        # Save only the model's state_dict\n",
    "        torch.save(model.state_dict(), os.path.join(checkpoint_dir, 'best_tempo_model_06_speed.pth'))\n",
    "        print(f\"Best model saved with validation loss: {best_val_loss:.4f}\")\n",
    "        counter = 0\n",
    "    else:\n",
    "        counter += 1\n",
    "        print(f\"No improvement in validation loss for {counter} epoch(s).\")\n",
    "        if counter >= patience:\n",
    "            print(\"Early stopping triggered.\")\n",
    "            break\n",
    "\n",
    "# Plot the training and validation losses\n",
    "plt.figure(figsize=(10, 5))\n",
    "plt.plot(train_losses, label=\"Train Loss\", color=\"blue\")\n",
    "plt.plot(val_losses, label=\"Validation Loss\", color=\"red\")\n",
    "plt.title('Training and Validation Loss Over Epochs')\n",
    "plt.xlabel('Epochs')\n",
    "plt.ylabel('MAE Loss')\n",
    "plt.legend()\n",
    "plt.show()\n"
   ]
  },
  {
   "cell_type": "markdown",
   "metadata": {},
   "source": []
  },
  {
   "cell_type": "markdown",
   "metadata": {},
   "source": [
    "Step 8: Analyze the Learned Representations\n",
    "8.1: Extract Latent Features from the training data"
   ]
  },
  {
   "cell_type": "code",
   "execution_count": 51,
   "metadata": {},
   "outputs": [
    {
     "name": "stdout",
     "output_type": "stream",
     "text": [
      "Mean Absolute Error in Tempo Estimation: 23.84 BPM\n"
     ]
    },
    {
     "name": "stderr",
     "output_type": "stream",
     "text": [
      "/var/folders/5k/5lwm6jlm8xjb4h00r6bnjs280000gn/T/ipykernel_16769/1784243112.py:6: FutureWarning: You are using `torch.load` with `weights_only=False` (the current default value), which uses the default pickle module implicitly. It is possible to construct malicious pickle data which will execute arbitrary code during unpickling (See https://github.com/pytorch/pytorch/blob/main/SECURITY.md#untrusted-models for more details). In a future release, the default value for `weights_only` will be flipped to `True`. This limits the functions that could be executed during unpickling. Arbitrary objects will no longer be allowed to be loaded via this mode unless they are explicitly allowlisted by the user via `torch.serialization.add_safe_globals`. We recommend you start setting `weights_only=True` for any use case where you don't have full control of the loaded file. Please open an issue on GitHub for any issues related to this experimental feature.\n",
      "  model.load_state_dict(torch.load('best_tempo_model_06_speed.pth'))\n"
     ]
    },
    {
     "data": {
      "image/png": "[encoded data removed]",
      "text/plain": [
       "<Figure size 800x600 with 1 Axes>"
      ]
     },
     "metadata": {},
     "output_type": "display_data"
    }
   ],
   "source": [
    "# Cell 15: Evaluate the Model\n",
    "\n",
    "from sklearn.metrics import mean_absolute_error\n",
    "\n",
    "# Load the best model\n",
    "model.load_state_dict(torch.load('best_tempo_model_06_speed.pth'))\n",
    "model.to(device)\n",
    "model.eval()\n",
    "\n",
    "true_tempos = []\n",
    "predicted_tempos = []\n",
    "\n",
    "with torch.no_grad():\n",
    "    for val_data, val_labels in val_dataloader:\n",
    "        val_data = val_data.to(device)\n",
    "        val_labels = val_labels.to(device)\n",
    "\n",
    "        outputs = model(val_data)\n",
    "\n",
    "        # Collect true and predicted tempos\n",
    "        true_tempos.extend(val_labels.cpu().numpy())\n",
    "        predicted_tempos.extend(outputs.cpu().numpy())\n",
    "\n",
    "# Rescale predictions and true labels back to original tempo range\n",
    "true_tempos_rescaled = [t * max_tempo for t in true_tempos]\n",
    "predicted_tempos_rescaled = [p * max_tempo for p in predicted_tempos]\n",
    "\n",
    "# Compute Mean Absolute Error\n",
    "mae = mean_absolute_error(true_tempos_rescaled, predicted_tempos_rescaled)\n",
    "print(f\"Mean Absolute Error in Tempo Estimation: {mae:.2f} BPM\")\n",
    "\n",
    "# Plot true vs. predicted tempos\n",
    "plt.figure(figsize=(8, 6))\n",
    "plt.scatter(true_tempos_rescaled, predicted_tempos_rescaled, alpha=0.7)\n",
    "plt.plot([min(true_tempos_rescaled), max(true_tempos_rescaled)],\n",
    "         [min(true_tempos_rescaled), max(true_tempos_rescaled)], 'r--')\n",
    "plt.xlabel('True Tempo (BPM)')\n",
    "plt.ylabel('Predicted Tempo (BPM)')\n",
    "plt.title('True vs. Predicted Tempo')\n",
    "plt.show()\n"
   ]
  },
  {
   "cell_type": "markdown",
   "metadata": {},
   "source": [
    "Transform to Tensorflow (Change Kernel to ts_onnx or so)"
   ]
  },
  {
   "cell_type": "code",
   "execution_count": 14,
   "metadata": {},
   "outputs": [],
   "source": [
    "import torch.nn as nn\n",
    "\n",
    "class TempoRegressor(nn.Module):\n",
    "    def __init__(self, input_size, hidden_size):\n",
    "        super(TempoRegressor, self).__init__()\n",
    "        self.fc1 = nn.Linear(input_size, hidden_size)\n",
    "        self.relu1 = nn.ReLU()\n",
    "        self.dropout1 = nn.Dropout(p=0.5)\n",
    "        self.fc2 = nn.Linear(hidden_size, hidden_size // 2)\n",
    "        self.relu2 = nn.ReLU()\n",
    "        self.dropout2 = nn.Dropout(p=0.5)\n",
    "        self.fc3 = nn.Linear(hidden_size // 2, 1)\n",
    "        self.sigmoid = nn.Sigmoid()  # Output between 0 and 1\n",
    "\n",
    "    def forward(self, x):\n",
    "        x = self.fc1(x)\n",
    "        x = self.relu1(x)\n",
    "        x = self.dropout1(x)\n",
    "        x = self.fc2(x)\n",
    "        x = self.relu2(x)\n",
    "        x = self.dropout2(x)\n",
    "        x = self.fc3(x)\n",
    "        x = self.sigmoid(x)\n",
    "        return x.squeeze()\n"
   ]
  },
  {
   "cell_type": "code",
   "execution_count": 15,
   "metadata": {},
   "outputs": [],
   "source": [
    "input_size = feature_vectors_normalized.shape[1]  # Based on your feature size\n",
    "hidden_size = 128  # You can adjust this based on your preference\n"
   ]
  },
  {
   "cell_type": "code",
   "execution_count": 16,
   "metadata": {},
   "outputs": [
    {
     "name": "stderr",
     "output_type": "stream",
     "text": [
      "/var/folders/5k/5lwm6jlm8xjb4h00r6bnjs280000gn/T/ipykernel_74546/3348742585.py:6: FutureWarning: You are using `torch.load` with `weights_only=False` (the current default value), which uses the default pickle module implicitly. It is possible to construct malicious pickle data which will execute arbitrary code during unpickling (See https://github.com/pytorch/pytorch/blob/main/SECURITY.md#untrusted-models for more details). In a future release, the default value for `weights_only` will be flipped to `True`. This limits the functions that could be executed during unpickling. Arbitrary objects will no longer be allowed to be loaded via this mode unless they are explicitly allowlisted by the user via `torch.serialization.add_safe_globals`. We recommend you start setting `weights_only=True` for any use case where you don't have full control of the loaded file. Please open an issue on GitHub for any issues related to this experimental feature.\n",
      "  model.load_state_dict(torch.load('best_tempo_model_06_speed.pth'))\n"
     ]
    }
   ],
   "source": [
    "import torch\n",
    "import onnx\n",
    "\n",
    "# Load your trained model\n",
    "model = TempoRegressor(input_size, hidden_size)\n",
    "model.load_state_dict(torch.load('best_tempo_model_06_speed.pth'))\n",
    "model.eval()\n",
    "\n",
    "# Dummy input for the model (size should match the input size of your model)\n",
    "dummy_input = torch.randn(1, input_size)\n",
    "\n",
    "# Export the model to ONNX\n",
    "torch.onnx.export(model, dummy_input, \"tempo_model.onnx\", opset_version=11)\n"
   ]
  },
  {
   "cell_type": "markdown",
   "metadata": {},
   "source": [
    "CHANGE KERNEL HERE TO ONX KERNEL"
   ]
  },
  {
   "cell_type": "code",
   "execution_count": 1,
   "metadata": {},
   "outputs": [
    {
     "name": "stdout",
     "output_type": "stream",
     "text": [
      "Collecting tensorflow==2.15.0\n",
      "  Downloading tensorflow-2.15.0-cp310-cp310-macosx_12_0_arm64.whl.metadata (3.6 kB)\n",
      "Collecting tensorflow-macos==2.15.0 (from tensorflow==2.15.0)\n",
      "  Downloading tensorflow_macos-2.15.0-cp310-cp310-macosx_12_0_arm64.whl.metadata (4.2 kB)\n",
      "Requirement already satisfied: absl-py>=1.0.0 in /Users/rrenoir/miniforge3/envs/aicp/lib/python3.10/site-packages (from tensorflow-macos==2.15.0->tensorflow==2.15.0) (2.1.0)\n",
      "Requirement already satisfied: astunparse>=1.6.0 in /Users/rrenoir/miniforge3/envs/aicp/lib/python3.10/site-packages (from tensorflow-macos==2.15.0->tensorflow==2.15.0) (1.6.3)\n",
      "Requirement already satisfied: flatbuffers>=23.5.26 in /Users/rrenoir/miniforge3/envs/aicp/lib/python3.10/site-packages (from tensorflow-macos==2.15.0->tensorflow==2.15.0) (24.3.25)\n",
      "Requirement already satisfied: gast!=0.5.0,!=0.5.1,!=0.5.2,>=0.2.1 in /Users/rrenoir/miniforge3/envs/aicp/lib/python3.10/site-packages (from tensorflow-macos==2.15.0->tensorflow==2.15.0) (0.6.0)\n",
      "Requirement already satisfied: google-pasta>=0.1.1 in /Users/rrenoir/miniforge3/envs/aicp/lib/python3.10/site-packages (from tensorflow-macos==2.15.0->tensorflow==2.15.0) (0.2.0)\n",
      "Requirement already satisfied: h5py>=2.9.0 in /Users/rrenoir/miniforge3/envs/aicp/lib/python3.10/site-packages (from tensorflow-macos==2.15.0->tensorflow==2.15.0) (3.11.0)\n",
      "Requirement already satisfied: libclang>=13.0.0 in /Users/rrenoir/miniforge3/envs/aicp/lib/python3.10/site-packages (from tensorflow-macos==2.15.0->tensorflow==2.15.0) (18.1.1)\n",
      "Collecting ml-dtypes~=0.2.0 (from tensorflow-macos==2.15.0->tensorflow==2.15.0)\n",
      "  Downloading ml_dtypes-0.2.0-cp310-cp310-macosx_10_9_universal2.whl.metadata (20 kB)\n",
      "Requirement already satisfied: numpy<2.0.0,>=1.23.5 in /Users/rrenoir/miniforge3/envs/aicp/lib/python3.10/site-packages (from tensorflow-macos==2.15.0->tensorflow==2.15.0) (1.26.4)\n",
      "Requirement already satisfied: opt-einsum>=2.3.2 in /Users/rrenoir/miniforge3/envs/aicp/lib/python3.10/site-packages (from tensorflow-macos==2.15.0->tensorflow==2.15.0) (3.3.0)\n",
      "Requirement already satisfied: packaging in /Users/rrenoir/miniforge3/envs/aicp/lib/python3.10/site-packages (from tensorflow-macos==2.15.0->tensorflow==2.15.0) (23.2)\n",
      "Requirement already satisfied: protobuf!=4.21.0,!=4.21.1,!=4.21.2,!=4.21.3,!=4.21.4,!=4.21.5,<5.0.0dev,>=3.20.3 in /Users/rrenoir/miniforge3/envs/aicp/lib/python3.10/site-packages (from tensorflow-macos==2.15.0->tensorflow==2.15.0) (4.25.5)\n",
      "Requirement already satisfied: setuptools in /Users/rrenoir/miniforge3/envs/aicp/lib/python3.10/site-packages (from tensorflow-macos==2.15.0->tensorflow==2.15.0) (72.2.0)\n",
      "Requirement already satisfied: six>=1.12.0 in /Users/rrenoir/miniforge3/envs/aicp/lib/python3.10/site-packages (from tensorflow-macos==2.15.0->tensorflow==2.15.0) (1.16.0)\n",
      "Requirement already satisfied: termcolor>=1.1.0 in /Users/rrenoir/miniforge3/envs/aicp/lib/python3.10/site-packages (from tensorflow-macos==2.15.0->tensorflow==2.15.0) (2.4.0)\n",
      "Requirement already satisfied: typing-extensions>=3.6.6 in /Users/rrenoir/miniforge3/envs/aicp/lib/python3.10/site-packages (from tensorflow-macos==2.15.0->tensorflow==2.15.0) (4.12.2)\n",
      "Collecting wrapt<1.15,>=1.11.0 (from tensorflow-macos==2.15.0->tensorflow==2.15.0)\n",
      "  Downloading wrapt-1.14.1-cp310-cp310-macosx_11_0_arm64.whl.metadata (6.7 kB)\n",
      "Requirement already satisfied: tensorflow-io-gcs-filesystem>=0.23.1 in /Users/rrenoir/miniforge3/envs/aicp/lib/python3.10/site-packages (from tensorflow-macos==2.15.0->tensorflow==2.15.0) (0.37.1)\n",
      "Requirement already satisfied: grpcio<2.0,>=1.24.3 in /Users/rrenoir/miniforge3/envs/aicp/lib/python3.10/site-packages (from tensorflow-macos==2.15.0->tensorflow==2.15.0) (1.66.1)\n",
      "Collecting tensorboard<2.16,>=2.15 (from tensorflow-macos==2.15.0->tensorflow==2.15.0)\n",
      "  Using cached tensorboard-2.15.2-py3-none-any.whl.metadata (1.7 kB)\n",
      "Collecting tensorflow-estimator<2.16,>=2.15.0 (from tensorflow-macos==2.15.0->tensorflow==2.15.0)\n",
      "  Using cached tensorflow_estimator-2.15.0-py2.py3-none-any.whl.metadata (1.3 kB)\n",
      "Collecting keras<2.16,>=2.15.0 (from tensorflow-macos==2.15.0->tensorflow==2.15.0)\n",
      "  Using cached keras-2.15.0-py3-none-any.whl.metadata (2.4 kB)\n",
      "Requirement already satisfied: wheel<1.0,>=0.23.0 in /Users/rrenoir/miniforge3/envs/aicp/lib/python3.10/site-packages (from astunparse>=1.6.0->tensorflow-macos==2.15.0->tensorflow==2.15.0) (0.44.0)\n",
      "Collecting google-auth<3,>=1.6.3 (from tensorboard<2.16,>=2.15->tensorflow-macos==2.15.0->tensorflow==2.15.0)\n",
      "  Using cached google_auth-2.35.0-py2.py3-none-any.whl.metadata (4.7 kB)\n",
      "Collecting google-auth-oauthlib<2,>=0.5 (from tensorboard<2.16,>=2.15->tensorflow-macos==2.15.0->tensorflow==2.15.0)\n",
      "  Using cached google_auth_oauthlib-1.2.1-py2.py3-none-any.whl.metadata (2.7 kB)\n",
      "Requirement already satisfied: markdown>=2.6.8 in /Users/rrenoir/miniforge3/envs/aicp/lib/python3.10/site-packages (from tensorboard<2.16,>=2.15->tensorflow-macos==2.15.0->tensorflow==2.15.0) (3.7)\n",
      "Requirement already satisfied: requests<3,>=2.21.0 in /Users/rrenoir/miniforge3/envs/aicp/lib/python3.10/site-packages (from tensorboard<2.16,>=2.15->tensorflow-macos==2.15.0->tensorflow==2.15.0) (2.32.3)\n",
      "Requirement already satisfied: tensorboard-data-server<0.8.0,>=0.7.0 in /Users/rrenoir/miniforge3/envs/aicp/lib/python3.10/site-packages (from tensorboard<2.16,>=2.15->tensorflow-macos==2.15.0->tensorflow==2.15.0) (0.7.2)\n",
      "Requirement already satisfied: werkzeug>=1.0.1 in /Users/rrenoir/miniforge3/envs/aicp/lib/python3.10/site-packages (from tensorboard<2.16,>=2.15->tensorflow-macos==2.15.0->tensorflow==2.15.0) (3.0.4)\n",
      "Collecting cachetools<6.0,>=2.0.0 (from google-auth<3,>=1.6.3->tensorboard<2.16,>=2.15->tensorflow-macos==2.15.0->tensorflow==2.15.0)\n",
      "  Using cached cachetools-5.5.0-py3-none-any.whl.metadata (5.3 kB)\n",
      "Collecting pyasn1-modules>=0.2.1 (from google-auth<3,>=1.6.3->tensorboard<2.16,>=2.15->tensorflow-macos==2.15.0->tensorflow==2.15.0)\n",
      "  Using cached pyasn1_modules-0.4.1-py3-none-any.whl.metadata (3.5 kB)\n",
      "Collecting rsa<5,>=3.1.4 (from google-auth<3,>=1.6.3->tensorboard<2.16,>=2.15->tensorflow-macos==2.15.0->tensorflow==2.15.0)\n",
      "  Using cached rsa-4.9-py3-none-any.whl.metadata (4.2 kB)\n",
      "Collecting requests-oauthlib>=0.7.0 (from google-auth-oauthlib<2,>=0.5->tensorboard<2.16,>=2.15->tensorflow-macos==2.15.0->tensorflow==2.15.0)\n",
      "  Using cached requests_oauthlib-2.0.0-py2.py3-none-any.whl.metadata (11 kB)\n",
      "Requirement already satisfied: charset-normalizer<4,>=2 in /Users/rrenoir/miniforge3/envs/aicp/lib/python3.10/site-packages (from requests<3,>=2.21.0->tensorboard<2.16,>=2.15->tensorflow-macos==2.15.0->tensorflow==2.15.0) (3.3.2)\n",
      "Requirement already satisfied: idna<4,>=2.5 in /Users/rrenoir/miniforge3/envs/aicp/lib/python3.10/site-packages (from requests<3,>=2.21.0->tensorboard<2.16,>=2.15->tensorflow-macos==2.15.0->tensorflow==2.15.0) (3.8)\n",
      "Requirement already satisfied: urllib3<3,>=1.21.1 in /Users/rrenoir/miniforge3/envs/aicp/lib/python3.10/site-packages (from requests<3,>=2.21.0->tensorboard<2.16,>=2.15->tensorflow-macos==2.15.0->tensorflow==2.15.0) (2.2.2)\n",
      "Requirement already satisfied: certifi>=2017.4.17 in /Users/rrenoir/miniforge3/envs/aicp/lib/python3.10/site-packages (from requests<3,>=2.21.0->tensorboard<2.16,>=2.15->tensorflow-macos==2.15.0->tensorflow==2.15.0) (2024.7.4)\n",
      "Requirement already satisfied: MarkupSafe>=2.1.1 in /Users/rrenoir/miniforge3/envs/aicp/lib/python3.10/site-packages (from werkzeug>=1.0.1->tensorboard<2.16,>=2.15->tensorflow-macos==2.15.0->tensorflow==2.15.0) (2.1.5)\n",
      "Collecting pyasn1<0.7.0,>=0.4.6 (from pyasn1-modules>=0.2.1->google-auth<3,>=1.6.3->tensorboard<2.16,>=2.15->tensorflow-macos==2.15.0->tensorflow==2.15.0)\n",
      "  Using cached pyasn1-0.6.1-py3-none-any.whl.metadata (8.4 kB)\n",
      "Collecting oauthlib>=3.0.0 (from requests-oauthlib>=0.7.0->google-auth-oauthlib<2,>=0.5->tensorboard<2.16,>=2.15->tensorflow-macos==2.15.0->tensorflow==2.15.0)\n",
      "  Using cached oauthlib-3.2.2-py3-none-any.whl.metadata (7.5 kB)\n",
      "Downloading tensorflow-2.15.0-cp310-cp310-macosx_12_0_arm64.whl (2.1 kB)\n",
      "Downloading tensorflow_macos-2.15.0-cp310-cp310-macosx_12_0_arm64.whl (208.8 MB)\n",
      "\u001b[2K   \u001b[90m━━━━━━━━━━━━━━━━━━━━━━━━━━━━━━━━━━━━━━━━\u001b[0m \u001b[32m208.8/208.8 MB\u001b[0m \u001b[31m40.1 MB/s\u001b[0m eta \u001b[36m0:00:00\u001b[0m00:01\u001b[0m00:01\u001b[0m\n",
      "\u001b[?25hUsing cached keras-2.15.0-py3-none-any.whl (1.7 MB)\n",
      "Downloading ml_dtypes-0.2.0-cp310-cp310-macosx_10_9_universal2.whl (1.2 MB)\n",
      "\u001b[2K   \u001b[90m━━━━━━━━━━━━━━━━━━━━━━━━━━━━━━━━━━━━━━━━\u001b[0m \u001b[32m1.2/1.2 MB\u001b[0m \u001b[31m30.4 MB/s\u001b[0m eta \u001b[36m0:00:00\u001b[0m\n",
      "\u001b[?25hUsing cached tensorboard-2.15.2-py3-none-any.whl (5.5 MB)\n",
      "Using cached tensorflow_estimator-2.15.0-py2.py3-none-any.whl (441 kB)\n",
      "Downloading wrapt-1.14.1-cp310-cp310-macosx_11_0_arm64.whl (35 kB)\n",
      "Using cached google_auth-2.35.0-py2.py3-none-any.whl (208 kB)\n",
      "Using cached google_auth_oauthlib-1.2.1-py2.py3-none-any.whl (24 kB)\n",
      "Using cached cachetools-5.5.0-py3-none-any.whl (9.5 kB)\n",
      "Using cached pyasn1_modules-0.4.1-py3-none-any.whl (181 kB)\n",
      "Using cached requests_oauthlib-2.0.0-py2.py3-none-any.whl (24 kB)\n",
      "Using cached rsa-4.9-py3-none-any.whl (34 kB)\n",
      "Using cached oauthlib-3.2.2-py3-none-any.whl (151 kB)\n",
      "Using cached pyasn1-0.6.1-py3-none-any.whl (83 kB)\n",
      "Installing collected packages: wrapt, tensorflow-estimator, pyasn1, oauthlib, ml-dtypes, keras, cachetools, rsa, requests-oauthlib, pyasn1-modules, google-auth, google-auth-oauthlib, tensorboard, tensorflow-macos, tensorflow\n",
      "  Attempting uninstall: wrapt\n",
      "    Found existing installation: wrapt 1.16.0\n",
      "    Uninstalling wrapt-1.16.0:\n",
      "      Successfully uninstalled wrapt-1.16.0\n",
      "  Attempting uninstall: ml-dtypes\n",
      "    Found existing installation: ml-dtypes 0.4.1\n",
      "    Uninstalling ml-dtypes-0.4.1:\n",
      "      Successfully uninstalled ml-dtypes-0.4.1\n",
      "  Attempting uninstall: keras\n",
      "    Found existing installation: keras 3.6.0\n",
      "    Uninstalling keras-3.6.0:\n",
      "      Successfully uninstalled keras-3.6.0\n",
      "  Attempting uninstall: tensorboard\n",
      "    Found existing installation: tensorboard 2.17.1\n",
      "    Uninstalling tensorboard-2.17.1:\n",
      "      Successfully uninstalled tensorboard-2.17.1\n",
      "  Attempting uninstall: tensorflow\n",
      "    Found existing installation: tensorflow 2.17.0\n",
      "    Uninstalling tensorflow-2.17.0:\n",
      "      Successfully uninstalled tensorflow-2.17.0\n",
      "\u001b[31mERROR: pip's dependency resolver does not currently take into account all the packages that are installed. This behaviour is the source of the following dependency conflicts.\n",
      "tensorflow-decision-forests 1.10.0 requires tensorflow==2.17.0, but you have tensorflow 2.15.0 which is incompatible.\n",
      "tensorstore 0.1.65 requires ml-dtypes>=0.3.1, but you have ml-dtypes 0.2.0 which is incompatible.\n",
      "tf-keras 2.17.0 requires tensorflow<2.18,>=2.17, but you have tensorflow 2.15.0 which is incompatible.\u001b[0m\u001b[31m\n",
      "\u001b[0mSuccessfully installed cachetools-5.5.0 google-auth-2.35.0 google-auth-oauthlib-1.2.1 keras-2.15.0 ml-dtypes-0.2.0 oauthlib-3.2.2 pyasn1-0.6.1 pyasn1-modules-0.4.1 requests-oauthlib-2.0.0 rsa-4.9 tensorboard-2.15.2 tensorflow-2.15.0 tensorflow-estimator-2.15.0 tensorflow-macos-2.15.0 wrapt-1.14.1\n",
      "Note: you may need to restart the kernel to use updated packages.\n"
     ]
    }
   ],
   "source": [
    "pip install tensorflow==2.15.0\n"
   ]
  },
  {
   "cell_type": "code",
   "execution_count": 2,
   "metadata": {},
   "outputs": [
    {
     "name": "stdout",
     "output_type": "stream",
     "text": [
      "Collecting tensorflow-addons==0.20.0\n",
      "  Downloading tensorflow_addons-0.20.0-cp310-cp310-macosx_11_0_arm64.whl.metadata (1.8 kB)\n",
      "Requirement already satisfied: typeguard<3.0.0,>=2.7 in /Users/rrenoir/miniforge3/envs/aicp/lib/python3.10/site-packages (from tensorflow-addons==0.20.0) (2.13.3)\n",
      "Requirement already satisfied: packaging in /Users/rrenoir/miniforge3/envs/aicp/lib/python3.10/site-packages (from tensorflow-addons==0.20.0) (23.2)\n",
      "Downloading tensorflow_addons-0.20.0-cp310-cp310-macosx_11_0_arm64.whl (11.6 MB)\n",
      "\u001b[2K   \u001b[90m━━━━━━━━━━━━━━━━━━━━━━━━━━━━━━━━━━━━━━━━\u001b[0m \u001b[32m11.6/11.6 MB\u001b[0m \u001b[31m8.6 MB/s\u001b[0m eta \u001b[36m0:00:00\u001b[0m00:01\u001b[0m0:01\u001b[0mm\n",
      "\u001b[?25hInstalling collected packages: tensorflow-addons\n",
      "  Attempting uninstall: tensorflow-addons\n",
      "    Found existing installation: tensorflow-addons 0.23.0\n",
      "    Uninstalling tensorflow-addons-0.23.0:\n",
      "      Successfully uninstalled tensorflow-addons-0.23.0\n",
      "Successfully installed tensorflow-addons-0.20.0\n",
      "Note: you may need to restart the kernel to use updated packages.\n"
     ]
    }
   ],
   "source": [
    "pip install tensorflow-addons==0.20.0\n"
   ]
  },
  {
   "cell_type": "code",
   "execution_count": 3,
   "metadata": {},
   "outputs": [
    {
     "ename": "ModuleNotFoundError",
     "evalue": "No module named 'tensorflow.python.client'",
     "output_type": "error",
     "traceback": [
      "\u001b[0;31m---------------------------------------------------------------------------\u001b[0m",
      "\u001b[0;31mModuleNotFoundError\u001b[0m                       Traceback (most recent call last)",
      "Cell \u001b[0;32mIn[3], line 1\u001b[0m\n\u001b[0;32m----> 1\u001b[0m \u001b[38;5;28;01mfrom\u001b[39;00m \u001b[38;5;21;01monnx_tf\u001b[39;00m\u001b[38;5;21;01m.\u001b[39;00m\u001b[38;5;21;01mbackend\u001b[39;00m \u001b[38;5;28;01mimport\u001b[39;00m prepare\n\u001b[1;32m      2\u001b[0m \u001b[38;5;28;01mimport\u001b[39;00m \u001b[38;5;21;01monnx\u001b[39;00m\n\u001b[1;32m      4\u001b[0m \u001b[38;5;66;03m# Load the ONNX model\u001b[39;00m\n",
      "File \u001b[0;32m~/miniforge3/envs/aicp/lib/python3.10/site-packages/onnx_tf/__init__.py:1\u001b[0m\n\u001b[0;32m----> 1\u001b[0m \u001b[38;5;28;01mfrom\u001b[39;00m \u001b[38;5;21;01m.\u001b[39;00m \u001b[38;5;28;01mimport\u001b[39;00m backend\n\u001b[1;32m      2\u001b[0m \u001b[38;5;28;01mfrom\u001b[39;00m \u001b[38;5;21;01m.\u001b[39;00m\u001b[38;5;21;01mversion\u001b[39;00m \u001b[38;5;28;01mimport\u001b[39;00m version \u001b[38;5;28;01mas\u001b[39;00m __version__\n",
      "File \u001b[0;32m~/miniforge3/envs/aicp/lib/python3.10/site-packages/onnx_tf/backend.py:25\u001b[0m\n\u001b[1;32m     22\u001b[0m \u001b[38;5;28;01mimport\u001b[39;00m \u001b[38;5;21;01mnumpy\u001b[39;00m \u001b[38;5;28;01mas\u001b[39;00m \u001b[38;5;21;01mnp\u001b[39;00m\n\u001b[1;32m     24\u001b[0m \u001b[38;5;28;01mfrom\u001b[39;00m \u001b[38;5;21;01monnx_tf\u001b[39;00m\u001b[38;5;21;01m.\u001b[39;00m\u001b[38;5;21;01mbackend_rep\u001b[39;00m \u001b[38;5;28;01mimport\u001b[39;00m TensorflowRep\n\u001b[0;32m---> 25\u001b[0m \u001b[38;5;28;01mfrom\u001b[39;00m \u001b[38;5;21;01monnx_tf\u001b[39;00m\u001b[38;5;21;01m.\u001b[39;00m\u001b[38;5;21;01mcommon\u001b[39;00m \u001b[38;5;28;01mimport\u001b[39;00m data_type\n\u001b[1;32m     26\u001b[0m \u001b[38;5;28;01mfrom\u001b[39;00m \u001b[38;5;21;01monnx_tf\u001b[39;00m\u001b[38;5;21;01m.\u001b[39;00m\u001b[38;5;21;01mcommon\u001b[39;00m \u001b[38;5;28;01mimport\u001b[39;00m get_unique_suffix\n\u001b[1;32m     27\u001b[0m \u001b[38;5;28;01mfrom\u001b[39;00m \u001b[38;5;21;01monnx_tf\u001b[39;00m\u001b[38;5;21;01m.\u001b[39;00m\u001b[38;5;21;01mcommon\u001b[39;00m \u001b[38;5;28;01mimport\u001b[39;00m supports_device \u001b[38;5;28;01mas\u001b[39;00m common_supports_device\n",
      "File \u001b[0;32m~/miniforge3/envs/aicp/lib/python3.10/site-packages/onnx_tf/common/__init__.py:14\u001b[0m\n\u001b[1;32m     11\u001b[0m \u001b[38;5;28;01mimport\u001b[39;00m \u001b[38;5;21;01mlogging\u001b[39;00m\n\u001b[1;32m     13\u001b[0m \u001b[38;5;28;01mfrom\u001b[39;00m \u001b[38;5;21;01monnx\u001b[39;00m\u001b[38;5;21;01m.\u001b[39;00m\u001b[38;5;21;01mbackend\u001b[39;00m\u001b[38;5;21;01m.\u001b[39;00m\u001b[38;5;21;01mbase\u001b[39;00m \u001b[38;5;28;01mimport\u001b[39;00m DeviceType\n\u001b[0;32m---> 14\u001b[0m \u001b[38;5;28;01mfrom\u001b[39;00m \u001b[38;5;21;01mtensorflow\u001b[39;00m\u001b[38;5;21;01m.\u001b[39;00m\u001b[38;5;21;01mpython\u001b[39;00m\u001b[38;5;21;01m.\u001b[39;00m\u001b[38;5;21;01mclient\u001b[39;00m \u001b[38;5;28;01mimport\u001b[39;00m device_lib\n\u001b[1;32m     16\u001b[0m IS_PYTHON3 \u001b[38;5;241m=\u001b[39m sys\u001b[38;5;241m.\u001b[39mversion_info \u001b[38;5;241m>\u001b[39m (\u001b[38;5;241m3\u001b[39m,)\n\u001b[1;32m     17\u001b[0m logger \u001b[38;5;241m=\u001b[39m logging\u001b[38;5;241m.\u001b[39mgetLogger(\u001b[38;5;124m'\u001b[39m\u001b[38;5;124monnx-tf\u001b[39m\u001b[38;5;124m'\u001b[39m)\n",
      "\u001b[0;31mModuleNotFoundError\u001b[0m: No module named 'tensorflow.python.client'"
     ]
    }
   ],
   "source": [
    "from onnx_tf.backend import prepare\n",
    "import onnx\n",
    "\n",
    "# Load the ONNX model\n",
    "onnx_model = onnx.load(\"tempo_model.onnx\")\n",
    "\n",
    "# Convert to TensorFlow\n",
    "tf_rep = prepare(onnx_model)\n",
    "\n",
    "# Export the model as a TensorFlow SavedModel format\n",
    "tf_rep.export_graph(\"tempo_model_saved_model\")\n"
   ]
  }
 ],
 "metadata": {
  "kernelspec": {
   "display_name": "aicp",
   "language": "python",
   "name": "python3"
  },
  "language_info": {
   "codemirror_mode": {
    "name": "ipython",
    "version": 3
   },
   "file_extension": ".py",
   "mimetype": "text/x-python",
   "name": "python",
   "nbconvert_exporter": "python",
   "pygments_lexer": "ipython3",
   "version": "3.10.14"
  }
 },
 "nbformat": 4,
 "nbformat_minor": 2
}
