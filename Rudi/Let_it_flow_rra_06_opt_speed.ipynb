{
 "cells": [
  {
   "cell_type": "markdown",
   "metadata": {},
   "source": [
    "# Looking for a representation of tempo in the data"
   ]
  },
  {
   "cell_type": "code",
   "execution_count": 3,
   "metadata": {},
   "outputs": [],
   "source": [
    "# Cell 1: Import Libraries\n",
    "import os\n",
    "import librosa\n",
    "import numpy as np\n",
    "import torch\n",
    "from torch.utils.data import Dataset, DataLoader\n",
    "import torch.nn as nn\n",
    "import torch.optim as optim\n",
    "from tqdm.notebook import tqdm\n",
    "import matplotlib.pyplot as plt\n",
    "%matplotlib inline\n"
   ]
  },
  {
   "cell_type": "markdown",
   "metadata": {},
   "source": [
    "## 2. Define Preprocessing Steps\n",
    "1. Normalize\n",
    "2. Create 3. Sek. Chunks to analyse, and use it for overlapping\n",
    "3. Estimate the speed"
   ]
  },
  {
   "cell_type": "code",
   "execution_count": 4,
   "metadata": {},
   "outputs": [],
   "source": [
    "\n",
    "def normalize_loudness(y):\n",
    "    \"\"\"Normalize audio to have consistent loudness.\"\"\"\n",
    "    rms = np.sqrt(np.mean(y**2))\n",
    "    if rms > 0:\n",
    "        y = y / rms\n",
    "    return y\n",
    "\n",
    "def load_and_preprocess_audio(file_path, target_sr=16000):\n",
    "    \"\"\"Load and preprocess audio file.\"\"\"\n",
    "    y, sr = librosa.load(file_path, sr=None)\n",
    "    # Downsample if necessary\n",
    "    if sr != target_sr:\n",
    "        y = librosa.resample(y, orig_sr=sr, target_sr=target_sr)\n",
    "    # Normalize loudness\n",
    "    y = normalize_loudness(y)\n",
    "    return y\n",
    "\n",
    "def segment_audio(y, sr, segment_length=3.0, hop_length=1.0):\n",
    "    \"\"\"Segment audio into overlapping chunks.\"\"\"\n",
    "    segment_samples = int(segment_length * sr)\n",
    "    hop_samples = int(hop_length * sr)\n",
    "    segments = []\n",
    "    for start in range(0, len(y) - segment_samples + 1, hop_samples):\n",
    "        end = start + segment_samples\n",
    "        segments.append(y[start:end])\n",
    "    return segments\n",
    "\n",
    "def estimate_tempo(y, sr=16000):\n",
    "    \"\"\"Estimate the tempo of an audio signal.\"\"\"\n",
    "    try:\n",
    "        tempo, _ = librosa.beat.beat_track(y=y, sr=sr, trim=False)\n",
    "        if tempo == 0:\n",
    "            tempo = np.nan  # Handle zero tempo\n",
    "    except Exception as e:\n",
    "        print(f\"Error estimating tempo: {e}\")\n",
    "        tempo = np.nan\n",
    "    return tempo\n"
   ]
  },
  {
   "cell_type": "markdown",
   "metadata": {},
   "source": [
    "## Load and process Audio Files\n",
    "Audiofiles are loaded and processed in the following way: Resample to 16kHz, normalize to 0dB, and convert to mono. Segments are extracted from the audio files. The Segments are 3 seconds long and overlap by 1 second."
   ]
  },
  {
   "cell_type": "code",
   "execution_count": 5,
   "metadata": {},
   "outputs": [
    {
     "data": {
      "application/vnd.jupyter.widget-view+json": {
       "model_id": "ea319b8365d44a868639397735f4f0f5",
       "version_major": 2,
       "version_minor": 0
      },
      "text/plain": [
       "Loading and preprocessing audio files:   0%|          | 0/615 [00:00<?, ?it/s]"
      ]
     },
     "metadata": {},
     "output_type": "display_data"
    }
   ],
   "source": [
    "# Cell 3: Load and Process Audio Files\n",
    "\n",
    "# Path to your dataset folder\n",
    "dataset_path = '../dataset'\n",
    "\n",
    "# Get list of audio files\n",
    "audio_files = [os.path.join(dataset_path, f) for f in os.listdir(dataset_path) if f.endswith('.wav')]\n",
    "\n",
    "# Preprocess and store audio segments and tempo labels\n",
    "audio_segments = []\n",
    "tempo_labels = []\n",
    "\n",
    "for file in tqdm(audio_files, desc='Loading and preprocessing audio files'):\n",
    "    y = load_and_preprocess_audio(file)\n",
    "    segments = segment_audio(y, sr=16000, segment_length=3.0, hop_length=1.0)\n",
    "    for segment in segments:\n",
    "        # Estimate tempo for each segment\n",
    "        tempo = estimate_tempo(segment)\n",
    "        audio_segments.append(segment)\n",
    "        tempo_labels.append(tempo)\n",
    "\n",
    "# Convert tempo_labels to a NumPy array\n",
    "tempo_labels = np.array(tempo_labels)\n",
    "\n",
    "# Identify valid indices where tempo is not NaN\n",
    "valid_indices = ~np.isnan(tempo_labels)\n",
    "\n",
    "# Filter the audio_segments and tempo_labels\n",
    "audio_segments = [audio_segments[i] for i in range(len(audio_segments)) if valid_indices[i]]\n",
    "tempo_labels = tempo_labels[valid_indices]\n"
   ]
  },
  {
   "cell_type": "markdown",
   "metadata": {},
   "source": [
    "## Cell 4: Define Feature Extraction Function"
   ]
  },
  {
   "cell_type": "code",
   "execution_count": 6,
   "metadata": {},
   "outputs": [],
   "source": [
    "\n",
    "\n",
    "def extract_features(y, sr=16000):\n",
    "    \"\"\"Extract various audio features.\"\"\"\n",
    "    # Tempogram features\n",
    "    oenv = librosa.onset.onset_strength(y=y, sr=sr)\n",
    "    tempogram = librosa.feature.tempogram(onset_envelope=oenv, sr=sr)\n",
    "    tempogram_mean = np.mean(tempogram, axis=1)\n",
    "    \n",
    "    # MFCC features\n",
    "    mfcc = librosa.feature.mfcc(y=y, sr=sr, n_mfcc=13)\n",
    "    mfcc_mean = np.mean(mfcc, axis=1)\n",
    "    \n",
    "    # Chroma features\n",
    "    chroma = librosa.feature.chroma_stft(y=y, sr=sr)\n",
    "    chroma_mean = np.mean(chroma, axis=1)\n",
    "    \n",
    "    # Spectral Contrast\n",
    "    contrast = librosa.feature.spectral_contrast(y=y, sr=sr)\n",
    "    contrast_mean = np.mean(contrast, axis=1)\n",
    "    \n",
    "    # Concatenate all features\n",
    "    features = np.concatenate((tempogram_mean, mfcc_mean, chroma_mean, contrast_mean))\n",
    "    return features\n",
    "\n",
    "\n"
   ]
  },
  {
   "cell_type": "markdown",
   "metadata": {},
   "source": [
    "## Cell 5: Extract Features from All Segments"
   ]
  },
  {
   "cell_type": "code",
   "execution_count": 7,
   "metadata": {},
   "outputs": [
    {
     "data": {
      "application/vnd.jupyter.widget-view+json": {
       "model_id": "766aaef5a347425ca51a4af5f50daa66",
       "version_major": 2,
       "version_minor": 0
      },
      "text/plain": [
       "Extracting features:   0%|          | 0/5638 [00:00<?, ?it/s]"
      ]
     },
     "metadata": {},
     "output_type": "display_data"
    }
   ],
   "source": [
    "\n",
    "\n",
    "# Extract features for all segments\n",
    "feature_vectors = []\n",
    "\n",
    "for y in tqdm(audio_segments, desc='Extracting features'):\n",
    "    features = extract_features(y)\n",
    "    feature_vectors.append(features)\n",
    "\n",
    "# Convert feature_vectors to a NumPy array\n",
    "feature_vectors = np.array(feature_vectors)\n"
   ]
  },
  {
   "cell_type": "markdown",
   "metadata": {},
   "source": [
    "## Cell 6: Normalize Features"
   ]
  },
  {
   "cell_type": "code",
   "execution_count": 8,
   "metadata": {},
   "outputs": [
    {
     "name": "stdout",
     "output_type": "stream",
     "text": [
      "Feature vectors normalized shape: (5638, 416)\n"
     ]
    }
   ],
   "source": [
    "\n",
    "\n",
    "# Normalize features\n",
    "feature_mean = np.mean(feature_vectors, axis=0)\n",
    "feature_std = np.std(feature_vectors, axis=0)\n",
    "feature_std[feature_std == 0] = 1e-6  # Avoid division by zero\n",
    "feature_vectors_normalized = (feature_vectors - feature_mean) / feature_std\n",
    "\n",
    "# Add a print statement to confirm variable creation\n",
    "print(\"Feature vectors normalized shape:\", feature_vectors_normalized.shape)\n"
   ]
  },
  {
   "cell_type": "markdown",
   "metadata": {},
   "source": [
    "## Cell 7: Normalize Tempo Labels\n"
   ]
  },
  {
   "cell_type": "code",
   "execution_count": 11,
   "metadata": {},
   "outputs": [],
   "source": [
    "\n",
    "# Compute the maximum tempo value\n",
    "max_tempo = np.max(tempo_labels)\n",
    "\n",
    "# Normalize tempo labels\n",
    "tempo_labels_normalized = tempo_labels / max_tempo\n"
   ]
  },
  {
   "cell_type": "markdown",
   "metadata": {},
   "source": [
    "## Cell 8: Create a Custom Dataset\n"
   ]
  },
  {
   "cell_type": "code",
   "execution_count": 26,
   "metadata": {},
   "outputs": [],
   "source": [
    "\n",
    "from torch.utils.data import Dataset, DataLoader\n",
    "\n",
    "class TempoDataset(Dataset):\n",
    "    def __init__(self, feature_vectors, tempo_labels):\n",
    "        self.feature_vectors = torch.tensor(feature_vectors).float()\n",
    "        self.tempo_labels = torch.tensor(tempo_labels).float()\n",
    "\n",
    "    def __len__(self):\n",
    "        return len(self.feature_vectors)\n",
    "\n",
    "    def __getitem__(self, idx):\n",
    "        return self.feature_vectors[idx], self.tempo_labels[idx]\n"
   ]
  },
  {
   "cell_type": "markdown",
   "metadata": {},
   "source": [
    "## Cell 9: Split Dataset\n"
   ]
  },
  {
   "cell_type": "code",
   "execution_count": 77,
   "metadata": {},
   "outputs": [],
   "source": [
    "\n",
    "from sklearn.model_selection import train_test_split\n",
    "\n",
    "# Use normalized features and labels\n",
    "train_features, val_features, train_labels, val_labels = train_test_split(\n",
    "    feature_vectors_normalized, tempo_labels_normalized, test_size=0.2, random_state=42)\n",
    "\n"
   ]
  },
  {
   "cell_type": "markdown",
   "metadata": {},
   "source": [
    "## Cell 10: Create DataLoaders\n",
    "\n",
    "Create DataLoaders"
   ]
  },
  {
   "cell_type": "code",
   "execution_count": 78,
   "metadata": {},
   "outputs": [],
   "source": [
    "train_dataset = TempoDataset(train_features, train_labels)\n",
    "train_dataloader = DataLoader(train_dataset, batch_size=32, shuffle=True)\n",
    "\n",
    "val_dataset = TempoDataset(val_features, val_labels)\n",
    "val_dataloader = DataLoader(val_dataset, batch_size=32, shuffle=False)"
   ]
  },
  {
   "cell_type": "markdown",
   "metadata": {},
   "source": [
    "## Cell 11: Define the Regression Model\n",
    "This network is designed to predict a tempo value (or a related feature) from the input data.\n"
   ]
  },
  {
   "cell_type": "markdown",
   "metadata": {},
   "source": [
    "# Layers\n",
    "1.  Fully Connected Layer (fc1): The first layer takes the input data (with input_size features) and maps it to hidden_size neurons.\n",
    "2. ReLU Activation: Applies the Rectified Linear Unit (ReLU) activation, which introduces non-linearity, helping the network learn complex patterns.\n",
    "3.  Dropout: Applies dropout regularization to prevent overfitting.\n",
    "4. Second Fully Connected Layer (fc2): Reduces the number of neurons to half of the previous layer (hidden_size // 2), which helps in further feature extraction.\n",
    "5. Output Layer (fc3): Maps the reduced hidden layer to a single output neuron, representing the predicted tempo.\n",
    "\n",
    "The TempoRegressor is a feedforward neural network designed for regression tasks. It consists of three fully connected layers with ReLU activations and dropout for regularization. The sigmoid activation at the output ensures that the predicted value is in a normalized range. This architecture can effectively map input features (like audio characteristics) to a continuous value (e.g., tempo).\n"
   ]
  },
  {
   "cell_type": "code",
   "execution_count": 79,
   "metadata": {},
   "outputs": [],
   "source": [
    "\n",
    "import torch.nn as nn\n",
    "\n",
    "class TempoRegressor(nn.Module):\n",
    "    def __init__(self, input_size, hidden_size):\n",
    "        super(TempoRegressor, self).__init__()\n",
    "        self.fc1 = nn.Linear(input_size, hidden_size)\n",
    "        self.relu1 = nn.ReLU()\n",
    "        self.dropout1 = nn.Dropout(p=0.5)\n",
    "        self.fc2 = nn.Linear(hidden_size, hidden_size // 2)\n",
    "        self.relu2 = nn.ReLU()\n",
    "        self.dropout2 = nn.Dropout(p=0.5)\n",
    "        self.fc3 = nn.Linear(hidden_size // 2, 1)\n",
    "        self.sigmoid = nn.Sigmoid()  # Output between 0 and 1\n",
    "\n",
    "    def forward(self, x):\n",
    "        x = self.fc1(x)\n",
    "        x = self.relu1(x)\n",
    "        x = self.dropout1(x)\n",
    "        x = self.fc2(x)\n",
    "        x = self.relu2(x)\n",
    "        x = self.dropout2(x)\n",
    "        x = self.fc3(x)\n",
    "        x = self.sigmoid(x)\n",
    "        return x.squeeze()\n"
   ]
  },
  {
   "cell_type": "markdown",
   "metadata": {},
   "source": [
    "# Cell 12: Initialize the Model"
   ]
  },
  {
   "cell_type": "code",
   "execution_count": 80,
   "metadata": {},
   "outputs": [],
   "source": [
    "\n",
    "\n",
    "# Define input_size and hidden_size based on the new feature vector size\n",
    "input_size = feature_vectors_normalized.shape[1]  # Number of features\n",
    "hidden_size = 128  # Adjusted hidden size\n",
    "\n",
    "model = TempoRegressor(input_size, hidden_size)\n"
   ]
  },
  {
   "cell_type": "markdown",
   "metadata": {},
   "source": [
    "## Cell 13: Define Loss Function and Optimizer"
   ]
  },
  {
   "cell_type": "markdown",
   "metadata": {},
   "source": [
    "1. nn.L1Loss(): Calculates the Mean Absolute Error (MAE), which is less sensitive to outliers than MSE and provides a clear measure of average error.\n",
    "optim.\n",
    "2. Adam: The Adam optimizer with a learning rate of 0.0001 is chosen for its adaptive learning capabilities and to ensure smooth, stable training. Reducing the learning rate helps the model make smaller, precise adjustments during weight updates, improving overall performance."
   ]
  },
  {
   "cell_type": "code",
   "execution_count": 81,
   "metadata": {},
   "outputs": [],
   "source": [
    "\n",
    "\n",
    "import torch.optim as optim\n",
    "\n",
    "criterion = nn.L1Loss()  # Using Mean Absolute Error loss\n",
    "optimizer = optim.Adam(model.parameters(), lr=0.001)  # Reduced learning rate\n"
   ]
  },
  {
   "cell_type": "markdown",
   "metadata": {},
   "source": [
    "## !!!!! OPTIONAL !!!! \n"
   ]
  },
  {
   "cell_type": "markdown",
   "metadata": {},
   "source": [
    "Resume Training form a previously saved model. (This means you need to run step 7 at least one time before)\n",
    "\n",
    "\n"
   ]
  },
  {
   "cell_type": "code",
   "execution_count": 49,
   "metadata": {},
   "outputs": [
    {
     "name": "stdout",
     "output_type": "stream",
     "text": [
      "Best model loaded successfully for evaluation.\n"
     ]
    },
    {
     "name": "stderr",
     "output_type": "stream",
     "text": [
      "/var/folders/5k/5lwm6jlm8xjb4h00r6bnjs280000gn/T/ipykernel_16769/1124066247.py:15: FutureWarning: You are using `torch.load` with `weights_only=False` (the current default value), which uses the default pickle module implicitly. It is possible to construct malicious pickle data which will execute arbitrary code during unpickling (See https://github.com/pytorch/pytorch/blob/main/SECURITY.md#untrusted-models for more details). In a future release, the default value for `weights_only` will be flipped to `True`. This limits the functions that could be executed during unpickling. Arbitrary objects will no longer be allowed to be loaded via this mode unless they are explicitly allowlisted by the user via `torch.serialization.add_safe_globals`. We recommend you start setting `weights_only=True` for any use case where you don't have full control of the loaded file. Please open an issue on GitHub for any issues related to this experimental feature.\n",
      "  model.load_state_dict(torch.load(best_model_path, map_location=device))\n"
     ]
    }
   ],
   "source": [
    "# Cell Before: Load the Best Model\n",
    "\n",
    "import torch\n",
    "\n",
    "# Ensure the model class TempoRegressor is defined\n",
    "# and input_size, hidden_size are set\n",
    "\n",
    "# Initialize the model\n",
    "model = TempoRegressor(input_size, hidden_size)\n",
    "model.to(device)\n",
    "\n",
    "# Load the best model\n",
    "checkpoint_dir = 'checkpoints_05'  # Update as needed\n",
    "best_model_path = os.path.join(checkpoint_dir, 'best_tempo_model.pth')\n",
    "model.load_state_dict(torch.load(best_model_path, map_location=device))\n",
    "model.eval()\n",
    "\n",
    "print(\"Best model loaded successfully for evaluation.\")\n"
   ]
  },
  {
   "cell_type": "markdown",
   "metadata": {},
   "source": [
    "## Cell 14: Train the Model\n"
   ]
  },
  {
   "cell_type": "code",
   "execution_count": 82,
   "metadata": {},
   "outputs": [
    {
     "name": "stderr",
     "output_type": "stream",
     "text": [
      "Epoch 1/1000: 100%|██████████| 141/141 [00:00<00:00, 1453.70it/s]\n"
     ]
    },
    {
     "name": "stdout",
     "output_type": "stream",
     "text": [
      "Epoch [1/1000], Train Loss: 0.0999, Val Loss: 0.0920\n",
      "Best model saved with validation loss: 0.0920\n"
     ]
    },
    {
     "name": "stderr",
     "output_type": "stream",
     "text": [
      "Epoch 2/1000: 100%|██████████| 141/141 [00:00<00:00, 1504.13it/s]\n"
     ]
    },
    {
     "name": "stdout",
     "output_type": "stream",
     "text": [
      "Epoch [2/1000], Train Loss: 0.0944, Val Loss: 0.0942\n",
      "No improvement in validation loss for 1 epoch(s).\n"
     ]
    },
    {
     "name": "stderr",
     "output_type": "stream",
     "text": [
      "Epoch 3/1000: 100%|██████████| 141/141 [00:00<00:00, 1534.41it/s]\n"
     ]
    },
    {
     "name": "stdout",
     "output_type": "stream",
     "text": [
      "Epoch [3/1000], Train Loss: 0.0916, Val Loss: 0.0874\n",
      "Best model saved with validation loss: 0.0874\n"
     ]
    },
    {
     "name": "stderr",
     "output_type": "stream",
     "text": [
      "Epoch 4/1000: 100%|██████████| 141/141 [00:00<00:00, 1441.53it/s]\n"
     ]
    },
    {
     "name": "stdout",
     "output_type": "stream",
     "text": [
      "Epoch [4/1000], Train Loss: 0.0886, Val Loss: 0.0838\n",
      "Best model saved with validation loss: 0.0838\n"
     ]
    },
    {
     "name": "stderr",
     "output_type": "stream",
     "text": [
      "Epoch 5/1000: 100%|██████████| 141/141 [00:00<00:00, 1578.73it/s]\n"
     ]
    },
    {
     "name": "stdout",
     "output_type": "stream",
     "text": [
      "Epoch [5/1000], Train Loss: 0.0873, Val Loss: 0.0846\n",
      "No improvement in validation loss for 1 epoch(s).\n"
     ]
    },
    {
     "name": "stderr",
     "output_type": "stream",
     "text": [
      "Epoch 6/1000: 100%|██████████| 141/141 [00:00<00:00, 1211.26it/s]\n"
     ]
    },
    {
     "name": "stdout",
     "output_type": "stream",
     "text": [
      "Epoch [6/1000], Train Loss: 0.0856, Val Loss: 0.0829\n",
      "Best model saved with validation loss: 0.0829\n"
     ]
    },
    {
     "name": "stderr",
     "output_type": "stream",
     "text": [
      "Epoch 7/1000: 100%|██████████| 141/141 [00:00<00:00, 1623.27it/s]\n"
     ]
    },
    {
     "name": "stdout",
     "output_type": "stream",
     "text": [
      "Epoch [7/1000], Train Loss: 0.0854, Val Loss: 0.0852\n",
      "No improvement in validation loss for 1 epoch(s).\n"
     ]
    },
    {
     "name": "stderr",
     "output_type": "stream",
     "text": [
      "Epoch 8/1000: 100%|██████████| 141/141 [00:00<00:00, 1623.66it/s]\n"
     ]
    },
    {
     "name": "stdout",
     "output_type": "stream",
     "text": [
      "Epoch [8/1000], Train Loss: 0.0845, Val Loss: 0.0828\n",
      "Best model saved with validation loss: 0.0828\n"
     ]
    },
    {
     "name": "stderr",
     "output_type": "stream",
     "text": [
      "Epoch 9/1000: 100%|██████████| 141/141 [00:00<00:00, 1636.66it/s]\n"
     ]
    },
    {
     "name": "stdout",
     "output_type": "stream",
     "text": [
      "Epoch [9/1000], Train Loss: 0.0834, Val Loss: 0.0814\n",
      "Best model saved with validation loss: 0.0814\n"
     ]
    },
    {
     "name": "stderr",
     "output_type": "stream",
     "text": [
      "Epoch 10/1000: 100%|██████████| 141/141 [00:00<00:00, 1622.99it/s]\n"
     ]
    },
    {
     "name": "stdout",
     "output_type": "stream",
     "text": [
      "Epoch [10/1000], Train Loss: 0.0831, Val Loss: 0.0810\n",
      "Best model saved with validation loss: 0.0810\n"
     ]
    },
    {
     "name": "stderr",
     "output_type": "stream",
     "text": [
      "Epoch 11/1000: 100%|██████████| 141/141 [00:00<00:00, 1554.85it/s]\n"
     ]
    },
    {
     "name": "stdout",
     "output_type": "stream",
     "text": [
      "Epoch [11/1000], Train Loss: 0.0820, Val Loss: 0.0802\n",
      "Best model saved with validation loss: 0.0802\n"
     ]
    },
    {
     "name": "stderr",
     "output_type": "stream",
     "text": [
      "Epoch 12/1000: 100%|██████████| 141/141 [00:00<00:00, 1570.43it/s]\n"
     ]
    },
    {
     "name": "stdout",
     "output_type": "stream",
     "text": [
      "Epoch [12/1000], Train Loss: 0.0827, Val Loss: 0.0815\n",
      "No improvement in validation loss for 1 epoch(s).\n"
     ]
    },
    {
     "name": "stderr",
     "output_type": "stream",
     "text": [
      "Epoch 13/1000: 100%|██████████| 141/141 [00:00<00:00, 1497.88it/s]\n"
     ]
    },
    {
     "name": "stdout",
     "output_type": "stream",
     "text": [
      "Epoch [13/1000], Train Loss: 0.0820, Val Loss: 0.0812\n",
      "No improvement in validation loss for 2 epoch(s).\n"
     ]
    },
    {
     "name": "stderr",
     "output_type": "stream",
     "text": [
      "Epoch 14/1000: 100%|██████████| 141/141 [00:00<00:00, 1513.17it/s]\n"
     ]
    },
    {
     "name": "stdout",
     "output_type": "stream",
     "text": [
      "Epoch [14/1000], Train Loss: 0.0822, Val Loss: 0.0820\n",
      "No improvement in validation loss for 3 epoch(s).\n"
     ]
    },
    {
     "name": "stderr",
     "output_type": "stream",
     "text": [
      "Epoch 15/1000: 100%|██████████| 141/141 [00:00<00:00, 1581.23it/s]\n"
     ]
    },
    {
     "name": "stdout",
     "output_type": "stream",
     "text": [
      "Epoch [15/1000], Train Loss: 0.0821, Val Loss: 0.0805\n",
      "No improvement in validation loss for 4 epoch(s).\n"
     ]
    },
    {
     "name": "stderr",
     "output_type": "stream",
     "text": [
      "Epoch 16/1000: 100%|██████████| 141/141 [00:00<00:00, 1602.49it/s]\n"
     ]
    },
    {
     "name": "stdout",
     "output_type": "stream",
     "text": [
      "Epoch [16/1000], Train Loss: 0.0809, Val Loss: 0.0803\n",
      "No improvement in validation loss for 5 epoch(s).\n"
     ]
    },
    {
     "name": "stderr",
     "output_type": "stream",
     "text": [
      "Epoch 17/1000: 100%|██████████| 141/141 [00:00<00:00, 1206.85it/s]\n"
     ]
    },
    {
     "name": "stdout",
     "output_type": "stream",
     "text": [
      "Epoch [17/1000], Train Loss: 0.0804, Val Loss: 0.0810\n",
      "No improvement in validation loss for 6 epoch(s).\n"
     ]
    },
    {
     "name": "stderr",
     "output_type": "stream",
     "text": [
      "Epoch 18/1000: 100%|██████████| 141/141 [00:00<00:00, 1471.28it/s]\n"
     ]
    },
    {
     "name": "stdout",
     "output_type": "stream",
     "text": [
      "Epoch [18/1000], Train Loss: 0.0806, Val Loss: 0.0786\n",
      "Best model saved with validation loss: 0.0786\n"
     ]
    },
    {
     "name": "stderr",
     "output_type": "stream",
     "text": [
      "Epoch 19/1000: 100%|██████████| 141/141 [00:00<00:00, 1558.29it/s]\n"
     ]
    },
    {
     "name": "stdout",
     "output_type": "stream",
     "text": [
      "Epoch [19/1000], Train Loss: 0.0806, Val Loss: 0.0811\n",
      "No improvement in validation loss for 1 epoch(s).\n"
     ]
    },
    {
     "name": "stderr",
     "output_type": "stream",
     "text": [
      "Epoch 20/1000: 100%|██████████| 141/141 [00:00<00:00, 1614.88it/s]\n"
     ]
    },
    {
     "name": "stdout",
     "output_type": "stream",
     "text": [
      "Epoch [20/1000], Train Loss: 0.0800, Val Loss: 0.0798\n",
      "No improvement in validation loss for 2 epoch(s).\n"
     ]
    },
    {
     "name": "stderr",
     "output_type": "stream",
     "text": [
      "Epoch 21/1000: 100%|██████████| 141/141 [00:00<00:00, 1602.98it/s]\n"
     ]
    },
    {
     "name": "stdout",
     "output_type": "stream",
     "text": [
      "Epoch [21/1000], Train Loss: 0.0796, Val Loss: 0.0796\n",
      "No improvement in validation loss for 3 epoch(s).\n"
     ]
    },
    {
     "name": "stderr",
     "output_type": "stream",
     "text": [
      "Epoch 22/1000: 100%|██████████| 141/141 [00:00<00:00, 1609.80it/s]\n"
     ]
    },
    {
     "name": "stdout",
     "output_type": "stream",
     "text": [
      "Epoch [22/1000], Train Loss: 0.0800, Val Loss: 0.0787\n",
      "No improvement in validation loss for 4 epoch(s).\n"
     ]
    },
    {
     "name": "stderr",
     "output_type": "stream",
     "text": [
      "Epoch 23/1000: 100%|██████████| 141/141 [00:00<00:00, 1433.48it/s]\n"
     ]
    },
    {
     "name": "stdout",
     "output_type": "stream",
     "text": [
      "Epoch [23/1000], Train Loss: 0.0801, Val Loss: 0.0782\n",
      "Best model saved with validation loss: 0.0782\n"
     ]
    },
    {
     "name": "stderr",
     "output_type": "stream",
     "text": [
      "Epoch 24/1000: 100%|██████████| 141/141 [00:00<00:00, 1600.09it/s]\n"
     ]
    },
    {
     "name": "stdout",
     "output_type": "stream",
     "text": [
      "Epoch [24/1000], Train Loss: 0.0794, Val Loss: 0.0784\n",
      "No improvement in validation loss for 1 epoch(s).\n"
     ]
    },
    {
     "name": "stderr",
     "output_type": "stream",
     "text": [
      "Epoch 25/1000: 100%|██████████| 141/141 [00:00<00:00, 1612.50it/s]\n"
     ]
    },
    {
     "name": "stdout",
     "output_type": "stream",
     "text": [
      "Epoch [25/1000], Train Loss: 0.0792, Val Loss: 0.0792\n",
      "No improvement in validation loss for 2 epoch(s).\n"
     ]
    },
    {
     "name": "stderr",
     "output_type": "stream",
     "text": [
      "Epoch 26/1000: 100%|██████████| 141/141 [00:00<00:00, 1606.75it/s]\n"
     ]
    },
    {
     "name": "stdout",
     "output_type": "stream",
     "text": [
      "Epoch [26/1000], Train Loss: 0.0791, Val Loss: 0.0790\n",
      "No improvement in validation loss for 3 epoch(s).\n"
     ]
    },
    {
     "name": "stderr",
     "output_type": "stream",
     "text": [
      "Epoch 27/1000: 100%|██████████| 141/141 [00:00<00:00, 1218.15it/s]\n"
     ]
    },
    {
     "name": "stdout",
     "output_type": "stream",
     "text": [
      "Epoch [27/1000], Train Loss: 0.0788, Val Loss: 0.0788\n",
      "No improvement in validation loss for 4 epoch(s).\n"
     ]
    },
    {
     "name": "stderr",
     "output_type": "stream",
     "text": [
      "Epoch 28/1000: 100%|██████████| 141/141 [00:00<00:00, 1503.53it/s]\n"
     ]
    },
    {
     "name": "stdout",
     "output_type": "stream",
     "text": [
      "Epoch [28/1000], Train Loss: 0.0787, Val Loss: 0.0805\n",
      "No improvement in validation loss for 5 epoch(s).\n"
     ]
    },
    {
     "name": "stderr",
     "output_type": "stream",
     "text": [
      "Epoch 29/1000: 100%|██████████| 141/141 [00:00<00:00, 1460.29it/s]\n"
     ]
    },
    {
     "name": "stdout",
     "output_type": "stream",
     "text": [
      "Epoch [29/1000], Train Loss: 0.0786, Val Loss: 0.0780\n",
      "Best model saved with validation loss: 0.0780\n"
     ]
    },
    {
     "name": "stderr",
     "output_type": "stream",
     "text": [
      "Epoch 30/1000: 100%|██████████| 141/141 [00:00<00:00, 1610.40it/s]\n"
     ]
    },
    {
     "name": "stdout",
     "output_type": "stream",
     "text": [
      "Epoch [30/1000], Train Loss: 0.0793, Val Loss: 0.0783\n",
      "No improvement in validation loss for 1 epoch(s).\n"
     ]
    },
    {
     "name": "stderr",
     "output_type": "stream",
     "text": [
      "Epoch 31/1000: 100%|██████████| 141/141 [00:00<00:00, 1594.14it/s]\n"
     ]
    },
    {
     "name": "stdout",
     "output_type": "stream",
     "text": [
      "Epoch [31/1000], Train Loss: 0.0783, Val Loss: 0.0785\n",
      "No improvement in validation loss for 2 epoch(s).\n"
     ]
    },
    {
     "name": "stderr",
     "output_type": "stream",
     "text": [
      "Epoch 32/1000: 100%|██████████| 141/141 [00:00<00:00, 1610.27it/s]\n"
     ]
    },
    {
     "name": "stdout",
     "output_type": "stream",
     "text": [
      "Epoch [32/1000], Train Loss: 0.0783, Val Loss: 0.0781\n",
      "No improvement in validation loss for 3 epoch(s).\n"
     ]
    },
    {
     "name": "stderr",
     "output_type": "stream",
     "text": [
      "Epoch 33/1000: 100%|██████████| 141/141 [00:00<00:00, 1607.97it/s]\n"
     ]
    },
    {
     "name": "stdout",
     "output_type": "stream",
     "text": [
      "Epoch [33/1000], Train Loss: 0.0775, Val Loss: 0.0775\n",
      "Best model saved with validation loss: 0.0775\n"
     ]
    },
    {
     "name": "stderr",
     "output_type": "stream",
     "text": [
      "Epoch 34/1000: 100%|██████████| 141/141 [00:00<00:00, 1534.27it/s]\n"
     ]
    },
    {
     "name": "stdout",
     "output_type": "stream",
     "text": [
      "Epoch [34/1000], Train Loss: 0.0779, Val Loss: 0.0770\n",
      "Best model saved with validation loss: 0.0770\n"
     ]
    },
    {
     "name": "stderr",
     "output_type": "stream",
     "text": [
      "Epoch 35/1000: 100%|██████████| 141/141 [00:00<00:00, 1599.60it/s]\n"
     ]
    },
    {
     "name": "stdout",
     "output_type": "stream",
     "text": [
      "Epoch [35/1000], Train Loss: 0.0781, Val Loss: 0.0779\n",
      "No improvement in validation loss for 1 epoch(s).\n"
     ]
    },
    {
     "name": "stderr",
     "output_type": "stream",
     "text": [
      "Epoch 36/1000: 100%|██████████| 141/141 [00:00<00:00, 1589.75it/s]\n"
     ]
    },
    {
     "name": "stdout",
     "output_type": "stream",
     "text": [
      "Epoch [36/1000], Train Loss: 0.0771, Val Loss: 0.0766\n",
      "Best model saved with validation loss: 0.0766\n"
     ]
    },
    {
     "name": "stderr",
     "output_type": "stream",
     "text": [
      "Epoch 37/1000: 100%|██████████| 141/141 [00:00<00:00, 1611.06it/s]\n"
     ]
    },
    {
     "name": "stdout",
     "output_type": "stream",
     "text": [
      "Epoch [37/1000], Train Loss: 0.0773, Val Loss: 0.0773\n",
      "No improvement in validation loss for 1 epoch(s).\n"
     ]
    },
    {
     "name": "stderr",
     "output_type": "stream",
     "text": [
      "Epoch 38/1000: 100%|██████████| 141/141 [00:00<00:00, 1210.79it/s]\n"
     ]
    },
    {
     "name": "stdout",
     "output_type": "stream",
     "text": [
      "Epoch [38/1000], Train Loss: 0.0781, Val Loss: 0.0773\n",
      "No improvement in validation loss for 2 epoch(s).\n"
     ]
    },
    {
     "name": "stderr",
     "output_type": "stream",
     "text": [
      "Epoch 39/1000: 100%|██████████| 141/141 [00:00<00:00, 1512.81it/s]\n"
     ]
    },
    {
     "name": "stdout",
     "output_type": "stream",
     "text": [
      "Epoch [39/1000], Train Loss: 0.0774, Val Loss: 0.0768\n",
      "No improvement in validation loss for 3 epoch(s).\n"
     ]
    },
    {
     "name": "stderr",
     "output_type": "stream",
     "text": [
      "Epoch 40/1000: 100%|██████████| 141/141 [00:00<00:00, 1560.50it/s]\n"
     ]
    },
    {
     "name": "stdout",
     "output_type": "stream",
     "text": [
      "Epoch [40/1000], Train Loss: 0.0772, Val Loss: 0.0779\n",
      "No improvement in validation loss for 4 epoch(s).\n"
     ]
    },
    {
     "name": "stderr",
     "output_type": "stream",
     "text": [
      "Epoch 41/1000: 100%|██████████| 141/141 [00:00<00:00, 1567.92it/s]\n"
     ]
    },
    {
     "name": "stdout",
     "output_type": "stream",
     "text": [
      "Epoch [41/1000], Train Loss: 0.0774, Val Loss: 0.0777\n",
      "No improvement in validation loss for 5 epoch(s).\n"
     ]
    },
    {
     "name": "stderr",
     "output_type": "stream",
     "text": [
      "Epoch 42/1000: 100%|██████████| 141/141 [00:00<00:00, 1558.75it/s]\n"
     ]
    },
    {
     "name": "stdout",
     "output_type": "stream",
     "text": [
      "Epoch [42/1000], Train Loss: 0.0771, Val Loss: 0.0775\n",
      "No improvement in validation loss for 6 epoch(s).\n"
     ]
    },
    {
     "name": "stderr",
     "output_type": "stream",
     "text": [
      "Epoch 43/1000: 100%|██████████| 141/141 [00:00<00:00, 1608.76it/s]\n"
     ]
    },
    {
     "name": "stdout",
     "output_type": "stream",
     "text": [
      "Epoch [43/1000], Train Loss: 0.0767, Val Loss: 0.0773\n",
      "No improvement in validation loss for 7 epoch(s).\n"
     ]
    },
    {
     "name": "stderr",
     "output_type": "stream",
     "text": [
      "Epoch 44/1000: 100%|██████████| 141/141 [00:00<00:00, 1576.46it/s]\n"
     ]
    },
    {
     "name": "stdout",
     "output_type": "stream",
     "text": [
      "Epoch [44/1000], Train Loss: 0.0770, Val Loss: 0.0771\n",
      "No improvement in validation loss for 8 epoch(s).\n"
     ]
    },
    {
     "name": "stderr",
     "output_type": "stream",
     "text": [
      "Epoch 45/1000: 100%|██████████| 141/141 [00:00<00:00, 1541.56it/s]\n"
     ]
    },
    {
     "name": "stdout",
     "output_type": "stream",
     "text": [
      "Epoch [45/1000], Train Loss: 0.0760, Val Loss: 0.0773\n",
      "No improvement in validation loss for 9 epoch(s).\n"
     ]
    },
    {
     "name": "stderr",
     "output_type": "stream",
     "text": [
      "Epoch 46/1000: 100%|██████████| 141/141 [00:00<00:00, 1447.64it/s]\n"
     ]
    },
    {
     "name": "stdout",
     "output_type": "stream",
     "text": [
      "Epoch [46/1000], Train Loss: 0.0757, Val Loss: 0.0764\n",
      "Best model saved with validation loss: 0.0764\n"
     ]
    },
    {
     "name": "stderr",
     "output_type": "stream",
     "text": [
      "Epoch 47/1000: 100%|██████████| 141/141 [00:00<00:00, 1613.16it/s]\n"
     ]
    },
    {
     "name": "stdout",
     "output_type": "stream",
     "text": [
      "Epoch [47/1000], Train Loss: 0.0757, Val Loss: 0.0767\n",
      "No improvement in validation loss for 1 epoch(s).\n"
     ]
    },
    {
     "name": "stderr",
     "output_type": "stream",
     "text": [
      "Epoch 48/1000: 100%|██████████| 141/141 [00:00<00:00, 1614.19it/s]\n"
     ]
    },
    {
     "name": "stdout",
     "output_type": "stream",
     "text": [
      "Epoch [48/1000], Train Loss: 0.0755, Val Loss: 0.0775\n",
      "No improvement in validation loss for 2 epoch(s).\n"
     ]
    },
    {
     "name": "stderr",
     "output_type": "stream",
     "text": [
      "Epoch 49/1000: 100%|██████████| 141/141 [00:00<00:00, 1221.13it/s]\n"
     ]
    },
    {
     "name": "stdout",
     "output_type": "stream",
     "text": [
      "Epoch [49/1000], Train Loss: 0.0760, Val Loss: 0.0770\n",
      "No improvement in validation loss for 3 epoch(s).\n"
     ]
    },
    {
     "name": "stderr",
     "output_type": "stream",
     "text": [
      "Epoch 50/1000: 100%|██████████| 141/141 [00:00<00:00, 1594.75it/s]\n"
     ]
    },
    {
     "name": "stdout",
     "output_type": "stream",
     "text": [
      "Epoch [50/1000], Train Loss: 0.0746, Val Loss: 0.0765\n",
      "No improvement in validation loss for 4 epoch(s).\n"
     ]
    },
    {
     "name": "stderr",
     "output_type": "stream",
     "text": [
      "Epoch 51/1000: 100%|██████████| 141/141 [00:00<00:00, 1591.42it/s]\n"
     ]
    },
    {
     "name": "stdout",
     "output_type": "stream",
     "text": [
      "Epoch [51/1000], Train Loss: 0.0757, Val Loss: 0.0773\n",
      "No improvement in validation loss for 5 epoch(s).\n"
     ]
    },
    {
     "name": "stderr",
     "output_type": "stream",
     "text": [
      "Epoch 52/1000: 100%|██████████| 141/141 [00:00<00:00, 1604.83it/s]\n"
     ]
    },
    {
     "name": "stdout",
     "output_type": "stream",
     "text": [
      "Epoch [52/1000], Train Loss: 0.0754, Val Loss: 0.0764\n",
      "Best model saved with validation loss: 0.0764\n"
     ]
    },
    {
     "name": "stderr",
     "output_type": "stream",
     "text": [
      "Epoch 53/1000: 100%|██████████| 141/141 [00:00<00:00, 1605.10it/s]\n"
     ]
    },
    {
     "name": "stdout",
     "output_type": "stream",
     "text": [
      "Epoch [53/1000], Train Loss: 0.0751, Val Loss: 0.0779\n",
      "No improvement in validation loss for 1 epoch(s).\n"
     ]
    },
    {
     "name": "stderr",
     "output_type": "stream",
     "text": [
      "Epoch 54/1000: 100%|██████████| 141/141 [00:00<00:00, 1611.47it/s]\n"
     ]
    },
    {
     "name": "stdout",
     "output_type": "stream",
     "text": [
      "Epoch [54/1000], Train Loss: 0.0761, Val Loss: 0.0768\n",
      "No improvement in validation loss for 2 epoch(s).\n"
     ]
    },
    {
     "name": "stderr",
     "output_type": "stream",
     "text": [
      "Epoch 55/1000: 100%|██████████| 141/141 [00:00<00:00, 1602.97it/s]\n"
     ]
    },
    {
     "name": "stdout",
     "output_type": "stream",
     "text": [
      "Epoch [55/1000], Train Loss: 0.0753, Val Loss: 0.0770\n",
      "No improvement in validation loss for 3 epoch(s).\n"
     ]
    },
    {
     "name": "stderr",
     "output_type": "stream",
     "text": [
      "Epoch 56/1000: 100%|██████████| 141/141 [00:00<00:00, 1544.32it/s]\n"
     ]
    },
    {
     "name": "stdout",
     "output_type": "stream",
     "text": [
      "Epoch [56/1000], Train Loss: 0.0752, Val Loss: 0.0772\n",
      "No improvement in validation loss for 4 epoch(s).\n"
     ]
    },
    {
     "name": "stderr",
     "output_type": "stream",
     "text": [
      "Epoch 57/1000: 100%|██████████| 141/141 [00:00<00:00, 1549.08it/s]\n"
     ]
    },
    {
     "name": "stdout",
     "output_type": "stream",
     "text": [
      "Epoch [57/1000], Train Loss: 0.0745, Val Loss: 0.0760\n",
      "Best model saved with validation loss: 0.0760\n"
     ]
    },
    {
     "name": "stderr",
     "output_type": "stream",
     "text": [
      "Epoch 58/1000: 100%|██████████| 141/141 [00:00<00:00, 1569.46it/s]\n"
     ]
    },
    {
     "name": "stdout",
     "output_type": "stream",
     "text": [
      "Epoch [58/1000], Train Loss: 0.0743, Val Loss: 0.0754\n",
      "Best model saved with validation loss: 0.0754\n"
     ]
    },
    {
     "name": "stderr",
     "output_type": "stream",
     "text": [
      "Epoch 59/1000: 100%|██████████| 141/141 [00:00<00:00, 1600.20it/s]\n"
     ]
    },
    {
     "name": "stdout",
     "output_type": "stream",
     "text": [
      "Epoch [59/1000], Train Loss: 0.0748, Val Loss: 0.0771\n",
      "No improvement in validation loss for 1 epoch(s).\n"
     ]
    },
    {
     "name": "stderr",
     "output_type": "stream",
     "text": [
      "Epoch 60/1000: 100%|██████████| 141/141 [00:00<00:00, 1210.29it/s]\n"
     ]
    },
    {
     "name": "stdout",
     "output_type": "stream",
     "text": [
      "Epoch [60/1000], Train Loss: 0.0743, Val Loss: 0.0760\n",
      "No improvement in validation loss for 2 epoch(s).\n"
     ]
    },
    {
     "name": "stderr",
     "output_type": "stream",
     "text": [
      "Epoch 61/1000: 100%|██████████| 141/141 [00:00<00:00, 1577.02it/s]\n"
     ]
    },
    {
     "name": "stdout",
     "output_type": "stream",
     "text": [
      "Epoch [61/1000], Train Loss: 0.0743, Val Loss: 0.0760\n",
      "No improvement in validation loss for 3 epoch(s).\n"
     ]
    },
    {
     "name": "stderr",
     "output_type": "stream",
     "text": [
      "Epoch 62/1000: 100%|██████████| 141/141 [00:00<00:00, 1610.01it/s]\n"
     ]
    },
    {
     "name": "stdout",
     "output_type": "stream",
     "text": [
      "Epoch [62/1000], Train Loss: 0.0743, Val Loss: 0.0761\n",
      "No improvement in validation loss for 4 epoch(s).\n"
     ]
    },
    {
     "name": "stderr",
     "output_type": "stream",
     "text": [
      "Epoch 63/1000: 100%|██████████| 141/141 [00:00<00:00, 1608.07it/s]\n"
     ]
    },
    {
     "name": "stdout",
     "output_type": "stream",
     "text": [
      "Epoch [63/1000], Train Loss: 0.0737, Val Loss: 0.0760\n",
      "No improvement in validation loss for 5 epoch(s).\n"
     ]
    },
    {
     "name": "stderr",
     "output_type": "stream",
     "text": [
      "Epoch 64/1000: 100%|██████████| 141/141 [00:00<00:00, 1583.52it/s]\n"
     ]
    },
    {
     "name": "stdout",
     "output_type": "stream",
     "text": [
      "Epoch [64/1000], Train Loss: 0.0743, Val Loss: 0.0760\n",
      "No improvement in validation loss for 6 epoch(s).\n"
     ]
    },
    {
     "name": "stderr",
     "output_type": "stream",
     "text": [
      "Epoch 65/1000: 100%|██████████| 141/141 [00:00<00:00, 1570.75it/s]\n"
     ]
    },
    {
     "name": "stdout",
     "output_type": "stream",
     "text": [
      "Epoch [65/1000], Train Loss: 0.0740, Val Loss: 0.0762\n",
      "No improvement in validation loss for 7 epoch(s).\n"
     ]
    },
    {
     "name": "stderr",
     "output_type": "stream",
     "text": [
      "Epoch 66/1000: 100%|██████████| 141/141 [00:00<00:00, 1485.84it/s]"
     ]
    },
    {
     "name": "stdout",
     "output_type": "stream",
     "text": [
      "Epoch [66/1000], Train Loss: 0.0738, Val Loss: 0.0755"
     ]
    },
    {
     "name": "stderr",
     "output_type": "stream",
     "text": [
      "\n"
     ]
    },
    {
     "name": "stdout",
     "output_type": "stream",
     "text": [
      "\n",
      "No improvement in validation loss for 8 epoch(s).\n"
     ]
    },
    {
     "name": "stderr",
     "output_type": "stream",
     "text": [
      "Epoch 67/1000: 100%|██████████| 141/141 [00:00<00:00, 1577.13it/s]"
     ]
    },
    {
     "name": "stdout",
     "output_type": "stream",
     "text": [
      "Epoch [67/1000], Train Loss: 0.0736, Val Loss: 0.0752\n"
     ]
    },
    {
     "name": "stderr",
     "output_type": "stream",
     "text": [
      "\n"
     ]
    },
    {
     "name": "stdout",
     "output_type": "stream",
     "text": [
      "Best model saved with validation loss: 0.0752\n"
     ]
    },
    {
     "name": "stderr",
     "output_type": "stream",
     "text": [
      "Epoch 68/1000: 100%|██████████| 141/141 [00:00<00:00, 1587.77it/s]\n"
     ]
    },
    {
     "name": "stdout",
     "output_type": "stream",
     "text": [
      "Epoch [68/1000], Train Loss: 0.0733, Val Loss: 0.0761\n",
      "No improvement in validation loss for 1 epoch(s).\n"
     ]
    },
    {
     "name": "stderr",
     "output_type": "stream",
     "text": [
      "Epoch 69/1000: 100%|██████████| 141/141 [00:00<00:00, 1606.84it/s]\n"
     ]
    },
    {
     "name": "stdout",
     "output_type": "stream",
     "text": [
      "Epoch [69/1000], Train Loss: 0.0727, Val Loss: 0.0756\n",
      "No improvement in validation loss for 2 epoch(s).\n"
     ]
    },
    {
     "name": "stderr",
     "output_type": "stream",
     "text": [
      "Epoch 70/1000: 100%|██████████| 141/141 [00:00<00:00, 1608.78it/s]\n"
     ]
    },
    {
     "name": "stdout",
     "output_type": "stream",
     "text": [
      "Epoch [70/1000], Train Loss: 0.0733, Val Loss: 0.0759\n",
      "No improvement in validation loss for 3 epoch(s).\n"
     ]
    },
    {
     "name": "stderr",
     "output_type": "stream",
     "text": [
      "Epoch 71/1000: 100%|██████████| 141/141 [00:00<00:00, 1113.90it/s]\n"
     ]
    },
    {
     "name": "stdout",
     "output_type": "stream",
     "text": [
      "Epoch [71/1000], Train Loss: 0.0740, Val Loss: 0.0754\n",
      "No improvement in validation loss for 4 epoch(s).\n"
     ]
    },
    {
     "name": "stderr",
     "output_type": "stream",
     "text": [
      "Epoch 72/1000: 100%|██████████| 141/141 [00:00<00:00, 1602.07it/s]\n"
     ]
    },
    {
     "name": "stdout",
     "output_type": "stream",
     "text": [
      "Epoch [72/1000], Train Loss: 0.0727, Val Loss: 0.0768\n",
      "No improvement in validation loss for 5 epoch(s).\n"
     ]
    },
    {
     "name": "stderr",
     "output_type": "stream",
     "text": [
      "Epoch 73/1000: 100%|██████████| 141/141 [00:00<00:00, 1600.11it/s]\n"
     ]
    },
    {
     "name": "stdout",
     "output_type": "stream",
     "text": [
      "Epoch [73/1000], Train Loss: 0.0727, Val Loss: 0.0754\n",
      "No improvement in validation loss for 6 epoch(s).\n"
     ]
    },
    {
     "name": "stderr",
     "output_type": "stream",
     "text": [
      "Epoch 74/1000: 100%|██████████| 141/141 [00:00<00:00, 1594.14it/s]\n"
     ]
    },
    {
     "name": "stdout",
     "output_type": "stream",
     "text": [
      "Epoch [74/1000], Train Loss: 0.0721, Val Loss: 0.0771\n",
      "No improvement in validation loss for 7 epoch(s).\n"
     ]
    },
    {
     "name": "stderr",
     "output_type": "stream",
     "text": [
      "Epoch 75/1000: 100%|██████████| 141/141 [00:00<00:00, 1498.77it/s]\n"
     ]
    },
    {
     "name": "stdout",
     "output_type": "stream",
     "text": [
      "Epoch [75/1000], Train Loss: 0.0717, Val Loss: 0.0750\n",
      "Best model saved with validation loss: 0.0750\n"
     ]
    },
    {
     "name": "stderr",
     "output_type": "stream",
     "text": [
      "Epoch 76/1000: 100%|██████████| 141/141 [00:00<00:00, 1570.60it/s]\n"
     ]
    },
    {
     "name": "stdout",
     "output_type": "stream",
     "text": [
      "Epoch [76/1000], Train Loss: 0.0720, Val Loss: 0.0751\n",
      "No improvement in validation loss for 1 epoch(s).\n"
     ]
    },
    {
     "name": "stderr",
     "output_type": "stream",
     "text": [
      "Epoch 77/1000: 100%|██████████| 141/141 [00:00<00:00, 1589.31it/s]\n"
     ]
    },
    {
     "name": "stdout",
     "output_type": "stream",
     "text": [
      "Epoch [77/1000], Train Loss: 0.0721, Val Loss: 0.0747\n",
      "Best model saved with validation loss: 0.0747\n"
     ]
    },
    {
     "name": "stderr",
     "output_type": "stream",
     "text": [
      "Epoch 78/1000: 100%|██████████| 141/141 [00:00<00:00, 1616.70it/s]\n"
     ]
    },
    {
     "name": "stdout",
     "output_type": "stream",
     "text": [
      "Epoch [78/1000], Train Loss: 0.0721, Val Loss: 0.0754\n",
      "No improvement in validation loss for 1 epoch(s).\n"
     ]
    },
    {
     "name": "stderr",
     "output_type": "stream",
     "text": [
      "Epoch 79/1000: 100%|██████████| 141/141 [00:00<00:00, 1599.01it/s]\n"
     ]
    },
    {
     "name": "stdout",
     "output_type": "stream",
     "text": [
      "Epoch [79/1000], Train Loss: 0.0719, Val Loss: 0.0756\n",
      "No improvement in validation loss for 2 epoch(s).\n"
     ]
    },
    {
     "name": "stderr",
     "output_type": "stream",
     "text": [
      "Epoch 80/1000: 100%|██████████| 141/141 [00:00<00:00, 1582.67it/s]\n"
     ]
    },
    {
     "name": "stdout",
     "output_type": "stream",
     "text": [
      "Epoch [80/1000], Train Loss: 0.0724, Val Loss: 0.0748\n",
      "No improvement in validation loss for 3 epoch(s).\n"
     ]
    },
    {
     "name": "stderr",
     "output_type": "stream",
     "text": [
      "Epoch 81/1000: 100%|██████████| 141/141 [00:00<00:00, 1532.02it/s]\n"
     ]
    },
    {
     "name": "stdout",
     "output_type": "stream",
     "text": [
      "Epoch [81/1000], Train Loss: 0.0723, Val Loss: 0.0747\n",
      "No improvement in validation loss for 4 epoch(s).\n"
     ]
    },
    {
     "name": "stderr",
     "output_type": "stream",
     "text": [
      "Epoch 82/1000: 100%|██████████| 141/141 [00:00<00:00, 1572.58it/s]\n"
     ]
    },
    {
     "name": "stdout",
     "output_type": "stream",
     "text": [
      "Epoch [82/1000], Train Loss: 0.0712, Val Loss: 0.0744\n",
      "Best model saved with validation loss: 0.0744\n"
     ]
    },
    {
     "name": "stderr",
     "output_type": "stream",
     "text": [
      "Epoch 83/1000: 100%|██████████| 141/141 [00:00<00:00, 1220.79it/s]\n"
     ]
    },
    {
     "name": "stdout",
     "output_type": "stream",
     "text": [
      "Epoch [83/1000], Train Loss: 0.0714, Val Loss: 0.0757\n",
      "No improvement in validation loss for 1 epoch(s).\n"
     ]
    },
    {
     "name": "stderr",
     "output_type": "stream",
     "text": [
      "Epoch 84/1000: 100%|██████████| 141/141 [00:00<00:00, 1486.35it/s]\n"
     ]
    },
    {
     "name": "stdout",
     "output_type": "stream",
     "text": [
      "Epoch [84/1000], Train Loss: 0.0716, Val Loss: 0.0765\n",
      "No improvement in validation loss for 2 epoch(s).\n"
     ]
    },
    {
     "name": "stderr",
     "output_type": "stream",
     "text": [
      "Epoch 85/1000: 100%|██████████| 141/141 [00:00<00:00, 1559.27it/s]\n"
     ]
    },
    {
     "name": "stdout",
     "output_type": "stream",
     "text": [
      "Epoch [85/1000], Train Loss: 0.0710, Val Loss: 0.0752\n",
      "No improvement in validation loss for 3 epoch(s).\n"
     ]
    },
    {
     "name": "stderr",
     "output_type": "stream",
     "text": [
      "Epoch 86/1000: 100%|██████████| 141/141 [00:00<00:00, 1594.21it/s]\n"
     ]
    },
    {
     "name": "stdout",
     "output_type": "stream",
     "text": [
      "Epoch [86/1000], Train Loss: 0.0707, Val Loss: 0.0749\n",
      "No improvement in validation loss for 4 epoch(s).\n"
     ]
    },
    {
     "name": "stderr",
     "output_type": "stream",
     "text": [
      "Epoch 87/1000: 100%|██████████| 141/141 [00:00<00:00, 1567.57it/s]\n"
     ]
    },
    {
     "name": "stdout",
     "output_type": "stream",
     "text": [
      "Epoch [87/1000], Train Loss: 0.0714, Val Loss: 0.0752\n",
      "No improvement in validation loss for 5 epoch(s).\n"
     ]
    },
    {
     "name": "stderr",
     "output_type": "stream",
     "text": [
      "Epoch 88/1000: 100%|██████████| 141/141 [00:00<00:00, 1591.71it/s]\n"
     ]
    },
    {
     "name": "stdout",
     "output_type": "stream",
     "text": [
      "Epoch [88/1000], Train Loss: 0.0717, Val Loss: 0.0746\n",
      "No improvement in validation loss for 6 epoch(s).\n"
     ]
    },
    {
     "name": "stderr",
     "output_type": "stream",
     "text": [
      "Epoch 89/1000: 100%|██████████| 141/141 [00:00<00:00, 1607.48it/s]\n"
     ]
    },
    {
     "name": "stdout",
     "output_type": "stream",
     "text": [
      "Epoch [89/1000], Train Loss: 0.0705, Val Loss: 0.0762\n",
      "No improvement in validation loss for 7 epoch(s).\n"
     ]
    },
    {
     "name": "stderr",
     "output_type": "stream",
     "text": [
      "Epoch 90/1000: 100%|██████████| 141/141 [00:00<00:00, 1552.09it/s]\n"
     ]
    },
    {
     "name": "stdout",
     "output_type": "stream",
     "text": [
      "Epoch [90/1000], Train Loss: 0.0709, Val Loss: 0.0748\n",
      "No improvement in validation loss for 8 epoch(s).\n"
     ]
    },
    {
     "name": "stderr",
     "output_type": "stream",
     "text": [
      "Epoch 91/1000: 100%|██████████| 141/141 [00:00<00:00, 1590.18it/s]\n"
     ]
    },
    {
     "name": "stdout",
     "output_type": "stream",
     "text": [
      "Epoch [91/1000], Train Loss: 0.0707, Val Loss: 0.0742\n",
      "Best model saved with validation loss: 0.0742\n"
     ]
    },
    {
     "name": "stderr",
     "output_type": "stream",
     "text": [
      "Epoch 92/1000: 100%|██████████| 141/141 [00:00<00:00, 1591.95it/s]\n"
     ]
    },
    {
     "name": "stdout",
     "output_type": "stream",
     "text": [
      "Epoch [92/1000], Train Loss: 0.0698, Val Loss: 0.0735\n",
      "Best model saved with validation loss: 0.0735\n"
     ]
    },
    {
     "name": "stderr",
     "output_type": "stream",
     "text": [
      "Epoch 93/1000: 100%|██████████| 141/141 [00:00<00:00, 1586.20it/s]\n"
     ]
    },
    {
     "name": "stdout",
     "output_type": "stream",
     "text": [
      "Epoch [93/1000], Train Loss: 0.0697, Val Loss: 0.0750\n",
      "No improvement in validation loss for 1 epoch(s).\n"
     ]
    },
    {
     "name": "stderr",
     "output_type": "stream",
     "text": [
      "Epoch 94/1000: 100%|██████████| 141/141 [00:00<00:00, 1200.05it/s]\n"
     ]
    },
    {
     "name": "stdout",
     "output_type": "stream",
     "text": [
      "Epoch [94/1000], Train Loss: 0.0702, Val Loss: 0.0744\n",
      "No improvement in validation loss for 2 epoch(s).\n"
     ]
    },
    {
     "name": "stderr",
     "output_type": "stream",
     "text": [
      "Epoch 95/1000: 100%|██████████| 141/141 [00:00<00:00, 1404.16it/s]\n"
     ]
    },
    {
     "name": "stdout",
     "output_type": "stream",
     "text": [
      "Epoch [95/1000], Train Loss: 0.0707, Val Loss: 0.0747\n",
      "No improvement in validation loss for 3 epoch(s).\n"
     ]
    },
    {
     "name": "stderr",
     "output_type": "stream",
     "text": [
      "Epoch 96/1000: 100%|██████████| 141/141 [00:00<00:00, 1590.72it/s]\n"
     ]
    },
    {
     "name": "stdout",
     "output_type": "stream",
     "text": [
      "Epoch [96/1000], Train Loss: 0.0697, Val Loss: 0.0765\n",
      "No improvement in validation loss for 4 epoch(s).\n"
     ]
    },
    {
     "name": "stderr",
     "output_type": "stream",
     "text": [
      "Epoch 97/1000: 100%|██████████| 141/141 [00:00<00:00, 1603.00it/s]\n"
     ]
    },
    {
     "name": "stdout",
     "output_type": "stream",
     "text": [
      "Epoch [97/1000], Train Loss: 0.0705, Val Loss: 0.0744\n",
      "No improvement in validation loss for 5 epoch(s).\n"
     ]
    },
    {
     "name": "stderr",
     "output_type": "stream",
     "text": [
      "Epoch 98/1000: 100%|██████████| 141/141 [00:00<00:00, 1597.39it/s]\n"
     ]
    },
    {
     "name": "stdout",
     "output_type": "stream",
     "text": [
      "Epoch [98/1000], Train Loss: 0.0700, Val Loss: 0.0752\n",
      "No improvement in validation loss for 6 epoch(s).\n"
     ]
    },
    {
     "name": "stderr",
     "output_type": "stream",
     "text": [
      "Epoch 99/1000: 100%|██████████| 141/141 [00:00<00:00, 1606.58it/s]\n"
     ]
    },
    {
     "name": "stdout",
     "output_type": "stream",
     "text": [
      "Epoch [99/1000], Train Loss: 0.0700, Val Loss: 0.0752\n",
      "No improvement in validation loss for 7 epoch(s).\n"
     ]
    },
    {
     "name": "stderr",
     "output_type": "stream",
     "text": [
      "Epoch 100/1000: 100%|██████████| 141/141 [00:00<00:00, 1580.78it/s]\n"
     ]
    },
    {
     "name": "stdout",
     "output_type": "stream",
     "text": [
      "Epoch [100/1000], Train Loss: 0.0700, Val Loss: 0.0751\n",
      "No improvement in validation loss for 8 epoch(s).\n"
     ]
    },
    {
     "name": "stderr",
     "output_type": "stream",
     "text": [
      "Epoch 101/1000: 100%|██████████| 141/141 [00:00<00:00, 1581.09it/s]\n"
     ]
    },
    {
     "name": "stdout",
     "output_type": "stream",
     "text": [
      "Epoch [101/1000], Train Loss: 0.0693, Val Loss: 0.0743\n",
      "No improvement in validation loss for 9 epoch(s).\n"
     ]
    },
    {
     "name": "stderr",
     "output_type": "stream",
     "text": [
      "Epoch 102/1000: 100%|██████████| 141/141 [00:00<00:00, 1596.54it/s]\n"
     ]
    },
    {
     "name": "stdout",
     "output_type": "stream",
     "text": [
      "Epoch [102/1000], Train Loss: 0.0694, Val Loss: 0.0738\n",
      "No improvement in validation loss for 10 epoch(s).\n",
      "Early stopping triggered.\n"
     ]
    },
    {
     "data": {
      "image/png": "[encoded data removed]",
      "text/plain": [
       "<Figure size 1000x500 with 1 Axes>"
      ]
     },
     "metadata": {},
     "output_type": "display_data"
    }
   ],
   "source": [
    "\n",
    "# import torch\n",
    "# import matplotlib.pyplot as plt\n",
    "from tqdm import tqdm\n",
    "import os\n",
    "\n",
    "# Ensure 'checkpoint_dir' is defined\n",
    "checkpoint_dir = 'checkpoints_05'  # Update as needed\n",
    "os.makedirs(checkpoint_dir, exist_ok=True)\n",
    "\n",
    "# Check if a GPU is available and set device accordingly\n",
    "device = torch.device('cuda' if torch.cuda.is_available() else 'cpu')\n",
    "model.to(device)\n",
    "\n",
    "# Initialize lists to store losses\n",
    "train_losses = []\n",
    "val_losses = []\n",
    "\n",
    "# Set the number of epochs and early stopping parameters\n",
    "num_epochs = 1000\n",
    "patience = 10\n",
    "best_val_loss = float('inf')\n",
    "counter = 0\n",
    "\n",
    "for epoch in range(num_epochs):\n",
    "    model.train()\n",
    "    train_loss = 0\n",
    "\n",
    "    for batch_data, batch_labels in tqdm(train_dataloader, desc=f'Epoch {epoch+1}/{num_epochs}'):\n",
    "        batch_data = batch_data.to(device)\n",
    "        batch_labels = batch_labels.to(device)\n",
    "\n",
    "        # Forward pass\n",
    "        outputs = model(batch_data)\n",
    "        loss = criterion(outputs, batch_labels)\n",
    "\n",
    "        # Backward pass and optimization\n",
    "        optimizer.zero_grad()\n",
    "        loss.backward()\n",
    "        optimizer.step()\n",
    "\n",
    "        train_loss += loss.item()\n",
    "\n",
    "    avg_train_loss = train_loss / len(train_dataloader)\n",
    "    train_losses.append(avg_train_loss)\n",
    "\n",
    "    # Validation\n",
    "    model.eval()\n",
    "    val_loss = 0\n",
    "\n",
    "    with torch.no_grad():\n",
    "        for val_data, val_labels in val_dataloader:\n",
    "            val_data = val_data.to(device)\n",
    "            val_labels = val_labels.to(device)\n",
    "\n",
    "            outputs = model(val_data)\n",
    "            loss = criterion(outputs, val_labels)\n",
    "\n",
    "            val_loss += loss.item()\n",
    "\n",
    "    avg_val_loss = val_loss / len(val_dataloader)\n",
    "    val_losses.append(avg_val_loss)\n",
    "\n",
    "    print(f'Epoch [{epoch+1}/{num_epochs}], Train Loss: {avg_train_loss:.4f}, Val Loss: {avg_val_loss:.4f}')\n",
    "\n",
    "    # Early Stopping and Checkpoint Saving\n",
    "    if avg_val_loss < best_val_loss:\n",
    "        best_val_loss = avg_val_loss\n",
    "        # Save only the model's state_dict\n",
    "        torch.save(model.state_dict(), os.path.join(checkpoint_dir, 'best_tempo_model.pth'))\n",
    "        print(f\"Best model saved with validation loss: {best_val_loss:.4f}\")\n",
    "        counter = 0\n",
    "    else:\n",
    "        counter += 1\n",
    "        print(f\"No improvement in validation loss for {counter} epoch(s).\")\n",
    "        if counter >= patience:\n",
    "            print(\"Early stopping triggered.\")\n",
    "            break\n",
    "\n",
    "# Plot the training and validation losses\n",
    "plt.figure(figsize=(10, 5))\n",
    "plt.plot(train_losses, label=\"Train Loss\", color=\"blue\")\n",
    "plt.plot(val_losses, label=\"Validation Loss\", color=\"red\")\n",
    "plt.title('Training and Validation Loss Over Epochs')\n",
    "plt.xlabel('Epochs')\n",
    "plt.ylabel('MAE Loss')\n",
    "plt.legend()\n",
    "plt.show()\n"
   ]
  },
  {
   "cell_type": "markdown",
   "metadata": {},
   "source": []
  },
  {
   "cell_type": "markdown",
   "metadata": {},
   "source": [
    "Step 8: Analyze the Learned Representations\n",
    "8.1: Extract Latent Features from the training data"
   ]
  },
  {
   "cell_type": "code",
   "execution_count": 67,
   "metadata": {},
   "outputs": [
    {
     "name": "stdout",
     "output_type": "stream",
     "text": [
      "Mean Absolute Error in Tempo Estimation: 23.21 BPM\n"
     ]
    },
    {
     "name": "stderr",
     "output_type": "stream",
     "text": [
      "/var/folders/5k/5lwm6jlm8xjb4h00r6bnjs280000gn/T/ipykernel_83794/2116281443.py:8: FutureWarning: You are using `torch.load` with `weights_only=False` (the current default value), which uses the default pickle module implicitly. It is possible to construct malicious pickle data which will execute arbitrary code during unpickling (See https://github.com/pytorch/pytorch/blob/main/SECURITY.md#untrusted-models for more details). In a future release, the default value for `weights_only` will be flipped to `True`. This limits the functions that could be executed during unpickling. Arbitrary objects will no longer be allowed to be loaded via this mode unless they are explicitly allowlisted by the user via `torch.serialization.add_safe_globals`. We recommend you start setting `weights_only=True` for any use case where you don't have full control of the loaded file. Please open an issue on GitHub for any issues related to this experimental feature.\n",
      "  model.load_state_dict(torch.load(model_path))\n"
     ]
    },
    {
     "data": {
      "image/png": "[encoded data removed]",
      "text/plain": [
       "<Figure size 800x600 with 1 Axes>"
      ]
     },
     "metadata": {},
     "output_type": "display_data"
    }
   ],
   "source": [
    "from sklearn.metrics import mean_absolute_error\n",
    "\n",
    "# Load the best model from checkpoints_05\n",
    "checkpoint_dir = 'checkpoints_05'  # Specify the directory where your model is saved\n",
    "model_path = os.path.join(checkpoint_dir, 'best_tempo_model.pth')  # Adjust the filename if needed\n",
    "\n",
    "# Load the model's state_dict\n",
    "model.load_state_dict(torch.load(model_path))\n",
    "model.to(device)\n",
    "model.eval()\n",
    "\n",
    "true_tempos = []\n",
    "predicted_tempos = []\n",
    "\n",
    "with torch.no_grad():\n",
    "    for val_data, val_labels in val_dataloader:\n",
    "        val_data = val_data.to(device)\n",
    "        val_labels = val_labels.to(device)\n",
    "\n",
    "        outputs = model(val_data)\n",
    "\n",
    "        # Collect true and predicted tempos\n",
    "        true_tempos.extend(val_labels.cpu().numpy())\n",
    "        predicted_tempos.extend(outputs.cpu().numpy())\n",
    "\n",
    "# Rescale predictions and true labels back to original tempo range\n",
    "true_tempos_rescaled = [t * max_tempo for t in true_tempos]\n",
    "predicted_tempos_rescaled = [p * max_tempo for p in predicted_tempos]\n",
    "\n",
    "# Compute Mean Absolute Error\n",
    "mae = mean_absolute_error(true_tempos_rescaled, predicted_tempos_rescaled)\n",
    "print(f\"Mean Absolute Error in Tempo Estimation: {mae:.2f} BPM\")\n",
    "\n",
    "# Plot true vs. predicted tempos\n",
    "plt.figure(figsize=(8, 6))\n",
    "plt.scatter(true_tempos_rescaled, predicted_tempos_rescaled, alpha=0.7)\n",
    "plt.plot([min(true_tempos_rescaled), max(true_tempos_rescaled)],\n",
    "         [min(true_tempos_rescaled), max(true_tempos_rescaled)], 'r--')\n",
    "plt.xlabel('True Tempo (BPM)')\n",
    "plt.ylabel('Predicted Tempo (BPM)')\n",
    "plt.title('True vs. Predicted Tempo')\n",
    "plt.show()\n"
   ]
  },
  {
   "cell_type": "markdown",
   "metadata": {},
   "source": [
    "## Transform to ONNX"
   ]
  },
  {
   "cell_type": "code",
   "execution_count": 50,
   "metadata": {},
   "outputs": [
    {
     "name": "stdout",
     "output_type": "stream",
     "text": [
      "ONNX model saved to checkpoints_05/tempo_model.onnx\n"
     ]
    },
    {
     "name": "stderr",
     "output_type": "stream",
     "text": [
      "/var/folders/5k/5lwm6jlm8xjb4h00r6bnjs280000gn/T/ipykernel_83794/224878899.py:15: FutureWarning: You are using `torch.load` with `weights_only=False` (the current default value), which uses the default pickle module implicitly. It is possible to construct malicious pickle data which will execute arbitrary code during unpickling (See https://github.com/pytorch/pytorch/blob/main/SECURITY.md#untrusted-models for more details). In a future release, the default value for `weights_only` will be flipped to `True`. This limits the functions that could be executed during unpickling. Arbitrary objects will no longer be allowed to be loaded via this mode unless they are explicitly allowlisted by the user via `torch.serialization.add_safe_globals`. We recommend you start setting `weights_only=True` for any use case where you don't have full control of the loaded file. Please open an issue on GitHub for any issues related to this experimental feature.\n",
      "  model.load_state_dict(torch.load(model_path))\n"
     ]
    }
   ],
   "source": [
    "import torch\n",
    "import onnx\n",
    "import os\n",
    "\n",
    "# Assuming the model has already been instantiated and is available as `model`\n",
    "# Define the directory and file paths\n",
    "checkpoint_dir = 'checkpoints_05'  # Directory to save/load the ONNX model\n",
    "os.makedirs(checkpoint_dir, exist_ok=True)\n",
    "\n",
    "# Load your trained model from the specified checkpoint directory\n",
    "model_path = os.path.join(checkpoint_dir, 'best_tempo_model.pth')\n",
    "onnx_model_path = os.path.join(checkpoint_dir, 'tempo_model.onnx')\n",
    "\n",
    "# Load the state_dict into the existing model instance\n",
    "model.load_state_dict(torch.load(model_path))\n",
    "model.eval()\n",
    "\n",
    "# Dummy input for the model (size should match the input size of your model)\n",
    "dummy_input = torch.randn(1, model.fc1.in_features)  # `model.fc1.in_features` gets the input size\n",
    "\n",
    "# Export the model to ONNX and save it in the specified directory\n",
    "torch.onnx.export(model, dummy_input, onnx_model_path, opset_version=11)\n",
    "\n",
    "print(f\"ONNX model saved to {onnx_model_path}\")\n"
   ]
  }
 ],
 "metadata": {
  "kernelspec": {
   "display_name": "aicp",
   "language": "python",
   "name": "python3"
  },
  "language_info": {
   "codemirror_mode": {
    "name": "ipython",
    "version": 3
   },
   "file_extension": ".py",
   "mimetype": "text/x-python",
   "name": "python",
   "nbconvert_exporter": "python",
   "pygments_lexer": "ipython3",
   "version": "3.10.14"
  }
 },
 "nbformat": 4,
 "nbformat_minor": 2
}
