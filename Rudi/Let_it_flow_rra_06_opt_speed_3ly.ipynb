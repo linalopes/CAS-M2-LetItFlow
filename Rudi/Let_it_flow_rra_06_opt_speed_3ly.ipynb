{
 "cells": [
  {
   "cell_type": "markdown",
   "metadata": {},
   "source": [
    "# Looking for a representation of tempo in the data"
   ]
  },
  {
   "cell_type": "code",
   "execution_count": 2,
   "metadata": {},
   "outputs": [],
   "source": [
    "# Cell 1: Import Libraries\n",
    "import os\n",
    "import librosa\n",
    "import numpy as np\n",
    "import torch\n",
    "from torch.utils.data import Dataset, DataLoader\n",
    "import torch.nn as nn\n",
    "import torch.optim as optim\n",
    "from tqdm.notebook import tqdm\n",
    "import matplotlib.pyplot as plt\n",
    "%matplotlib inline\n"
   ]
  },
  {
   "cell_type": "markdown",
   "metadata": {},
   "source": [
    "## 2. Define Preprocessing Steps\n",
    "1. Normalize\n",
    "2. Create 3. Sek. Chunks to analyse, and use it for overlapping\n",
    "3. Estimate the speed"
   ]
  },
  {
   "cell_type": "code",
   "execution_count": 60,
   "metadata": {},
   "outputs": [],
   "source": [
    "def load_and_preprocess_audio(file_path, target_sr=16000):\n",
    "    \"\"\"Load and preprocess audio file.\"\"\"\n",
    "    y, sr = librosa.load(file_path, sr=None)\n",
    "    \n",
    "    # Downsample if necessary\n",
    "    if sr != target_sr:\n",
    "        y = librosa.resample(y, orig_sr=sr, target_sr=target_sr)\n",
    "    \n",
    "    return y\n",
    "\n",
    "def segment_audio(y, sr, segment_length=3.0, hop_length=1.0):\n",
    "    \"\"\"Segment audio into overlapping chunks without discarding any segments.\"\"\"\n",
    "    segment_samples = int(segment_length * sr)\n",
    "    hop_samples = int(hop_length * sr)\n",
    "    segments = []\n",
    "    \n",
    "    for start in range(0, len(y) - segment_samples + 1, hop_samples):\n",
    "        end = start + segment_samples\n",
    "        segment = y[start:end]\n",
    "        \n",
    "        # Add the segment without applying any RMS threshold\n",
    "        segments.append(segment)\n",
    "    \n",
    "    return segments\n"
   ]
  },
  {
   "cell_type": "markdown",
   "metadata": {},
   "source": [
    "## Load and process Audio Files\n",
    "Audiofiles are loaded and processed in the following way: Resample to 16kHz, normalize to 0dB, and convert to mono. Segments are extracted from the audio files. The Segments are 3 seconds long and overlap by 1 second."
   ]
  },
  {
   "cell_type": "code",
   "execution_count": 61,
   "metadata": {},
   "outputs": [
    {
     "name": "stderr",
     "output_type": "stream",
     "text": [
      "Loading and preprocessing audio files: 100%|██████████| 615/615 [00:34<00:00, 17.96it/s]\n"
     ]
    }
   ],
   "source": [
    "# Path to your dataset folder\n",
    "dataset_path = '../dataset'\n",
    "\n",
    "# Get list of audio files\n",
    "audio_files = [os.path.join(dataset_path, f) for f in os.listdir(dataset_path) if f.endswith('.wav')]\n",
    "\n",
    "# Preprocess and store audio segments and tempo labels\n",
    "audio_segments = []\n",
    "tempo_labels = []\n",
    "\n",
    "for file in tqdm(audio_files, desc='Loading and preprocessing audio files'):\n",
    "    y = load_and_preprocess_audio(file)\n",
    "    segments = segment_audio(y, sr=16000, segment_length=3.0, hop_length=1.0)\n",
    "    for segment in segments:\n",
    "        # Estimate tempo for each segment\n",
    "        tempo = estimate_tempo(segment)\n",
    "        audio_segments.append(segment)\n",
    "        tempo_labels.append(tempo)\n",
    "\n",
    "# Convert tempo_labels to a NumPy array\n",
    "tempo_labels = np.array(tempo_labels)\n",
    "\n",
    "# Identify valid indices where tempo is not NaN\n",
    "valid_indices = ~np.isnan(tempo_labels)\n",
    "\n",
    "# Filter the audio_segments and tempo_labels\n",
    "audio_segments = [audio_segments[i] for i in range(len(audio_segments)) if valid_indices[i]]\n",
    "tempo_labels = tempo_labels[valid_indices]\n"
   ]
  },
  {
   "cell_type": "markdown",
   "metadata": {},
   "source": [
    "## Cell 4: Define Feature Extraction Function"
   ]
  },
  {
   "cell_type": "code",
   "execution_count": 62,
   "metadata": {},
   "outputs": [],
   "source": [
    "\n",
    "\n",
    "def extract_features(y, sr=16000):\n",
    "    \"\"\"Extract various audio features.\"\"\"\n",
    "    # Tempogram features\n",
    "    oenv = librosa.onset.onset_strength(y=y, sr=sr)\n",
    "    tempogram = librosa.feature.tempogram(onset_envelope=oenv, sr=sr)\n",
    "    tempogram_mean = np.mean(tempogram, axis=1)\n",
    "    \n",
    "    # MFCC features\n",
    "    mfcc = librosa.feature.mfcc(y=y, sr=sr, n_mfcc=13)\n",
    "    mfcc_mean = np.mean(mfcc, axis=1)\n",
    "    \n",
    "    # Chroma features\n",
    "    chroma = librosa.feature.chroma_stft(y=y, sr=sr)\n",
    "    chroma_mean = np.mean(chroma, axis=1)\n",
    "    \n",
    "    # Spectral Contrast\n",
    "    contrast = librosa.feature.spectral_contrast(y=y, sr=sr)\n",
    "    contrast_mean = np.mean(contrast, axis=1)\n",
    "    \n",
    "    # Concatenate all features\n",
    "    features = np.concatenate((tempogram_mean, mfcc_mean, chroma_mean, contrast_mean))\n",
    "    return features\n",
    "\n",
    "\n"
   ]
  },
  {
   "cell_type": "markdown",
   "metadata": {},
   "source": [
    "## Cell 5: Extract Features from All Segments"
   ]
  },
  {
   "cell_type": "code",
   "execution_count": 63,
   "metadata": {},
   "outputs": [
    {
     "name": "stderr",
     "output_type": "stream",
     "text": [
      "Extracting features: 100%|██████████| 5638/5638 [01:40<00:00, 56.37it/s]\n"
     ]
    }
   ],
   "source": [
    "\n",
    "\n",
    "# Extract features for all segments\n",
    "feature_vectors = []\n",
    "\n",
    "for y in tqdm(audio_segments, desc='Extracting features'):\n",
    "    features = extract_features(y)\n",
    "    feature_vectors.append(features)\n",
    "\n",
    "# Convert feature_vectors to a NumPy array\n",
    "feature_vectors = np.array(feature_vectors)\n"
   ]
  },
  {
   "cell_type": "markdown",
   "metadata": {},
   "source": [
    "## Cell 6: Normalize Features"
   ]
  },
  {
   "cell_type": "code",
   "execution_count": 64,
   "metadata": {},
   "outputs": [
    {
     "name": "stdout",
     "output_type": "stream",
     "text": [
      "Feature vectors normalized shape: (5638, 416)\n"
     ]
    }
   ],
   "source": [
    "\n",
    "\n",
    "# Normalize features\n",
    "feature_mean = np.mean(feature_vectors, axis=0)\n",
    "feature_std = np.std(feature_vectors, axis=0)\n",
    "feature_std[feature_std == 0] = 1e-6  # Avoid division by zero\n",
    "feature_vectors_normalized = (feature_vectors - feature_mean) / feature_std\n",
    "\n",
    "# Add a print statement to confirm variable creation\n",
    "print(\"Feature vectors normalized shape:\", feature_vectors_normalized.shape)\n"
   ]
  },
  {
   "cell_type": "markdown",
   "metadata": {},
   "source": [
    "## Cell 7: Normalize Tempo Labels\n"
   ]
  },
  {
   "cell_type": "code",
   "execution_count": 65,
   "metadata": {},
   "outputs": [],
   "source": [
    "\n",
    "# Compute the maximum tempo value\n",
    "max_tempo = np.max(tempo_labels)\n",
    "\n",
    "# Normalize tempo labels\n",
    "tempo_labels_normalized = tempo_labels / max_tempo\n"
   ]
  },
  {
   "cell_type": "markdown",
   "metadata": {},
   "source": [
    "## Cell 8: Create a Custom Dataset\n"
   ]
  },
  {
   "cell_type": "code",
   "execution_count": 66,
   "metadata": {},
   "outputs": [],
   "source": [
    "\n",
    "from torch.utils.data import Dataset, DataLoader\n",
    "\n",
    "class TempoDataset(Dataset):\n",
    "    def __init__(self, feature_vectors, tempo_labels):\n",
    "        self.feature_vectors = torch.tensor(feature_vectors).float()\n",
    "        self.tempo_labels = torch.tensor(tempo_labels).float()\n",
    "\n",
    "    def __len__(self):\n",
    "        return len(self.feature_vectors)\n",
    "\n",
    "    def __getitem__(self, idx):\n",
    "        return self.feature_vectors[idx], self.tempo_labels[idx]\n"
   ]
  },
  {
   "cell_type": "markdown",
   "metadata": {},
   "source": [
    "## Cell 9: Split Dataset\n"
   ]
  },
  {
   "cell_type": "code",
   "execution_count": 67,
   "metadata": {},
   "outputs": [],
   "source": [
    "\n",
    "from sklearn.model_selection import train_test_split\n",
    "\n",
    "# Use normalized features and labels\n",
    "train_features, val_features, train_labels, val_labels = train_test_split(\n",
    "    feature_vectors_normalized, tempo_labels_normalized, test_size=0.2, random_state=42)\n",
    "\n"
   ]
  },
  {
   "cell_type": "markdown",
   "metadata": {},
   "source": [
    "## Cell 10: Create DataLoaders\n",
    "\n",
    "Create DataLoaders"
   ]
  },
  {
   "cell_type": "code",
   "execution_count": 68,
   "metadata": {},
   "outputs": [],
   "source": [
    "train_dataset = TempoDataset(train_features, train_labels)\n",
    "train_dataloader = DataLoader(train_dataset, batch_size=32, shuffle=True)\n",
    "\n",
    "val_dataset = TempoDataset(val_features, val_labels)\n",
    "val_dataloader = DataLoader(val_dataset, batch_size=32, shuffle=False)"
   ]
  },
  {
   "cell_type": "markdown",
   "metadata": {},
   "source": [
    "## Cell 11: Define the Regression Model\n",
    "This network is designed to predict a tempo value (or a related feature) from the input data.\n"
   ]
  },
  {
   "cell_type": "markdown",
   "metadata": {},
   "source": [
    "# Layers\n",
    "1.  Fully Connected Layer (fc1): The first layer takes the input data (with input_size features) and maps it to hidden_size neurons.\n",
    "2. ReLU Activation: Applies the Rectified Linear Unit (ReLU) activation, which introduces non-linearity, helping the network learn complex patterns.\n",
    "3.  Dropout: Applies dropout regularization to prevent overfitting.\n",
    "4. Second Fully Connected Layer (fc2): Reduces the number of neurons to half of the previous layer (hidden_size // 2), which helps in further feature extraction.\n",
    "5. Output Layer (fc3): Maps the reduced hidden layer to a single output neuron, representing the predicted tempo.\n",
    "\n",
    "The TempoRegressor is a feedforward neural network designed for regression tasks. It consists of three fully connected layers with ReLU activations and dropout for regularization. The sigmoid activation at the output ensures that the predicted value is in a normalized range. This architecture can effectively map input features (like audio characteristics) to a continuous value (e.g., tempo).\n"
   ]
  },
  {
   "cell_type": "code",
   "execution_count": 69,
   "metadata": {},
   "outputs": [],
   "source": [
    "import torch.nn as nn\n",
    "\n",
    "class TempoRegressor(nn.Module):\n",
    "    def __init__(self, input_size, hidden_size):\n",
    "        super(TempoRegressor, self).__init__()\n",
    "        self.fc1 = nn.Linear(input_size, hidden_size)\n",
    "        self.relu1 = nn.ReLU()\n",
    "        self.dropout1 = nn.Dropout(p=0.5)\n",
    "        \n",
    "        self.fc2 = nn.Linear(hidden_size, hidden_size // 2)\n",
    "        self.relu2 = nn.ReLU()\n",
    "        self.dropout2 = nn.Dropout(p=0.5)\n",
    "        \n",
    "        # New third hidden layer\n",
    "        self.fc3 = nn.Linear(hidden_size // 2, hidden_size // 4)\n",
    "        self.relu3 = nn.ReLU()\n",
    "        self.dropout3 = nn.Dropout(p=0.5)\n",
    "        \n",
    "        self.fc4 = nn.Linear(hidden_size // 4, 1)\n",
    "        self.sigmoid = nn.Sigmoid()  # Output between 0 and 1\n",
    "\n",
    "    def forward(self, x):\n",
    "        x = self.fc1(x)\n",
    "        x = self.relu1(x)\n",
    "        x = self.dropout1(x)\n",
    "        \n",
    "        x = self.fc2(x)\n",
    "        x = self.relu2(x)\n",
    "        x = self.dropout2(x)\n",
    "        \n",
    "        # Forward pass through new third layer\n",
    "        x = self.fc3(x)\n",
    "        x = self.relu3(x)\n",
    "        x = self.dropout3(x)\n",
    "        \n",
    "        x = self.fc4(x)\n",
    "        x = self.sigmoid(x)\n",
    "        return x.squeeze()\n"
   ]
  },
  {
   "cell_type": "markdown",
   "metadata": {},
   "source": [
    "# Cell 12: Initialize the Model"
   ]
  },
  {
   "cell_type": "code",
   "execution_count": 70,
   "metadata": {},
   "outputs": [],
   "source": [
    "# Define input_size and hidden_size based on the new feature vector size\n",
    "input_size = feature_vectors_normalized.shape[1]  # Number of features\n",
    "hidden_size = 128  # Adjusted hidden size\n",
    "\n",
    "# Initialize the updated model\n",
    "model = TempoRegressor(input_size, hidden_size)\n"
   ]
  },
  {
   "cell_type": "markdown",
   "metadata": {},
   "source": [
    "## Cell 13: Define Loss Function and Optimizer"
   ]
  },
  {
   "cell_type": "markdown",
   "metadata": {},
   "source": [
    "1. nn.L1Loss(): Calculates the Mean Absolute Error (MAE), which is less sensitive to outliers than MSE and provides a clear measure of average error.\n",
    "optim.\n",
    "2. Adam: The Adam optimizer with a learning rate of 0.0001 is chosen for its adaptive learning capabilities and to ensure smooth, stable training. Reducing the learning rate helps the model make smaller, precise adjustments during weight updates, improving overall performance."
   ]
  },
  {
   "cell_type": "code",
   "execution_count": 71,
   "metadata": {},
   "outputs": [],
   "source": [
    "\n",
    "\n",
    "import torch.optim as optim\n",
    "\n",
    "criterion = nn.L1Loss()  # Using Mean Absolute Error loss\n",
    "optimizer = optim.Adam(model.parameters(), lr=0.00001)  # Reduced learning rate\n"
   ]
  },
  {
   "cell_type": "markdown",
   "metadata": {},
   "source": [
    "## !!!!! OPTIONAL !!!! \n"
   ]
  },
  {
   "cell_type": "markdown",
   "metadata": {},
   "source": [
    "Resume Training form a previously saved model. (This means you need to run step 7 at least one time before)\n",
    "\n",
    "\n"
   ]
  },
  {
   "cell_type": "code",
   "execution_count": 49,
   "metadata": {},
   "outputs": [
    {
     "name": "stdout",
     "output_type": "stream",
     "text": [
      "Best model loaded successfully for evaluation.\n"
     ]
    },
    {
     "name": "stderr",
     "output_type": "stream",
     "text": [
      "/var/folders/5k/5lwm6jlm8xjb4h00r6bnjs280000gn/T/ipykernel_16769/1124066247.py:15: FutureWarning: You are using `torch.load` with `weights_only=False` (the current default value), which uses the default pickle module implicitly. It is possible to construct malicious pickle data which will execute arbitrary code during unpickling (See https://github.com/pytorch/pytorch/blob/main/SECURITY.md#untrusted-models for more details). In a future release, the default value for `weights_only` will be flipped to `True`. This limits the functions that could be executed during unpickling. Arbitrary objects will no longer be allowed to be loaded via this mode unless they are explicitly allowlisted by the user via `torch.serialization.add_safe_globals`. We recommend you start setting `weights_only=True` for any use case where you don't have full control of the loaded file. Please open an issue on GitHub for any issues related to this experimental feature.\n",
      "  model.load_state_dict(torch.load(best_model_path, map_location=device))\n"
     ]
    }
   ],
   "source": [
    "# Cell Before: Load the Best Model\n",
    "\n",
    "import torch\n",
    "\n",
    "# Ensure the model class TempoRegressor is defined\n",
    "# and input_size, hidden_size are set\n",
    "\n",
    "# Initialize the model\n",
    "model = TempoRegressor(input_size, hidden_size)\n",
    "model.to(device)\n",
    "\n",
    "# Load the best model from checkpoints_05\n",
    "checkpoint_dir = 'checkpoints_06'\n",
    "best_model_path = os.path.join(checkpoint_dir, 'best_tempo_model.pth')\n",
    "model.load_state_dict(torch.load(best_model_path, map_location=device))\n",
    "model.to(device)\n",
    "model.eval()\n",
    "\n",
    "print(\"Best model loaded successfully for evaluation.\")\n"
   ]
  },
  {
   "cell_type": "markdown",
   "metadata": {},
   "source": [
    "## Cell 14: Train the Model\n"
   ]
  },
  {
   "cell_type": "code",
   "execution_count": 72,
   "metadata": {},
   "outputs": [
    {
     "name": "stderr",
     "output_type": "stream",
     "text": [
      "Epoch 1/1000: 100%|██████████| 141/141 [00:00<00:00, 1242.98it/s]\n"
     ]
    },
    {
     "name": "stdout",
     "output_type": "stream",
     "text": [
      "Epoch [1/1000], Train Loss: 0.1367, Val Loss: 0.1324\n",
      "Best model saved with validation loss: 0.1324\n"
     ]
    },
    {
     "name": "stderr",
     "output_type": "stream",
     "text": [
      "Epoch 2/1000: 100%|██████████| 141/141 [00:00<00:00, 1343.96it/s]\n"
     ]
    },
    {
     "name": "stdout",
     "output_type": "stream",
     "text": [
      "Epoch [2/1000], Train Loss: 0.1309, Val Loss: 0.1257\n",
      "Best model saved with validation loss: 0.1257\n"
     ]
    },
    {
     "name": "stderr",
     "output_type": "stream",
     "text": [
      "Epoch 3/1000: 100%|██████████| 141/141 [00:00<00:00, 1229.07it/s]\n"
     ]
    },
    {
     "name": "stdout",
     "output_type": "stream",
     "text": [
      "Epoch [3/1000], Train Loss: 0.1238, Val Loss: 0.1188\n",
      "Best model saved with validation loss: 0.1188\n"
     ]
    },
    {
     "name": "stderr",
     "output_type": "stream",
     "text": [
      "Epoch 4/1000: 100%|██████████| 141/141 [00:00<00:00, 1227.66it/s]\n"
     ]
    },
    {
     "name": "stdout",
     "output_type": "stream",
     "text": [
      "Epoch [4/1000], Train Loss: 0.1185, Val Loss: 0.1124\n",
      "Best model saved with validation loss: 0.1124\n"
     ]
    },
    {
     "name": "stderr",
     "output_type": "stream",
     "text": [
      "Epoch 5/1000: 100%|██████████| 141/141 [00:00<00:00, 1137.45it/s]\n"
     ]
    },
    {
     "name": "stdout",
     "output_type": "stream",
     "text": [
      "Epoch [5/1000], Train Loss: 0.1143, Val Loss: 0.1070\n",
      "Best model saved with validation loss: 0.1070\n"
     ]
    },
    {
     "name": "stderr",
     "output_type": "stream",
     "text": [
      "Epoch 6/1000: 100%|██████████| 141/141 [00:00<00:00, 1147.01it/s]\n"
     ]
    },
    {
     "name": "stdout",
     "output_type": "stream",
     "text": [
      "Epoch [6/1000], Train Loss: 0.1115, Val Loss: 0.1039\n",
      "Best model saved with validation loss: 0.1039\n"
     ]
    },
    {
     "name": "stderr",
     "output_type": "stream",
     "text": [
      "Epoch 7/1000: 100%|██████████| 141/141 [00:00<00:00, 1357.90it/s]\n"
     ]
    },
    {
     "name": "stdout",
     "output_type": "stream",
     "text": [
      "Epoch [7/1000], Train Loss: 0.1095, Val Loss: 0.1015\n",
      "Best model saved with validation loss: 0.1015\n"
     ]
    },
    {
     "name": "stderr",
     "output_type": "stream",
     "text": [
      "Epoch 8/1000: 100%|██████████| 141/141 [00:00<00:00, 1231.15it/s]\n"
     ]
    },
    {
     "name": "stdout",
     "output_type": "stream",
     "text": [
      "Epoch [8/1000], Train Loss: 0.1094, Val Loss: 0.1007\n",
      "Best model saved with validation loss: 0.1007\n"
     ]
    },
    {
     "name": "stderr",
     "output_type": "stream",
     "text": [
      "Epoch 9/1000: 100%|██████████| 141/141 [00:00<00:00, 1231.06it/s]\n"
     ]
    },
    {
     "name": "stdout",
     "output_type": "stream",
     "text": [
      "Epoch [9/1000], Train Loss: 0.1080, Val Loss: 0.0995\n",
      "Best model saved with validation loss: 0.0995\n"
     ]
    },
    {
     "name": "stderr",
     "output_type": "stream",
     "text": [
      "Epoch 10/1000: 100%|██████████| 141/141 [00:00<00:00, 1321.40it/s]\n"
     ]
    },
    {
     "name": "stdout",
     "output_type": "stream",
     "text": [
      "Epoch [10/1000], Train Loss: 0.1087, Val Loss: 0.0994\n",
      "Best model saved with validation loss: 0.0994\n"
     ]
    },
    {
     "name": "stderr",
     "output_type": "stream",
     "text": [
      "Epoch 11/1000: 100%|██████████| 141/141 [00:00<00:00, 1276.38it/s]\n"
     ]
    },
    {
     "name": "stdout",
     "output_type": "stream",
     "text": [
      "Epoch [11/1000], Train Loss: 0.1070, Val Loss: 0.0991\n",
      "Best model saved with validation loss: 0.0991\n"
     ]
    },
    {
     "name": "stderr",
     "output_type": "stream",
     "text": [
      "Epoch 12/1000: 100%|██████████| 141/141 [00:00<00:00, 937.06it/s]\n"
     ]
    },
    {
     "name": "stdout",
     "output_type": "stream",
     "text": [
      "Epoch [12/1000], Train Loss: 0.1064, Val Loss: 0.0983\n",
      "Best model saved with validation loss: 0.0983\n"
     ]
    },
    {
     "name": "stderr",
     "output_type": "stream",
     "text": [
      "Epoch 13/1000: 100%|██████████| 141/141 [00:00<00:00, 1338.32it/s]\n"
     ]
    },
    {
     "name": "stdout",
     "output_type": "stream",
     "text": [
      "Epoch [13/1000], Train Loss: 0.1065, Val Loss: 0.0978\n",
      "Best model saved with validation loss: 0.0978\n"
     ]
    },
    {
     "name": "stderr",
     "output_type": "stream",
     "text": [
      "Epoch 14/1000: 100%|██████████| 141/141 [00:00<00:00, 1257.56it/s]\n"
     ]
    },
    {
     "name": "stdout",
     "output_type": "stream",
     "text": [
      "Epoch [14/1000], Train Loss: 0.1053, Val Loss: 0.0980\n",
      "No improvement in validation loss for 1 epoch(s).\n"
     ]
    },
    {
     "name": "stderr",
     "output_type": "stream",
     "text": [
      "Epoch 15/1000: 100%|██████████| 141/141 [00:00<00:00, 1360.61it/s]\n"
     ]
    },
    {
     "name": "stdout",
     "output_type": "stream",
     "text": [
      "Epoch [15/1000], Train Loss: 0.1051, Val Loss: 0.0977\n",
      "Best model saved with validation loss: 0.0977\n"
     ]
    },
    {
     "name": "stderr",
     "output_type": "stream",
     "text": [
      "Epoch 16/1000: 100%|██████████| 141/141 [00:00<00:00, 1397.84it/s]\n"
     ]
    },
    {
     "name": "stdout",
     "output_type": "stream",
     "text": [
      "Epoch [16/1000], Train Loss: 0.1045, Val Loss: 0.0973\n",
      "Best model saved with validation loss: 0.0973\n"
     ]
    },
    {
     "name": "stderr",
     "output_type": "stream",
     "text": [
      "Epoch 17/1000: 100%|██████████| 141/141 [00:00<00:00, 1172.26it/s]\n"
     ]
    },
    {
     "name": "stdout",
     "output_type": "stream",
     "text": [
      "Epoch [17/1000], Train Loss: 0.1026, Val Loss: 0.0967\n",
      "Best model saved with validation loss: 0.0967\n"
     ]
    },
    {
     "name": "stderr",
     "output_type": "stream",
     "text": [
      "Epoch 18/1000: 100%|██████████| 141/141 [00:00<00:00, 1346.49it/s]\n"
     ]
    },
    {
     "name": "stdout",
     "output_type": "stream",
     "text": [
      "Epoch [18/1000], Train Loss: 0.1027, Val Loss: 0.0964\n",
      "Best model saved with validation loss: 0.0964\n"
     ]
    },
    {
     "name": "stderr",
     "output_type": "stream",
     "text": [
      "Epoch 19/1000: 100%|██████████| 141/141 [00:00<00:00, 1308.77it/s]\n"
     ]
    },
    {
     "name": "stdout",
     "output_type": "stream",
     "text": [
      "Epoch [19/1000], Train Loss: 0.1030, Val Loss: 0.0966\n",
      "No improvement in validation loss for 1 epoch(s).\n"
     ]
    },
    {
     "name": "stderr",
     "output_type": "stream",
     "text": [
      "Epoch 20/1000: 100%|██████████| 141/141 [00:00<00:00, 1224.18it/s]\n"
     ]
    },
    {
     "name": "stdout",
     "output_type": "stream",
     "text": [
      "Epoch [20/1000], Train Loss: 0.1023, Val Loss: 0.0958\n",
      "Best model saved with validation loss: 0.0958\n"
     ]
    },
    {
     "name": "stderr",
     "output_type": "stream",
     "text": [
      "Epoch 21/1000: 100%|██████████| 141/141 [00:00<00:00, 1384.89it/s]\n"
     ]
    },
    {
     "name": "stdout",
     "output_type": "stream",
     "text": [
      "Epoch [21/1000], Train Loss: 0.1015, Val Loss: 0.0956\n",
      "Best model saved with validation loss: 0.0956\n"
     ]
    },
    {
     "name": "stderr",
     "output_type": "stream",
     "text": [
      "Epoch 22/1000: 100%|██████████| 141/141 [00:00<00:00, 944.58it/s]\n"
     ]
    },
    {
     "name": "stdout",
     "output_type": "stream",
     "text": [
      "Epoch [22/1000], Train Loss: 0.1010, Val Loss: 0.0954\n",
      "Best model saved with validation loss: 0.0954\n"
     ]
    },
    {
     "name": "stderr",
     "output_type": "stream",
     "text": [
      "Epoch 23/1000: 100%|██████████| 141/141 [00:00<00:00, 1343.20it/s]\n"
     ]
    },
    {
     "name": "stdout",
     "output_type": "stream",
     "text": [
      "Epoch [23/1000], Train Loss: 0.0999, Val Loss: 0.0946\n",
      "Best model saved with validation loss: 0.0946\n"
     ]
    },
    {
     "name": "stderr",
     "output_type": "stream",
     "text": [
      "Epoch 24/1000: 100%|██████████| 141/141 [00:00<00:00, 1297.73it/s]\n"
     ]
    },
    {
     "name": "stdout",
     "output_type": "stream",
     "text": [
      "Epoch [24/1000], Train Loss: 0.1002, Val Loss: 0.0943\n",
      "Best model saved with validation loss: 0.0943\n"
     ]
    },
    {
     "name": "stderr",
     "output_type": "stream",
     "text": [
      "Epoch 25/1000: 100%|██████████| 141/141 [00:00<00:00, 1323.55it/s]\n"
     ]
    },
    {
     "name": "stdout",
     "output_type": "stream",
     "text": [
      "Epoch [25/1000], Train Loss: 0.1000, Val Loss: 0.0941\n",
      "Best model saved with validation loss: 0.0941\n"
     ]
    },
    {
     "name": "stderr",
     "output_type": "stream",
     "text": [
      "Epoch 26/1000: 100%|██████████| 141/141 [00:00<00:00, 1196.99it/s]\n"
     ]
    },
    {
     "name": "stdout",
     "output_type": "stream",
     "text": [
      "Epoch [26/1000], Train Loss: 0.0995, Val Loss: 0.0936\n",
      "Best model saved with validation loss: 0.0936\n"
     ]
    },
    {
     "name": "stderr",
     "output_type": "stream",
     "text": [
      "Epoch 27/1000: 100%|██████████| 141/141 [00:00<00:00, 1384.46it/s]\n"
     ]
    },
    {
     "name": "stdout",
     "output_type": "stream",
     "text": [
      "Epoch [27/1000], Train Loss: 0.0994, Val Loss: 0.0932\n",
      "Best model saved with validation loss: 0.0932\n"
     ]
    },
    {
     "name": "stderr",
     "output_type": "stream",
     "text": [
      "Epoch 28/1000: 100%|██████████| 141/141 [00:00<00:00, 1225.66it/s]\n"
     ]
    },
    {
     "name": "stdout",
     "output_type": "stream",
     "text": [
      "Epoch [28/1000], Train Loss: 0.0990, Val Loss: 0.0930\n",
      "Best model saved with validation loss: 0.0930\n"
     ]
    },
    {
     "name": "stderr",
     "output_type": "stream",
     "text": [
      "Epoch 29/1000: 100%|██████████| 141/141 [00:00<00:00, 1330.96it/s]\n"
     ]
    },
    {
     "name": "stdout",
     "output_type": "stream",
     "text": [
      "Epoch [29/1000], Train Loss: 0.0979, Val Loss: 0.0930\n",
      "Best model saved with validation loss: 0.0930\n"
     ]
    },
    {
     "name": "stderr",
     "output_type": "stream",
     "text": [
      "Epoch 30/1000: 100%|██████████| 141/141 [00:00<00:00, 1272.00it/s]\n"
     ]
    },
    {
     "name": "stdout",
     "output_type": "stream",
     "text": [
      "Epoch [30/1000], Train Loss: 0.0976, Val Loss: 0.0929\n",
      "Best model saved with validation loss: 0.0929\n"
     ]
    },
    {
     "name": "stderr",
     "output_type": "stream",
     "text": [
      "Epoch 31/1000: 100%|██████████| 141/141 [00:00<00:00, 1240.16it/s]\n"
     ]
    },
    {
     "name": "stdout",
     "output_type": "stream",
     "text": [
      "Epoch [31/1000], Train Loss: 0.0974, Val Loss: 0.0930\n",
      "No improvement in validation loss for 1 epoch(s).\n"
     ]
    },
    {
     "name": "stderr",
     "output_type": "stream",
     "text": [
      "Epoch 32/1000: 100%|██████████| 141/141 [00:00<00:00, 998.99it/s]\n"
     ]
    },
    {
     "name": "stdout",
     "output_type": "stream",
     "text": [
      "Epoch [32/1000], Train Loss: 0.0967, Val Loss: 0.0925\n",
      "Best model saved with validation loss: 0.0925\n"
     ]
    },
    {
     "name": "stderr",
     "output_type": "stream",
     "text": [
      "Epoch 33/1000: 100%|██████████| 141/141 [00:00<00:00, 1404.06it/s]\n"
     ]
    },
    {
     "name": "stdout",
     "output_type": "stream",
     "text": [
      "Epoch [33/1000], Train Loss: 0.0975, Val Loss: 0.0921\n",
      "Best model saved with validation loss: 0.0921\n"
     ]
    },
    {
     "name": "stderr",
     "output_type": "stream",
     "text": [
      "Epoch 34/1000: 100%|██████████| 141/141 [00:00<00:00, 1372.44it/s]\n"
     ]
    },
    {
     "name": "stdout",
     "output_type": "stream",
     "text": [
      "Epoch [34/1000], Train Loss: 0.0973, Val Loss: 0.0922\n",
      "No improvement in validation loss for 1 epoch(s).\n"
     ]
    },
    {
     "name": "stderr",
     "output_type": "stream",
     "text": [
      "Epoch 35/1000: 100%|██████████| 141/141 [00:00<00:00, 1273.62it/s]\n"
     ]
    },
    {
     "name": "stdout",
     "output_type": "stream",
     "text": [
      "Epoch [35/1000], Train Loss: 0.0963, Val Loss: 0.0920\n",
      "Best model saved with validation loss: 0.0920\n"
     ]
    },
    {
     "name": "stderr",
     "output_type": "stream",
     "text": [
      "Epoch 36/1000: 100%|██████████| 141/141 [00:00<00:00, 1360.91it/s]\n"
     ]
    },
    {
     "name": "stdout",
     "output_type": "stream",
     "text": [
      "Epoch [36/1000], Train Loss: 0.0964, Val Loss: 0.0916\n",
      "Best model saved with validation loss: 0.0916\n"
     ]
    },
    {
     "name": "stderr",
     "output_type": "stream",
     "text": [
      "Epoch 37/1000: 100%|██████████| 141/141 [00:00<00:00, 1122.92it/s]\n"
     ]
    },
    {
     "name": "stdout",
     "output_type": "stream",
     "text": [
      "Epoch [37/1000], Train Loss: 0.0967, Val Loss: 0.0913\n",
      "Best model saved with validation loss: 0.0913\n"
     ]
    },
    {
     "name": "stderr",
     "output_type": "stream",
     "text": [
      "Epoch 38/1000: 100%|██████████| 141/141 [00:00<00:00, 1228.34it/s]\n"
     ]
    },
    {
     "name": "stdout",
     "output_type": "stream",
     "text": [
      "Epoch [38/1000], Train Loss: 0.0969, Val Loss: 0.0911\n",
      "Best model saved with validation loss: 0.0911\n"
     ]
    },
    {
     "name": "stderr",
     "output_type": "stream",
     "text": [
      "Epoch 39/1000: 100%|██████████| 141/141 [00:00<00:00, 1340.87it/s]\n"
     ]
    },
    {
     "name": "stdout",
     "output_type": "stream",
     "text": [
      "Epoch [39/1000], Train Loss: 0.0956, Val Loss: 0.0910\n",
      "Best model saved with validation loss: 0.0910\n"
     ]
    },
    {
     "name": "stderr",
     "output_type": "stream",
     "text": [
      "Epoch 40/1000: 100%|██████████| 141/141 [00:00<00:00, 1231.85it/s]\n"
     ]
    },
    {
     "name": "stdout",
     "output_type": "stream",
     "text": [
      "Epoch [40/1000], Train Loss: 0.0959, Val Loss: 0.0910\n",
      "No improvement in validation loss for 1 epoch(s).\n"
     ]
    },
    {
     "name": "stderr",
     "output_type": "stream",
     "text": [
      "Epoch 41/1000: 100%|██████████| 141/141 [00:00<00:00, 1230.57it/s]\n"
     ]
    },
    {
     "name": "stdout",
     "output_type": "stream",
     "text": [
      "Epoch [41/1000], Train Loss: 0.0958, Val Loss: 0.0909\n",
      "Best model saved with validation loss: 0.0909\n"
     ]
    },
    {
     "name": "stderr",
     "output_type": "stream",
     "text": [
      "Epoch 42/1000: 100%|██████████| 141/141 [00:00<00:00, 1090.16it/s]\n"
     ]
    },
    {
     "name": "stdout",
     "output_type": "stream",
     "text": [
      "Epoch [42/1000], Train Loss: 0.0949, Val Loss: 0.0906\n",
      "Best model saved with validation loss: 0.0906\n"
     ]
    },
    {
     "name": "stderr",
     "output_type": "stream",
     "text": [
      "Epoch 43/1000: 100%|██████████| 141/141 [00:00<00:00, 1299.91it/s]\n"
     ]
    },
    {
     "name": "stdout",
     "output_type": "stream",
     "text": [
      "Epoch [43/1000], Train Loss: 0.0958, Val Loss: 0.0904\n",
      "Best model saved with validation loss: 0.0904\n"
     ]
    },
    {
     "name": "stderr",
     "output_type": "stream",
     "text": [
      "Epoch 44/1000: 100%|██████████| 141/141 [00:00<00:00, 1268.99it/s]\n"
     ]
    },
    {
     "name": "stdout",
     "output_type": "stream",
     "text": [
      "Epoch [44/1000], Train Loss: 0.0945, Val Loss: 0.0901\n",
      "Best model saved with validation loss: 0.0901\n"
     ]
    },
    {
     "name": "stderr",
     "output_type": "stream",
     "text": [
      "Epoch 45/1000: 100%|██████████| 141/141 [00:00<00:00, 1349.65it/s]\n"
     ]
    },
    {
     "name": "stdout",
     "output_type": "stream",
     "text": [
      "Epoch [45/1000], Train Loss: 0.0941, Val Loss: 0.0897\n",
      "Best model saved with validation loss: 0.0897\n"
     ]
    },
    {
     "name": "stderr",
     "output_type": "stream",
     "text": [
      "Epoch 46/1000: 100%|██████████| 141/141 [00:00<00:00, 1280.05it/s]\n"
     ]
    },
    {
     "name": "stdout",
     "output_type": "stream",
     "text": [
      "Epoch [46/1000], Train Loss: 0.0953, Val Loss: 0.0897\n",
      "Best model saved with validation loss: 0.0897\n"
     ]
    },
    {
     "name": "stderr",
     "output_type": "stream",
     "text": [
      "Epoch 47/1000: 100%|██████████| 141/141 [00:00<00:00, 1417.52it/s]\n"
     ]
    },
    {
     "name": "stdout",
     "output_type": "stream",
     "text": [
      "Epoch [47/1000], Train Loss: 0.0947, Val Loss: 0.0897\n",
      "Best model saved with validation loss: 0.0897\n"
     ]
    },
    {
     "name": "stderr",
     "output_type": "stream",
     "text": [
      "Epoch 48/1000: 100%|██████████| 141/141 [00:00<00:00, 1188.67it/s]\n"
     ]
    },
    {
     "name": "stdout",
     "output_type": "stream",
     "text": [
      "Epoch [48/1000], Train Loss: 0.0941, Val Loss: 0.0896\n",
      "Best model saved with validation loss: 0.0896\n"
     ]
    },
    {
     "name": "stderr",
     "output_type": "stream",
     "text": [
      "Epoch 49/1000: 100%|██████████| 141/141 [00:00<00:00, 1399.83it/s]\n"
     ]
    },
    {
     "name": "stdout",
     "output_type": "stream",
     "text": [
      "Epoch [49/1000], Train Loss: 0.0943, Val Loss: 0.0895\n",
      "Best model saved with validation loss: 0.0895\n"
     ]
    },
    {
     "name": "stderr",
     "output_type": "stream",
     "text": [
      "Epoch 50/1000: 100%|██████████| 141/141 [00:00<00:00, 1338.79it/s]\n"
     ]
    },
    {
     "name": "stdout",
     "output_type": "stream",
     "text": [
      "Epoch [50/1000], Train Loss: 0.0944, Val Loss: 0.0896\n",
      "No improvement in validation loss for 1 epoch(s).\n"
     ]
    },
    {
     "name": "stderr",
     "output_type": "stream",
     "text": [
      "Epoch 51/1000: 100%|██████████| 141/141 [00:00<00:00, 1200.64it/s]\n"
     ]
    },
    {
     "name": "stdout",
     "output_type": "stream",
     "text": [
      "Epoch [51/1000], Train Loss: 0.0934, Val Loss: 0.0895\n",
      "Best model saved with validation loss: 0.0895\n"
     ]
    },
    {
     "name": "stderr",
     "output_type": "stream",
     "text": [
      "Epoch 52/1000: 100%|██████████| 141/141 [00:00<00:00, 1111.79it/s]\n"
     ]
    },
    {
     "name": "stdout",
     "output_type": "stream",
     "text": [
      "Epoch [52/1000], Train Loss: 0.0936, Val Loss: 0.0893\n",
      "Best model saved with validation loss: 0.0893\n"
     ]
    },
    {
     "name": "stderr",
     "output_type": "stream",
     "text": [
      "Epoch 53/1000: 100%|██████████| 141/141 [00:00<00:00, 1208.00it/s]\n"
     ]
    },
    {
     "name": "stdout",
     "output_type": "stream",
     "text": [
      "Epoch [53/1000], Train Loss: 0.0930, Val Loss: 0.0892\n",
      "Best model saved with validation loss: 0.0892\n"
     ]
    },
    {
     "name": "stderr",
     "output_type": "stream",
     "text": [
      "Epoch 54/1000: 100%|██████████| 141/141 [00:00<00:00, 1359.66it/s]\n"
     ]
    },
    {
     "name": "stdout",
     "output_type": "stream",
     "text": [
      "Epoch [54/1000], Train Loss: 0.0945, Val Loss: 0.0892\n",
      "No improvement in validation loss for 1 epoch(s).\n"
     ]
    },
    {
     "name": "stderr",
     "output_type": "stream",
     "text": [
      "Epoch 55/1000: 100%|██████████| 141/141 [00:00<00:00, 1352.18it/s]\n"
     ]
    },
    {
     "name": "stdout",
     "output_type": "stream",
     "text": [
      "Epoch [55/1000], Train Loss: 0.0932, Val Loss: 0.0892\n",
      "Best model saved with validation loss: 0.0892\n"
     ]
    },
    {
     "name": "stderr",
     "output_type": "stream",
     "text": [
      "Epoch 56/1000: 100%|██████████| 141/141 [00:00<00:00, 1187.90it/s]\n"
     ]
    },
    {
     "name": "stdout",
     "output_type": "stream",
     "text": [
      "Epoch [56/1000], Train Loss: 0.0930, Val Loss: 0.0893\n",
      "No improvement in validation loss for 1 epoch(s).\n"
     ]
    },
    {
     "name": "stderr",
     "output_type": "stream",
     "text": [
      "Epoch 57/1000: 100%|██████████| 141/141 [00:00<00:00, 1294.75it/s]\n"
     ]
    },
    {
     "name": "stdout",
     "output_type": "stream",
     "text": [
      "Epoch [57/1000], Train Loss: 0.0929, Val Loss: 0.0891\n",
      "Best model saved with validation loss: 0.0891\n"
     ]
    },
    {
     "name": "stderr",
     "output_type": "stream",
     "text": [
      "Epoch 58/1000: 100%|██████████| 141/141 [00:00<00:00, 1142.16it/s]\n"
     ]
    },
    {
     "name": "stdout",
     "output_type": "stream",
     "text": [
      "Epoch [58/1000], Train Loss: 0.0919, Val Loss: 0.0889\n",
      "Best model saved with validation loss: 0.0889\n"
     ]
    },
    {
     "name": "stderr",
     "output_type": "stream",
     "text": [
      "Epoch 59/1000: 100%|██████████| 141/141 [00:00<00:00, 1201.65it/s]\n"
     ]
    },
    {
     "name": "stdout",
     "output_type": "stream",
     "text": [
      "Epoch [59/1000], Train Loss: 0.0932, Val Loss: 0.0888\n",
      "Best model saved with validation loss: 0.0888\n"
     ]
    },
    {
     "name": "stderr",
     "output_type": "stream",
     "text": [
      "Epoch 60/1000: 100%|██████████| 141/141 [00:00<00:00, 1382.57it/s]\n"
     ]
    },
    {
     "name": "stdout",
     "output_type": "stream",
     "text": [
      "Epoch [60/1000], Train Loss: 0.0926, Val Loss: 0.0886\n",
      "Best model saved with validation loss: 0.0886\n"
     ]
    },
    {
     "name": "stderr",
     "output_type": "stream",
     "text": [
      "Epoch 61/1000: 100%|██████████| 141/141 [00:00<00:00, 1319.28it/s]\n"
     ]
    },
    {
     "name": "stdout",
     "output_type": "stream",
     "text": [
      "Epoch [61/1000], Train Loss: 0.0920, Val Loss: 0.0885\n",
      "Best model saved with validation loss: 0.0885\n"
     ]
    },
    {
     "name": "stderr",
     "output_type": "stream",
     "text": [
      "Epoch 62/1000: 100%|██████████| 141/141 [00:00<00:00, 1008.53it/s]\n"
     ]
    },
    {
     "name": "stdout",
     "output_type": "stream",
     "text": [
      "Epoch [62/1000], Train Loss: 0.0920, Val Loss: 0.0884\n",
      "Best model saved with validation loss: 0.0884\n"
     ]
    },
    {
     "name": "stderr",
     "output_type": "stream",
     "text": [
      "Epoch 63/1000: 100%|██████████| 141/141 [00:00<00:00, 1177.83it/s]\n"
     ]
    },
    {
     "name": "stdout",
     "output_type": "stream",
     "text": [
      "Epoch [63/1000], Train Loss: 0.0920, Val Loss: 0.0882\n",
      "Best model saved with validation loss: 0.0882\n"
     ]
    },
    {
     "name": "stderr",
     "output_type": "stream",
     "text": [
      "Epoch 64/1000: 100%|██████████| 141/141 [00:00<00:00, 1396.25it/s]\n"
     ]
    },
    {
     "name": "stdout",
     "output_type": "stream",
     "text": [
      "Epoch [64/1000], Train Loss: 0.0919, Val Loss: 0.0883\n",
      "No improvement in validation loss for 1 epoch(s).\n"
     ]
    },
    {
     "name": "stderr",
     "output_type": "stream",
     "text": [
      "Epoch 65/1000: 100%|██████████| 141/141 [00:00<00:00, 1350.35it/s]\n"
     ]
    },
    {
     "name": "stdout",
     "output_type": "stream",
     "text": [
      "Epoch [65/1000], Train Loss: 0.0919, Val Loss: 0.0879\n",
      "Best model saved with validation loss: 0.0879\n"
     ]
    },
    {
     "name": "stderr",
     "output_type": "stream",
     "text": [
      "Epoch 66/1000: 100%|██████████| 141/141 [00:00<00:00, 1179.27it/s]\n"
     ]
    },
    {
     "name": "stdout",
     "output_type": "stream",
     "text": [
      "Epoch [66/1000], Train Loss: 0.0921, Val Loss: 0.0880\n",
      "No improvement in validation loss for 1 epoch(s).\n"
     ]
    },
    {
     "name": "stderr",
     "output_type": "stream",
     "text": [
      "Epoch 67/1000: 100%|██████████| 141/141 [00:00<00:00, 1164.36it/s]\n"
     ]
    },
    {
     "name": "stdout",
     "output_type": "stream",
     "text": [
      "Epoch [67/1000], Train Loss: 0.0913, Val Loss: 0.0878\n",
      "Best model saved with validation loss: 0.0878\n"
     ]
    },
    {
     "name": "stderr",
     "output_type": "stream",
     "text": [
      "Epoch 68/1000: 100%|██████████| 141/141 [00:00<00:00, 1327.12it/s]\n"
     ]
    },
    {
     "name": "stdout",
     "output_type": "stream",
     "text": [
      "Epoch [68/1000], Train Loss: 0.0923, Val Loss: 0.0877\n",
      "Best model saved with validation loss: 0.0877\n"
     ]
    },
    {
     "name": "stderr",
     "output_type": "stream",
     "text": [
      "Epoch 69/1000: 100%|██████████| 141/141 [00:00<00:00, 1205.64it/s]\n"
     ]
    },
    {
     "name": "stdout",
     "output_type": "stream",
     "text": [
      "Epoch [69/1000], Train Loss: 0.0915, Val Loss: 0.0878\n",
      "No improvement in validation loss for 1 epoch(s).\n"
     ]
    },
    {
     "name": "stderr",
     "output_type": "stream",
     "text": [
      "Epoch 70/1000: 100%|██████████| 141/141 [00:00<00:00, 1395.63it/s]\n"
     ]
    },
    {
     "name": "stdout",
     "output_type": "stream",
     "text": [
      "Epoch [70/1000], Train Loss: 0.0919, Val Loss: 0.0877\n",
      "Best model saved with validation loss: 0.0877\n"
     ]
    },
    {
     "name": "stderr",
     "output_type": "stream",
     "text": [
      "Epoch 71/1000: 100%|██████████| 141/141 [00:00<00:00, 1358.12it/s]\n"
     ]
    },
    {
     "name": "stdout",
     "output_type": "stream",
     "text": [
      "Epoch [71/1000], Train Loss: 0.0918, Val Loss: 0.0874\n",
      "Best model saved with validation loss: 0.0874\n"
     ]
    },
    {
     "name": "stderr",
     "output_type": "stream",
     "text": [
      "Epoch 72/1000: 100%|██████████| 141/141 [00:00<00:00, 1008.08it/s]\n"
     ]
    },
    {
     "name": "stdout",
     "output_type": "stream",
     "text": [
      "Epoch [72/1000], Train Loss: 0.0915, Val Loss: 0.0875\n",
      "No improvement in validation loss for 1 epoch(s).\n"
     ]
    },
    {
     "name": "stderr",
     "output_type": "stream",
     "text": [
      "Epoch 73/1000: 100%|██████████| 141/141 [00:00<00:00, 1356.80it/s]\n"
     ]
    },
    {
     "name": "stdout",
     "output_type": "stream",
     "text": [
      "Epoch [73/1000], Train Loss: 0.0914, Val Loss: 0.0872\n",
      "Best model saved with validation loss: 0.0872\n"
     ]
    },
    {
     "name": "stderr",
     "output_type": "stream",
     "text": [
      "Epoch 74/1000: 100%|██████████| 141/141 [00:00<00:00, 1331.78it/s]\n"
     ]
    },
    {
     "name": "stdout",
     "output_type": "stream",
     "text": [
      "Epoch [74/1000], Train Loss: 0.0908, Val Loss: 0.0872\n",
      "Best model saved with validation loss: 0.0872\n"
     ]
    },
    {
     "name": "stderr",
     "output_type": "stream",
     "text": [
      "Epoch 75/1000: 100%|██████████| 141/141 [00:00<00:00, 1137.52it/s]\n"
     ]
    },
    {
     "name": "stdout",
     "output_type": "stream",
     "text": [
      "Epoch [75/1000], Train Loss: 0.0911, Val Loss: 0.0872\n",
      "No improvement in validation loss for 1 epoch(s).\n"
     ]
    },
    {
     "name": "stderr",
     "output_type": "stream",
     "text": [
      "Epoch 76/1000: 100%|██████████| 141/141 [00:00<00:00, 1061.10it/s]\n"
     ]
    },
    {
     "name": "stdout",
     "output_type": "stream",
     "text": [
      "Epoch [76/1000], Train Loss: 0.0908, Val Loss: 0.0871\n",
      "Best model saved with validation loss: 0.0871\n"
     ]
    },
    {
     "name": "stderr",
     "output_type": "stream",
     "text": [
      "Epoch 77/1000: 100%|██████████| 141/141 [00:00<00:00, 1354.08it/s]\n"
     ]
    },
    {
     "name": "stdout",
     "output_type": "stream",
     "text": [
      "Epoch [77/1000], Train Loss: 0.0903, Val Loss: 0.0868\n",
      "Best model saved with validation loss: 0.0868\n"
     ]
    },
    {
     "name": "stderr",
     "output_type": "stream",
     "text": [
      "Epoch 78/1000: 100%|██████████| 141/141 [00:00<00:00, 1110.82it/s]\n"
     ]
    },
    {
     "name": "stdout",
     "output_type": "stream",
     "text": [
      "Epoch [78/1000], Train Loss: 0.0910, Val Loss: 0.0867\n",
      "Best model saved with validation loss: 0.0867\n"
     ]
    },
    {
     "name": "stderr",
     "output_type": "stream",
     "text": [
      "Epoch 79/1000: 100%|██████████| 141/141 [00:00<00:00, 1385.82it/s]\n"
     ]
    },
    {
     "name": "stdout",
     "output_type": "stream",
     "text": [
      "Epoch [79/1000], Train Loss: 0.0903, Val Loss: 0.0865\n",
      "Best model saved with validation loss: 0.0865\n"
     ]
    },
    {
     "name": "stderr",
     "output_type": "stream",
     "text": [
      "Epoch 80/1000: 100%|██████████| 141/141 [00:00<00:00, 1278.01it/s]\n"
     ]
    },
    {
     "name": "stdout",
     "output_type": "stream",
     "text": [
      "Epoch [80/1000], Train Loss: 0.0907, Val Loss: 0.0868\n",
      "No improvement in validation loss for 1 epoch(s).\n"
     ]
    },
    {
     "name": "stderr",
     "output_type": "stream",
     "text": [
      "Epoch 81/1000: 100%|██████████| 141/141 [00:00<00:00, 1300.34it/s]\n"
     ]
    },
    {
     "name": "stdout",
     "output_type": "stream",
     "text": [
      "Epoch [81/1000], Train Loss: 0.0906, Val Loss: 0.0868\n",
      "No improvement in validation loss for 2 epoch(s).\n"
     ]
    },
    {
     "name": "stderr",
     "output_type": "stream",
     "text": [
      "Epoch 82/1000: 100%|██████████| 141/141 [00:00<00:00, 1076.09it/s]\n"
     ]
    },
    {
     "name": "stdout",
     "output_type": "stream",
     "text": [
      "Epoch [82/1000], Train Loss: 0.0903, Val Loss: 0.0864\n",
      "Best model saved with validation loss: 0.0864\n"
     ]
    },
    {
     "name": "stderr",
     "output_type": "stream",
     "text": [
      "Epoch 83/1000: 100%|██████████| 141/141 [00:00<00:00, 1350.21it/s]\n"
     ]
    },
    {
     "name": "stdout",
     "output_type": "stream",
     "text": [
      "Epoch [83/1000], Train Loss: 0.0911, Val Loss: 0.0860\n",
      "Best model saved with validation loss: 0.0860\n"
     ]
    },
    {
     "name": "stderr",
     "output_type": "stream",
     "text": [
      "Epoch 84/1000: 100%|██████████| 141/141 [00:00<00:00, 1184.04it/s]\n"
     ]
    },
    {
     "name": "stdout",
     "output_type": "stream",
     "text": [
      "Epoch [84/1000], Train Loss: 0.0903, Val Loss: 0.0861\n",
      "No improvement in validation loss for 1 epoch(s).\n"
     ]
    },
    {
     "name": "stderr",
     "output_type": "stream",
     "text": [
      "Epoch 85/1000: 100%|██████████| 141/141 [00:00<00:00, 1315.79it/s]\n"
     ]
    },
    {
     "name": "stdout",
     "output_type": "stream",
     "text": [
      "Epoch [85/1000], Train Loss: 0.0901, Val Loss: 0.0862\n",
      "No improvement in validation loss for 2 epoch(s).\n"
     ]
    },
    {
     "name": "stderr",
     "output_type": "stream",
     "text": [
      "Epoch 86/1000: 100%|██████████| 141/141 [00:00<00:00, 1336.00it/s]\n"
     ]
    },
    {
     "name": "stdout",
     "output_type": "stream",
     "text": [
      "Epoch [86/1000], Train Loss: 0.0900, Val Loss: 0.0863\n",
      "No improvement in validation loss for 3 epoch(s).\n"
     ]
    },
    {
     "name": "stderr",
     "output_type": "stream",
     "text": [
      "Epoch 87/1000: 100%|██████████| 141/141 [00:00<00:00, 1377.86it/s]\n"
     ]
    },
    {
     "name": "stdout",
     "output_type": "stream",
     "text": [
      "Epoch [87/1000], Train Loss: 0.0893, Val Loss: 0.0861\n",
      "No improvement in validation loss for 4 epoch(s).\n"
     ]
    },
    {
     "name": "stderr",
     "output_type": "stream",
     "text": [
      "Epoch 88/1000: 100%|██████████| 141/141 [00:00<00:00, 1355.84it/s]\n"
     ]
    },
    {
     "name": "stdout",
     "output_type": "stream",
     "text": [
      "Epoch [88/1000], Train Loss: 0.0895, Val Loss: 0.0861\n",
      "No improvement in validation loss for 5 epoch(s).\n"
     ]
    },
    {
     "name": "stderr",
     "output_type": "stream",
     "text": [
      "Epoch 89/1000: 100%|██████████| 141/141 [00:00<00:00, 1396.78it/s]\n"
     ]
    },
    {
     "name": "stdout",
     "output_type": "stream",
     "text": [
      "Epoch [89/1000], Train Loss: 0.0899, Val Loss: 0.0859\n",
      "Best model saved with validation loss: 0.0859\n"
     ]
    },
    {
     "name": "stderr",
     "output_type": "stream",
     "text": [
      "Epoch 90/1000: 100%|██████████| 141/141 [00:00<00:00, 1403.04it/s]\n"
     ]
    },
    {
     "name": "stdout",
     "output_type": "stream",
     "text": [
      "Epoch [90/1000], Train Loss: 0.0894, Val Loss: 0.0858\n",
      "Best model saved with validation loss: 0.0858\n"
     ]
    },
    {
     "name": "stderr",
     "output_type": "stream",
     "text": [
      "Epoch 91/1000: 100%|██████████| 141/141 [00:00<00:00, 1381.77it/s]\n"
     ]
    },
    {
     "name": "stdout",
     "output_type": "stream",
     "text": [
      "Epoch [91/1000], Train Loss: 0.0896, Val Loss: 0.0858\n",
      "No improvement in validation loss for 1 epoch(s).\n"
     ]
    },
    {
     "name": "stderr",
     "output_type": "stream",
     "text": [
      "Epoch 92/1000: 100%|██████████| 141/141 [00:00<00:00, 1021.07it/s]\n"
     ]
    },
    {
     "name": "stdout",
     "output_type": "stream",
     "text": [
      "Epoch [92/1000], Train Loss: 0.0900, Val Loss: 0.0857\n",
      "Best model saved with validation loss: 0.0857\n"
     ]
    },
    {
     "name": "stderr",
     "output_type": "stream",
     "text": [
      "Epoch 93/1000: 100%|██████████| 141/141 [00:00<00:00, 1364.24it/s]\n"
     ]
    },
    {
     "name": "stdout",
     "output_type": "stream",
     "text": [
      "Epoch [93/1000], Train Loss: 0.0891, Val Loss: 0.0856\n",
      "Best model saved with validation loss: 0.0856\n"
     ]
    },
    {
     "name": "stderr",
     "output_type": "stream",
     "text": [
      "Epoch 94/1000: 100%|██████████| 141/141 [00:00<00:00, 1132.30it/s]\n"
     ]
    },
    {
     "name": "stdout",
     "output_type": "stream",
     "text": [
      "Epoch [94/1000], Train Loss: 0.0891, Val Loss: 0.0855\n",
      "Best model saved with validation loss: 0.0855\n"
     ]
    },
    {
     "name": "stderr",
     "output_type": "stream",
     "text": [
      "Epoch 95/1000: 100%|██████████| 141/141 [00:00<00:00, 1331.42it/s]\n"
     ]
    },
    {
     "name": "stdout",
     "output_type": "stream",
     "text": [
      "Epoch [95/1000], Train Loss: 0.0887, Val Loss: 0.0856\n",
      "No improvement in validation loss for 1 epoch(s).\n"
     ]
    },
    {
     "name": "stderr",
     "output_type": "stream",
     "text": [
      "Epoch 96/1000: 100%|██████████| 141/141 [00:00<00:00, 1358.48it/s]\n"
     ]
    },
    {
     "name": "stdout",
     "output_type": "stream",
     "text": [
      "Epoch [96/1000], Train Loss: 0.0892, Val Loss: 0.0855\n",
      "Best model saved with validation loss: 0.0855\n"
     ]
    },
    {
     "name": "stderr",
     "output_type": "stream",
     "text": [
      "Epoch 97/1000: 100%|██████████| 141/141 [00:00<00:00, 1225.14it/s]\n"
     ]
    },
    {
     "name": "stdout",
     "output_type": "stream",
     "text": [
      "Epoch [97/1000], Train Loss: 0.0892, Val Loss: 0.0854\n",
      "Best model saved with validation loss: 0.0854\n"
     ]
    },
    {
     "name": "stderr",
     "output_type": "stream",
     "text": [
      "Epoch 98/1000: 100%|██████████| 141/141 [00:00<00:00, 1219.90it/s]\n"
     ]
    },
    {
     "name": "stdout",
     "output_type": "stream",
     "text": [
      "Epoch [98/1000], Train Loss: 0.0891, Val Loss: 0.0854\n",
      "Best model saved with validation loss: 0.0854\n"
     ]
    },
    {
     "name": "stderr",
     "output_type": "stream",
     "text": [
      "Epoch 99/1000: 100%|██████████| 141/141 [00:00<00:00, 1381.11it/s]\n"
     ]
    },
    {
     "name": "stdout",
     "output_type": "stream",
     "text": [
      "Epoch [99/1000], Train Loss: 0.0894, Val Loss: 0.0852\n",
      "Best model saved with validation loss: 0.0852\n"
     ]
    },
    {
     "name": "stderr",
     "output_type": "stream",
     "text": [
      "Epoch 100/1000: 100%|██████████| 141/141 [00:00<00:00, 1204.65it/s]\n"
     ]
    },
    {
     "name": "stdout",
     "output_type": "stream",
     "text": [
      "Epoch [100/1000], Train Loss: 0.0892, Val Loss: 0.0851\n",
      "Best model saved with validation loss: 0.0851\n"
     ]
    },
    {
     "name": "stderr",
     "output_type": "stream",
     "text": [
      "Epoch 101/1000: 100%|██████████| 141/141 [00:00<00:00, 1354.99it/s]\n"
     ]
    },
    {
     "name": "stdout",
     "output_type": "stream",
     "text": [
      "Epoch [101/1000], Train Loss: 0.0883, Val Loss: 0.0851\n",
      "No improvement in validation loss for 1 epoch(s).\n"
     ]
    },
    {
     "name": "stderr",
     "output_type": "stream",
     "text": [
      "Epoch 102/1000: 100%|██████████| 141/141 [00:00<00:00, 904.51it/s]\n"
     ]
    },
    {
     "name": "stdout",
     "output_type": "stream",
     "text": [
      "Epoch [102/1000], Train Loss: 0.0882, Val Loss: 0.0852\n",
      "No improvement in validation loss for 2 epoch(s).\n"
     ]
    },
    {
     "name": "stderr",
     "output_type": "stream",
     "text": [
      "Epoch 103/1000: 100%|██████████| 141/141 [00:00<00:00, 1381.35it/s]\n"
     ]
    },
    {
     "name": "stdout",
     "output_type": "stream",
     "text": [
      "Epoch [103/1000], Train Loss: 0.0888, Val Loss: 0.0849\n",
      "Best model saved with validation loss: 0.0849\n"
     ]
    },
    {
     "name": "stderr",
     "output_type": "stream",
     "text": [
      "Epoch 104/1000: 100%|██████████| 141/141 [00:00<00:00, 1384.85it/s]\n"
     ]
    },
    {
     "name": "stdout",
     "output_type": "stream",
     "text": [
      "Epoch [104/1000], Train Loss: 0.0884, Val Loss: 0.0849\n",
      "No improvement in validation loss for 1 epoch(s).\n"
     ]
    },
    {
     "name": "stderr",
     "output_type": "stream",
     "text": [
      "Epoch 105/1000: 100%|██████████| 141/141 [00:00<00:00, 1334.11it/s]\n"
     ]
    },
    {
     "name": "stdout",
     "output_type": "stream",
     "text": [
      "Epoch [105/1000], Train Loss: 0.0888, Val Loss: 0.0849\n",
      "No improvement in validation loss for 2 epoch(s).\n"
     ]
    },
    {
     "name": "stderr",
     "output_type": "stream",
     "text": [
      "Epoch 106/1000: 100%|██████████| 141/141 [00:00<00:00, 1253.49it/s]\n"
     ]
    },
    {
     "name": "stdout",
     "output_type": "stream",
     "text": [
      "Epoch [106/1000], Train Loss: 0.0883, Val Loss: 0.0848\n",
      "Best model saved with validation loss: 0.0848\n"
     ]
    },
    {
     "name": "stderr",
     "output_type": "stream",
     "text": [
      "Epoch 107/1000: 100%|██████████| 141/141 [00:00<00:00, 1395.22it/s]\n"
     ]
    },
    {
     "name": "stdout",
     "output_type": "stream",
     "text": [
      "Epoch [107/1000], Train Loss: 0.0892, Val Loss: 0.0846\n",
      "Best model saved with validation loss: 0.0846\n"
     ]
    },
    {
     "name": "stderr",
     "output_type": "stream",
     "text": [
      "Epoch 108/1000: 100%|██████████| 141/141 [00:00<00:00, 1256.32it/s]\n"
     ]
    },
    {
     "name": "stdout",
     "output_type": "stream",
     "text": [
      "Epoch [108/1000], Train Loss: 0.0884, Val Loss: 0.0846\n",
      "Best model saved with validation loss: 0.0846\n"
     ]
    },
    {
     "name": "stderr",
     "output_type": "stream",
     "text": [
      "Epoch 109/1000: 100%|██████████| 141/141 [00:00<00:00, 1322.14it/s]\n"
     ]
    },
    {
     "name": "stdout",
     "output_type": "stream",
     "text": [
      "Epoch [109/1000], Train Loss: 0.0881, Val Loss: 0.0848\n",
      "No improvement in validation loss for 1 epoch(s).\n"
     ]
    },
    {
     "name": "stderr",
     "output_type": "stream",
     "text": [
      "Epoch 110/1000: 100%|██████████| 141/141 [00:00<00:00, 1184.29it/s]\n"
     ]
    },
    {
     "name": "stdout",
     "output_type": "stream",
     "text": [
      "Epoch [110/1000], Train Loss: 0.0877, Val Loss: 0.0846\n",
      "No improvement in validation loss for 2 epoch(s).\n"
     ]
    },
    {
     "name": "stderr",
     "output_type": "stream",
     "text": [
      "Epoch 111/1000: 100%|██████████| 141/141 [00:00<00:00, 1355.46it/s]\n"
     ]
    },
    {
     "name": "stdout",
     "output_type": "stream",
     "text": [
      "Epoch [111/1000], Train Loss: 0.0892, Val Loss: 0.0844\n",
      "Best model saved with validation loss: 0.0844\n"
     ]
    },
    {
     "name": "stderr",
     "output_type": "stream",
     "text": [
      "Epoch 112/1000: 100%|██████████| 141/141 [00:00<00:00, 1079.53it/s]\n"
     ]
    },
    {
     "name": "stdout",
     "output_type": "stream",
     "text": [
      "Epoch [112/1000], Train Loss: 0.0883, Val Loss: 0.0844\n",
      "Best model saved with validation loss: 0.0844\n"
     ]
    },
    {
     "name": "stderr",
     "output_type": "stream",
     "text": [
      "Epoch 113/1000: 100%|██████████| 141/141 [00:00<00:00, 1284.87it/s]\n"
     ]
    },
    {
     "name": "stdout",
     "output_type": "stream",
     "text": [
      "Epoch [113/1000], Train Loss: 0.0878, Val Loss: 0.0844\n",
      "Best model saved with validation loss: 0.0844\n"
     ]
    },
    {
     "name": "stderr",
     "output_type": "stream",
     "text": [
      "Epoch 114/1000: 100%|██████████| 141/141 [00:00<00:00, 1342.01it/s]\n"
     ]
    },
    {
     "name": "stdout",
     "output_type": "stream",
     "text": [
      "Epoch [114/1000], Train Loss: 0.0882, Val Loss: 0.0844\n",
      "Best model saved with validation loss: 0.0844\n"
     ]
    },
    {
     "name": "stderr",
     "output_type": "stream",
     "text": [
      "Epoch 115/1000: 100%|██████████| 141/141 [00:00<00:00, 1162.13it/s]\n"
     ]
    },
    {
     "name": "stdout",
     "output_type": "stream",
     "text": [
      "Epoch [115/1000], Train Loss: 0.0869, Val Loss: 0.0845\n",
      "No improvement in validation loss for 1 epoch(s).\n"
     ]
    },
    {
     "name": "stderr",
     "output_type": "stream",
     "text": [
      "Epoch 116/1000: 100%|██████████| 141/141 [00:00<00:00, 1350.08it/s]\n"
     ]
    },
    {
     "name": "stdout",
     "output_type": "stream",
     "text": [
      "Epoch [116/1000], Train Loss: 0.0878, Val Loss: 0.0842\n",
      "Best model saved with validation loss: 0.0842\n"
     ]
    },
    {
     "name": "stderr",
     "output_type": "stream",
     "text": [
      "Epoch 117/1000: 100%|██████████| 141/141 [00:00<00:00, 1368.11it/s]\n"
     ]
    },
    {
     "name": "stdout",
     "output_type": "stream",
     "text": [
      "Epoch [117/1000], Train Loss: 0.0879, Val Loss: 0.0843\n",
      "No improvement in validation loss for 1 epoch(s).\n"
     ]
    },
    {
     "name": "stderr",
     "output_type": "stream",
     "text": [
      "Epoch 118/1000: 100%|██████████| 141/141 [00:00<00:00, 1363.53it/s]\n"
     ]
    },
    {
     "name": "stdout",
     "output_type": "stream",
     "text": [
      "Epoch [118/1000], Train Loss: 0.0876, Val Loss: 0.0842\n",
      "No improvement in validation loss for 2 epoch(s).\n"
     ]
    },
    {
     "name": "stderr",
     "output_type": "stream",
     "text": [
      "Epoch 119/1000: 100%|██████████| 141/141 [00:00<00:00, 1266.50it/s]\n"
     ]
    },
    {
     "name": "stdout",
     "output_type": "stream",
     "text": [
      "Epoch [119/1000], Train Loss: 0.0874, Val Loss: 0.0841\n",
      "Best model saved with validation loss: 0.0841\n"
     ]
    },
    {
     "name": "stderr",
     "output_type": "stream",
     "text": [
      "Epoch 120/1000: 100%|██████████| 141/141 [00:00<00:00, 1359.32it/s]\n"
     ]
    },
    {
     "name": "stdout",
     "output_type": "stream",
     "text": [
      "Epoch [120/1000], Train Loss: 0.0871, Val Loss: 0.0840\n",
      "Best model saved with validation loss: 0.0840\n"
     ]
    },
    {
     "name": "stderr",
     "output_type": "stream",
     "text": [
      "Epoch 121/1000: 100%|██████████| 141/141 [00:00<00:00, 1190.82it/s]\n"
     ]
    },
    {
     "name": "stdout",
     "output_type": "stream",
     "text": [
      "Epoch [121/1000], Train Loss: 0.0874, Val Loss: 0.0838\n",
      "Best model saved with validation loss: 0.0838\n"
     ]
    },
    {
     "name": "stderr",
     "output_type": "stream",
     "text": [
      "Epoch 122/1000: 100%|██████████| 141/141 [00:00<00:00, 1045.91it/s]\n"
     ]
    },
    {
     "name": "stdout",
     "output_type": "stream",
     "text": [
      "Epoch [122/1000], Train Loss: 0.0872, Val Loss: 0.0841\n",
      "No improvement in validation loss for 1 epoch(s).\n"
     ]
    },
    {
     "name": "stderr",
     "output_type": "stream",
     "text": [
      "Epoch 123/1000: 100%|██████████| 141/141 [00:00<00:00, 1231.42it/s]\n"
     ]
    },
    {
     "name": "stdout",
     "output_type": "stream",
     "text": [
      "Epoch [123/1000], Train Loss: 0.0870, Val Loss: 0.0839\n",
      "No improvement in validation loss for 2 epoch(s).\n"
     ]
    },
    {
     "name": "stderr",
     "output_type": "stream",
     "text": [
      "Epoch 124/1000: 100%|██████████| 141/141 [00:00<00:00, 1367.01it/s]\n"
     ]
    },
    {
     "name": "stdout",
     "output_type": "stream",
     "text": [
      "Epoch [124/1000], Train Loss: 0.0873, Val Loss: 0.0839\n",
      "No improvement in validation loss for 3 epoch(s).\n"
     ]
    },
    {
     "name": "stderr",
     "output_type": "stream",
     "text": [
      "Epoch 125/1000: 100%|██████████| 141/141 [00:00<00:00, 1266.10it/s]\n"
     ]
    },
    {
     "name": "stdout",
     "output_type": "stream",
     "text": [
      "Epoch [125/1000], Train Loss: 0.0868, Val Loss: 0.0837\n",
      "Best model saved with validation loss: 0.0837\n"
     ]
    },
    {
     "name": "stderr",
     "output_type": "stream",
     "text": [
      "Epoch 126/1000: 100%|██████████| 141/141 [00:00<00:00, 1361.22it/s]\n"
     ]
    },
    {
     "name": "stdout",
     "output_type": "stream",
     "text": [
      "Epoch [126/1000], Train Loss: 0.0876, Val Loss: 0.0837\n",
      "Best model saved with validation loss: 0.0837\n"
     ]
    },
    {
     "name": "stderr",
     "output_type": "stream",
     "text": [
      "Epoch 127/1000: 100%|██████████| 141/141 [00:00<00:00, 1282.52it/s]\n"
     ]
    },
    {
     "name": "stdout",
     "output_type": "stream",
     "text": [
      "Epoch [127/1000], Train Loss: 0.0876, Val Loss: 0.0835\n",
      "Best model saved with validation loss: 0.0835\n"
     ]
    },
    {
     "name": "stderr",
     "output_type": "stream",
     "text": [
      "Epoch 128/1000: 100%|██████████| 141/141 [00:00<00:00, 1346.61it/s]\n"
     ]
    },
    {
     "name": "stdout",
     "output_type": "stream",
     "text": [
      "Epoch [128/1000], Train Loss: 0.0870, Val Loss: 0.0835\n",
      "No improvement in validation loss for 1 epoch(s).\n"
     ]
    },
    {
     "name": "stderr",
     "output_type": "stream",
     "text": [
      "Epoch 129/1000: 100%|██████████| 141/141 [00:00<00:00, 1380.08it/s]\n"
     ]
    },
    {
     "name": "stdout",
     "output_type": "stream",
     "text": [
      "Epoch [129/1000], Train Loss: 0.0867, Val Loss: 0.0834\n",
      "Best model saved with validation loss: 0.0834\n"
     ]
    },
    {
     "name": "stderr",
     "output_type": "stream",
     "text": [
      "Epoch 130/1000: 100%|██████████| 141/141 [00:00<00:00, 1189.51it/s]\n"
     ]
    },
    {
     "name": "stdout",
     "output_type": "stream",
     "text": [
      "Epoch [130/1000], Train Loss: 0.0866, Val Loss: 0.0833\n",
      "Best model saved with validation loss: 0.0833\n"
     ]
    },
    {
     "name": "stderr",
     "output_type": "stream",
     "text": [
      "Epoch 131/1000: 100%|██████████| 141/141 [00:00<00:00, 1238.02it/s]\n"
     ]
    },
    {
     "name": "stdout",
     "output_type": "stream",
     "text": [
      "Epoch [131/1000], Train Loss: 0.0866, Val Loss: 0.0832\n",
      "Best model saved with validation loss: 0.0832\n"
     ]
    },
    {
     "name": "stderr",
     "output_type": "stream",
     "text": [
      "Epoch 132/1000: 100%|██████████| 141/141 [00:00<00:00, 1103.32it/s]\n"
     ]
    },
    {
     "name": "stdout",
     "output_type": "stream",
     "text": [
      "Epoch [132/1000], Train Loss: 0.0874, Val Loss: 0.0831\n",
      "Best model saved with validation loss: 0.0831\n"
     ]
    },
    {
     "name": "stderr",
     "output_type": "stream",
     "text": [
      "Epoch 133/1000: 100%|██████████| 141/141 [00:00<00:00, 1186.03it/s]\n"
     ]
    },
    {
     "name": "stdout",
     "output_type": "stream",
     "text": [
      "Epoch [133/1000], Train Loss: 0.0861, Val Loss: 0.0831\n",
      "Best model saved with validation loss: 0.0831\n"
     ]
    },
    {
     "name": "stderr",
     "output_type": "stream",
     "text": [
      "Epoch 134/1000: 100%|██████████| 141/141 [00:00<00:00, 1335.19it/s]\n"
     ]
    },
    {
     "name": "stdout",
     "output_type": "stream",
     "text": [
      "Epoch [134/1000], Train Loss: 0.0866, Val Loss: 0.0831\n",
      "No improvement in validation loss for 1 epoch(s).\n"
     ]
    },
    {
     "name": "stderr",
     "output_type": "stream",
     "text": [
      "Epoch 135/1000: 100%|██████████| 141/141 [00:00<00:00, 1277.40it/s]\n"
     ]
    },
    {
     "name": "stdout",
     "output_type": "stream",
     "text": [
      "Epoch [135/1000], Train Loss: 0.0860, Val Loss: 0.0831\n",
      "Best model saved with validation loss: 0.0831\n"
     ]
    },
    {
     "name": "stderr",
     "output_type": "stream",
     "text": [
      "Epoch 136/1000: 100%|██████████| 141/141 [00:00<00:00, 1380.05it/s]\n"
     ]
    },
    {
     "name": "stdout",
     "output_type": "stream",
     "text": [
      "Epoch [136/1000], Train Loss: 0.0866, Val Loss: 0.0829\n",
      "Best model saved with validation loss: 0.0829\n"
     ]
    },
    {
     "name": "stderr",
     "output_type": "stream",
     "text": [
      "Epoch 137/1000: 100%|██████████| 141/141 [00:00<00:00, 1189.37it/s]\n"
     ]
    },
    {
     "name": "stdout",
     "output_type": "stream",
     "text": [
      "Epoch [137/1000], Train Loss: 0.0866, Val Loss: 0.0832\n",
      "No improvement in validation loss for 1 epoch(s).\n"
     ]
    },
    {
     "name": "stderr",
     "output_type": "stream",
     "text": [
      "Epoch 138/1000: 100%|██████████| 141/141 [00:00<00:00, 997.94it/s] \n"
     ]
    },
    {
     "name": "stdout",
     "output_type": "stream",
     "text": [
      "Epoch [138/1000], Train Loss: 0.0864, Val Loss: 0.0829\n",
      "No improvement in validation loss for 2 epoch(s).\n"
     ]
    },
    {
     "name": "stderr",
     "output_type": "stream",
     "text": [
      "Epoch 139/1000: 100%|██████████| 141/141 [00:00<00:00, 1277.75it/s]\n"
     ]
    },
    {
     "name": "stdout",
     "output_type": "stream",
     "text": [
      "Epoch [139/1000], Train Loss: 0.0855, Val Loss: 0.0828\n",
      "Best model saved with validation loss: 0.0828\n"
     ]
    },
    {
     "name": "stderr",
     "output_type": "stream",
     "text": [
      "Epoch 140/1000: 100%|██████████| 141/141 [00:00<00:00, 1324.44it/s]\n"
     ]
    },
    {
     "name": "stdout",
     "output_type": "stream",
     "text": [
      "Epoch [140/1000], Train Loss: 0.0869, Val Loss: 0.0829\n",
      "No improvement in validation loss for 1 epoch(s).\n"
     ]
    },
    {
     "name": "stderr",
     "output_type": "stream",
     "text": [
      "Epoch 141/1000: 100%|██████████| 141/141 [00:00<00:00, 1194.96it/s]\n"
     ]
    },
    {
     "name": "stdout",
     "output_type": "stream",
     "text": [
      "Epoch [141/1000], Train Loss: 0.0860, Val Loss: 0.0829\n",
      "No improvement in validation loss for 2 epoch(s).\n"
     ]
    },
    {
     "name": "stderr",
     "output_type": "stream",
     "text": [
      "Epoch 142/1000: 100%|██████████| 141/141 [00:00<00:00, 1058.38it/s]\n"
     ]
    },
    {
     "name": "stdout",
     "output_type": "stream",
     "text": [
      "Epoch [142/1000], Train Loss: 0.0863, Val Loss: 0.0828\n",
      "Best model saved with validation loss: 0.0828\n"
     ]
    },
    {
     "name": "stderr",
     "output_type": "stream",
     "text": [
      "Epoch 143/1000: 100%|██████████| 141/141 [00:00<00:00, 1357.37it/s]\n"
     ]
    },
    {
     "name": "stdout",
     "output_type": "stream",
     "text": [
      "Epoch [143/1000], Train Loss: 0.0853, Val Loss: 0.0829\n",
      "No improvement in validation loss for 1 epoch(s).\n"
     ]
    },
    {
     "name": "stderr",
     "output_type": "stream",
     "text": [
      "Epoch 144/1000: 100%|██████████| 141/141 [00:00<00:00, 1135.55it/s]\n"
     ]
    },
    {
     "name": "stdout",
     "output_type": "stream",
     "text": [
      "Epoch [144/1000], Train Loss: 0.0855, Val Loss: 0.0828\n",
      "No improvement in validation loss for 2 epoch(s).\n"
     ]
    },
    {
     "name": "stderr",
     "output_type": "stream",
     "text": [
      "Epoch 145/1000: 100%|██████████| 141/141 [00:00<00:00, 1309.51it/s]\n"
     ]
    },
    {
     "name": "stdout",
     "output_type": "stream",
     "text": [
      "Epoch [145/1000], Train Loss: 0.0854, Val Loss: 0.0827\n",
      "Best model saved with validation loss: 0.0827\n"
     ]
    },
    {
     "name": "stderr",
     "output_type": "stream",
     "text": [
      "Epoch 146/1000: 100%|██████████| 141/141 [00:00<00:00, 1352.79it/s]\n"
     ]
    },
    {
     "name": "stdout",
     "output_type": "stream",
     "text": [
      "Epoch [146/1000], Train Loss: 0.0855, Val Loss: 0.0827\n",
      "No improvement in validation loss for 1 epoch(s).\n"
     ]
    },
    {
     "name": "stderr",
     "output_type": "stream",
     "text": [
      "Epoch 147/1000: 100%|██████████| 141/141 [00:00<00:00, 1364.98it/s]\n"
     ]
    },
    {
     "name": "stdout",
     "output_type": "stream",
     "text": [
      "Epoch [147/1000], Train Loss: 0.0863, Val Loss: 0.0828\n",
      "No improvement in validation loss for 2 epoch(s).\n"
     ]
    },
    {
     "name": "stderr",
     "output_type": "stream",
     "text": [
      "Epoch 148/1000: 100%|██████████| 141/141 [00:00<00:00, 1218.30it/s]\n"
     ]
    },
    {
     "name": "stdout",
     "output_type": "stream",
     "text": [
      "Epoch [148/1000], Train Loss: 0.0850, Val Loss: 0.0827\n",
      "No improvement in validation loss for 3 epoch(s).\n"
     ]
    },
    {
     "name": "stderr",
     "output_type": "stream",
     "text": [
      "Epoch 149/1000: 100%|██████████| 141/141 [00:00<00:00, 1369.57it/s]\n"
     ]
    },
    {
     "name": "stdout",
     "output_type": "stream",
     "text": [
      "Epoch [149/1000], Train Loss: 0.0862, Val Loss: 0.0827\n",
      "No improvement in validation loss for 4 epoch(s).\n"
     ]
    },
    {
     "name": "stderr",
     "output_type": "stream",
     "text": [
      "Epoch 150/1000: 100%|██████████| 141/141 [00:00<00:00, 1338.23it/s]\n"
     ]
    },
    {
     "name": "stdout",
     "output_type": "stream",
     "text": [
      "Epoch [150/1000], Train Loss: 0.0858, Val Loss: 0.0829\n",
      "No improvement in validation loss for 5 epoch(s).\n"
     ]
    },
    {
     "name": "stderr",
     "output_type": "stream",
     "text": [
      "Epoch 151/1000: 100%|██████████| 141/141 [00:00<00:00, 1385.14it/s]\n"
     ]
    },
    {
     "name": "stdout",
     "output_type": "stream",
     "text": [
      "Epoch [151/1000], Train Loss: 0.0848, Val Loss: 0.0826\n",
      "Best model saved with validation loss: 0.0826\n"
     ]
    },
    {
     "name": "stderr",
     "output_type": "stream",
     "text": [
      "Epoch 152/1000: 100%|██████████| 141/141 [00:00<00:00, 1043.69it/s]\n"
     ]
    },
    {
     "name": "stdout",
     "output_type": "stream",
     "text": [
      "Epoch [152/1000], Train Loss: 0.0857, Val Loss: 0.0826\n",
      "Best model saved with validation loss: 0.0826\n"
     ]
    },
    {
     "name": "stderr",
     "output_type": "stream",
     "text": [
      "Epoch 153/1000: 100%|██████████| 141/141 [00:00<00:00, 1262.16it/s]\n"
     ]
    },
    {
     "name": "stdout",
     "output_type": "stream",
     "text": [
      "Epoch [153/1000], Train Loss: 0.0856, Val Loss: 0.0824\n",
      "Best model saved with validation loss: 0.0824\n"
     ]
    },
    {
     "name": "stderr",
     "output_type": "stream",
     "text": [
      "Epoch 154/1000: 100%|██████████| 141/141 [00:00<00:00, 1363.74it/s]\n"
     ]
    },
    {
     "name": "stdout",
     "output_type": "stream",
     "text": [
      "Epoch [154/1000], Train Loss: 0.0852, Val Loss: 0.0822\n",
      "Best model saved with validation loss: 0.0822\n"
     ]
    },
    {
     "name": "stderr",
     "output_type": "stream",
     "text": [
      "Epoch 155/1000: 100%|██████████| 141/141 [00:00<00:00, 1187.85it/s]\n"
     ]
    },
    {
     "name": "stdout",
     "output_type": "stream",
     "text": [
      "Epoch [155/1000], Train Loss: 0.0850, Val Loss: 0.0823\n",
      "No improvement in validation loss for 1 epoch(s).\n"
     ]
    },
    {
     "name": "stderr",
     "output_type": "stream",
     "text": [
      "Epoch 156/1000: 100%|██████████| 141/141 [00:00<00:00, 1237.30it/s]\n"
     ]
    },
    {
     "name": "stdout",
     "output_type": "stream",
     "text": [
      "Epoch [156/1000], Train Loss: 0.0849, Val Loss: 0.0824\n",
      "No improvement in validation loss for 2 epoch(s).\n"
     ]
    },
    {
     "name": "stderr",
     "output_type": "stream",
     "text": [
      "Epoch 157/1000: 100%|██████████| 141/141 [00:00<00:00, 1357.88it/s]\n"
     ]
    },
    {
     "name": "stdout",
     "output_type": "stream",
     "text": [
      "Epoch [157/1000], Train Loss: 0.0852, Val Loss: 0.0821\n",
      "Best model saved with validation loss: 0.0821\n"
     ]
    },
    {
     "name": "stderr",
     "output_type": "stream",
     "text": [
      "Epoch 158/1000: 100%|██████████| 141/141 [00:00<00:00, 1395.08it/s]\n"
     ]
    },
    {
     "name": "stdout",
     "output_type": "stream",
     "text": [
      "Epoch [158/1000], Train Loss: 0.0858, Val Loss: 0.0821\n",
      "Best model saved with validation loss: 0.0821\n"
     ]
    },
    {
     "name": "stderr",
     "output_type": "stream",
     "text": [
      "Epoch 159/1000: 100%|██████████| 141/141 [00:00<00:00, 1154.42it/s]\n"
     ]
    },
    {
     "name": "stdout",
     "output_type": "stream",
     "text": [
      "Epoch [159/1000], Train Loss: 0.0849, Val Loss: 0.0821\n",
      "No improvement in validation loss for 1 epoch(s).\n"
     ]
    },
    {
     "name": "stderr",
     "output_type": "stream",
     "text": [
      "Epoch 160/1000: 100%|██████████| 141/141 [00:00<00:00, 1349.63it/s]\n"
     ]
    },
    {
     "name": "stdout",
     "output_type": "stream",
     "text": [
      "Epoch [160/1000], Train Loss: 0.0851, Val Loss: 0.0821\n",
      "No improvement in validation loss for 2 epoch(s).\n"
     ]
    },
    {
     "name": "stderr",
     "output_type": "stream",
     "text": [
      "Epoch 161/1000: 100%|██████████| 141/141 [00:00<00:00, 1380.39it/s]\n"
     ]
    },
    {
     "name": "stdout",
     "output_type": "stream",
     "text": [
      "Epoch [161/1000], Train Loss: 0.0857, Val Loss: 0.0822\n",
      "No improvement in validation loss for 3 epoch(s).\n"
     ]
    },
    {
     "name": "stderr",
     "output_type": "stream",
     "text": [
      "Epoch 162/1000: 100%|██████████| 141/141 [00:00<00:00, 1009.29it/s]\n"
     ]
    },
    {
     "name": "stdout",
     "output_type": "stream",
     "text": [
      "Epoch [162/1000], Train Loss: 0.0850, Val Loss: 0.0821\n",
      "No improvement in validation loss for 4 epoch(s).\n"
     ]
    },
    {
     "name": "stderr",
     "output_type": "stream",
     "text": [
      "Epoch 163/1000: 100%|██████████| 141/141 [00:00<00:00, 1409.15it/s]\n"
     ]
    },
    {
     "name": "stdout",
     "output_type": "stream",
     "text": [
      "Epoch [163/1000], Train Loss: 0.0842, Val Loss: 0.0820\n",
      "Best model saved with validation loss: 0.0820\n"
     ]
    },
    {
     "name": "stderr",
     "output_type": "stream",
     "text": [
      "Epoch 164/1000: 100%|██████████| 141/141 [00:00<00:00, 1378.97it/s]\n"
     ]
    },
    {
     "name": "stdout",
     "output_type": "stream",
     "text": [
      "Epoch [164/1000], Train Loss: 0.0846, Val Loss: 0.0822\n",
      "No improvement in validation loss for 1 epoch(s).\n"
     ]
    },
    {
     "name": "stderr",
     "output_type": "stream",
     "text": [
      "Epoch 165/1000: 100%|██████████| 141/141 [00:00<00:00, 1191.17it/s]\n"
     ]
    },
    {
     "name": "stdout",
     "output_type": "stream",
     "text": [
      "Epoch [165/1000], Train Loss: 0.0850, Val Loss: 0.0821\n",
      "No improvement in validation loss for 2 epoch(s).\n"
     ]
    },
    {
     "name": "stderr",
     "output_type": "stream",
     "text": [
      "Epoch 166/1000: 100%|██████████| 141/141 [00:00<00:00, 1354.49it/s]\n"
     ]
    },
    {
     "name": "stdout",
     "output_type": "stream",
     "text": [
      "Epoch [166/1000], Train Loss: 0.0850, Val Loss: 0.0820\n",
      "No improvement in validation loss for 3 epoch(s).\n"
     ]
    },
    {
     "name": "stderr",
     "output_type": "stream",
     "text": [
      "Epoch 167/1000: 100%|██████████| 141/141 [00:00<00:00, 1310.14it/s]\n"
     ]
    },
    {
     "name": "stdout",
     "output_type": "stream",
     "text": [
      "Epoch [167/1000], Train Loss: 0.0854, Val Loss: 0.0820\n",
      "No improvement in validation loss for 4 epoch(s).\n"
     ]
    },
    {
     "name": "stderr",
     "output_type": "stream",
     "text": [
      "Epoch 168/1000: 100%|██████████| 141/141 [00:00<00:00, 1315.95it/s]\n"
     ]
    },
    {
     "name": "stdout",
     "output_type": "stream",
     "text": [
      "Epoch [168/1000], Train Loss: 0.0843, Val Loss: 0.0818\n",
      "Best model saved with validation loss: 0.0818\n"
     ]
    },
    {
     "name": "stderr",
     "output_type": "stream",
     "text": [
      "Epoch 169/1000: 100%|██████████| 141/141 [00:00<00:00, 1372.88it/s]\n"
     ]
    },
    {
     "name": "stdout",
     "output_type": "stream",
     "text": [
      "Epoch [169/1000], Train Loss: 0.0842, Val Loss: 0.0818\n",
      "Best model saved with validation loss: 0.0818\n"
     ]
    },
    {
     "name": "stderr",
     "output_type": "stream",
     "text": [
      "Epoch 170/1000: 100%|██████████| 141/141 [00:00<00:00, 1137.43it/s]\n"
     ]
    },
    {
     "name": "stdout",
     "output_type": "stream",
     "text": [
      "Epoch [170/1000], Train Loss: 0.0852, Val Loss: 0.0818\n",
      "No improvement in validation loss for 1 epoch(s).\n"
     ]
    },
    {
     "name": "stderr",
     "output_type": "stream",
     "text": [
      "Epoch 171/1000: 100%|██████████| 141/141 [00:00<00:00, 1364.84it/s]\n"
     ]
    },
    {
     "name": "stdout",
     "output_type": "stream",
     "text": [
      "Epoch [171/1000], Train Loss: 0.0851, Val Loss: 0.0818\n",
      "No improvement in validation loss for 2 epoch(s).\n"
     ]
    },
    {
     "name": "stderr",
     "output_type": "stream",
     "text": [
      "Epoch 172/1000: 100%|██████████| 141/141 [00:00<00:00, 1016.72it/s]\n"
     ]
    },
    {
     "name": "stdout",
     "output_type": "stream",
     "text": [
      "Epoch [172/1000], Train Loss: 0.0844, Val Loss: 0.0817\n",
      "Best model saved with validation loss: 0.0817\n"
     ]
    },
    {
     "name": "stderr",
     "output_type": "stream",
     "text": [
      "Epoch 173/1000: 100%|██████████| 141/141 [00:00<00:00, 1372.80it/s]\n"
     ]
    },
    {
     "name": "stdout",
     "output_type": "stream",
     "text": [
      "Epoch [173/1000], Train Loss: 0.0847, Val Loss: 0.0818\n",
      "No improvement in validation loss for 1 epoch(s).\n"
     ]
    },
    {
     "name": "stderr",
     "output_type": "stream",
     "text": [
      "Epoch 174/1000: 100%|██████████| 141/141 [00:00<00:00, 1219.74it/s]\n"
     ]
    },
    {
     "name": "stdout",
     "output_type": "stream",
     "text": [
      "Epoch [174/1000], Train Loss: 0.0838, Val Loss: 0.0819\n",
      "No improvement in validation loss for 2 epoch(s).\n"
     ]
    },
    {
     "name": "stderr",
     "output_type": "stream",
     "text": [
      "Epoch 175/1000: 100%|██████████| 141/141 [00:00<00:00, 1303.76it/s]\n"
     ]
    },
    {
     "name": "stdout",
     "output_type": "stream",
     "text": [
      "Epoch [175/1000], Train Loss: 0.0841, Val Loss: 0.0817\n",
      "No improvement in validation loss for 3 epoch(s).\n"
     ]
    },
    {
     "name": "stderr",
     "output_type": "stream",
     "text": [
      "Epoch 176/1000: 100%|██████████| 141/141 [00:00<00:00, 1365.72it/s]\n"
     ]
    },
    {
     "name": "stdout",
     "output_type": "stream",
     "text": [
      "Epoch [176/1000], Train Loss: 0.0846, Val Loss: 0.0819\n",
      "No improvement in validation loss for 4 epoch(s).\n"
     ]
    },
    {
     "name": "stderr",
     "output_type": "stream",
     "text": [
      "Epoch 177/1000: 100%|██████████| 141/141 [00:00<00:00, 1240.11it/s]\n"
     ]
    },
    {
     "name": "stdout",
     "output_type": "stream",
     "text": [
      "Epoch [177/1000], Train Loss: 0.0838, Val Loss: 0.0819\n",
      "No improvement in validation loss for 5 epoch(s).\n"
     ]
    },
    {
     "name": "stderr",
     "output_type": "stream",
     "text": [
      "Epoch 178/1000: 100%|██████████| 141/141 [00:00<00:00, 1380.96it/s]\n"
     ]
    },
    {
     "name": "stdout",
     "output_type": "stream",
     "text": [
      "Epoch [178/1000], Train Loss: 0.0838, Val Loss: 0.0817\n",
      "Best model saved with validation loss: 0.0817\n"
     ]
    },
    {
     "name": "stderr",
     "output_type": "stream",
     "text": [
      "Epoch 179/1000: 100%|██████████| 141/141 [00:00<00:00, 1375.09it/s]\n"
     ]
    },
    {
     "name": "stdout",
     "output_type": "stream",
     "text": [
      "Epoch [179/1000], Train Loss: 0.0840, Val Loss: 0.0816\n",
      "Best model saved with validation loss: 0.0816\n"
     ]
    },
    {
     "name": "stderr",
     "output_type": "stream",
     "text": [
      "Epoch 180/1000: 100%|██████████| 141/141 [00:00<00:00, 1248.84it/s]\n"
     ]
    },
    {
     "name": "stdout",
     "output_type": "stream",
     "text": [
      "Epoch [180/1000], Train Loss: 0.0837, Val Loss: 0.0816\n",
      "No improvement in validation loss for 1 epoch(s).\n"
     ]
    },
    {
     "name": "stderr",
     "output_type": "stream",
     "text": [
      "Epoch 181/1000: 100%|██████████| 141/141 [00:00<00:00, 1273.46it/s]\n"
     ]
    },
    {
     "name": "stdout",
     "output_type": "stream",
     "text": [
      "Epoch [181/1000], Train Loss: 0.0840, Val Loss: 0.0814\n",
      "Best model saved with validation loss: 0.0814\n"
     ]
    },
    {
     "name": "stderr",
     "output_type": "stream",
     "text": [
      "Epoch 182/1000: 100%|██████████| 141/141 [00:00<00:00, 1324.13it/s]\n"
     ]
    },
    {
     "name": "stdout",
     "output_type": "stream",
     "text": [
      "Epoch [182/1000], Train Loss: 0.0843, Val Loss: 0.0814\n",
      "No improvement in validation loss for 1 epoch(s).\n"
     ]
    },
    {
     "name": "stderr",
     "output_type": "stream",
     "text": [
      "Epoch 183/1000: 100%|██████████| 141/141 [00:00<00:00, 1325.69it/s]\n"
     ]
    },
    {
     "name": "stdout",
     "output_type": "stream",
     "text": [
      "Epoch [183/1000], Train Loss: 0.0833, Val Loss: 0.0813\n",
      "Best model saved with validation loss: 0.0813\n"
     ]
    },
    {
     "name": "stderr",
     "output_type": "stream",
     "text": [
      "Epoch 184/1000: 100%|██████████| 141/141 [00:00<00:00, 1320.63it/s]\n"
     ]
    },
    {
     "name": "stdout",
     "output_type": "stream",
     "text": [
      "Epoch [184/1000], Train Loss: 0.0841, Val Loss: 0.0814\n",
      "No improvement in validation loss for 1 epoch(s).\n"
     ]
    },
    {
     "name": "stderr",
     "output_type": "stream",
     "text": [
      "Epoch 185/1000: 100%|██████████| 141/141 [00:00<00:00, 1164.16it/s]\n"
     ]
    },
    {
     "name": "stdout",
     "output_type": "stream",
     "text": [
      "Epoch [185/1000], Train Loss: 0.0828, Val Loss: 0.0814\n",
      "No improvement in validation loss for 2 epoch(s).\n"
     ]
    },
    {
     "name": "stderr",
     "output_type": "stream",
     "text": [
      "Epoch 186/1000: 100%|██████████| 141/141 [00:00<00:00, 1304.16it/s]\n"
     ]
    },
    {
     "name": "stdout",
     "output_type": "stream",
     "text": [
      "Epoch [186/1000], Train Loss: 0.0841, Val Loss: 0.0812\n",
      "Best model saved with validation loss: 0.0812\n"
     ]
    },
    {
     "name": "stderr",
     "output_type": "stream",
     "text": [
      "Epoch 187/1000: 100%|██████████| 141/141 [00:00<00:00, 1327.88it/s]\n"
     ]
    },
    {
     "name": "stdout",
     "output_type": "stream",
     "text": [
      "Epoch [187/1000], Train Loss: 0.0840, Val Loss: 0.0813\n",
      "No improvement in validation loss for 1 epoch(s).\n"
     ]
    },
    {
     "name": "stderr",
     "output_type": "stream",
     "text": [
      "Epoch 188/1000: 100%|██████████| 141/141 [00:00<00:00, 1324.29it/s]\n"
     ]
    },
    {
     "name": "stdout",
     "output_type": "stream",
     "text": [
      "Epoch [188/1000], Train Loss: 0.0837, Val Loss: 0.0810\n",
      "Best model saved with validation loss: 0.0810\n"
     ]
    },
    {
     "name": "stderr",
     "output_type": "stream",
     "text": [
      "Epoch 189/1000: 100%|██████████| 141/141 [00:00<00:00, 1198.04it/s]\n"
     ]
    },
    {
     "name": "stdout",
     "output_type": "stream",
     "text": [
      "Epoch [189/1000], Train Loss: 0.0837, Val Loss: 0.0812\n",
      "No improvement in validation loss for 1 epoch(s).\n"
     ]
    },
    {
     "name": "stderr",
     "output_type": "stream",
     "text": [
      "Epoch 190/1000: 100%|██████████| 141/141 [00:00<00:00, 1141.41it/s]\n"
     ]
    },
    {
     "name": "stdout",
     "output_type": "stream",
     "text": [
      "Epoch [190/1000], Train Loss: 0.0838, Val Loss: 0.0810\n",
      "No improvement in validation loss for 2 epoch(s).\n"
     ]
    },
    {
     "name": "stderr",
     "output_type": "stream",
     "text": [
      "Epoch 191/1000: 100%|██████████| 141/141 [00:00<00:00, 1070.49it/s]\n"
     ]
    },
    {
     "name": "stdout",
     "output_type": "stream",
     "text": [
      "Epoch [191/1000], Train Loss: 0.0837, Val Loss: 0.0811\n",
      "No improvement in validation loss for 3 epoch(s).\n"
     ]
    },
    {
     "name": "stderr",
     "output_type": "stream",
     "text": [
      "Epoch 192/1000: 100%|██████████| 141/141 [00:00<00:00, 1351.60it/s]\n"
     ]
    },
    {
     "name": "stdout",
     "output_type": "stream",
     "text": [
      "Epoch [192/1000], Train Loss: 0.0847, Val Loss: 0.0812\n",
      "No improvement in validation loss for 4 epoch(s).\n"
     ]
    },
    {
     "name": "stderr",
     "output_type": "stream",
     "text": [
      "Epoch 193/1000: 100%|██████████| 141/141 [00:00<00:00, 1186.68it/s]\n"
     ]
    },
    {
     "name": "stdout",
     "output_type": "stream",
     "text": [
      "Epoch [193/1000], Train Loss: 0.0834, Val Loss: 0.0810\n",
      "No improvement in validation loss for 5 epoch(s).\n"
     ]
    },
    {
     "name": "stderr",
     "output_type": "stream",
     "text": [
      "Epoch 194/1000: 100%|██████████| 141/141 [00:00<00:00, 1372.06it/s]\n"
     ]
    },
    {
     "name": "stdout",
     "output_type": "stream",
     "text": [
      "Epoch [194/1000], Train Loss: 0.0835, Val Loss: 0.0809\n",
      "Best model saved with validation loss: 0.0809\n"
     ]
    },
    {
     "name": "stderr",
     "output_type": "stream",
     "text": [
      "Epoch 195/1000: 100%|██████████| 141/141 [00:00<00:00, 1358.25it/s]\n"
     ]
    },
    {
     "name": "stdout",
     "output_type": "stream",
     "text": [
      "Epoch [195/1000], Train Loss: 0.0833, Val Loss: 0.0810\n",
      "No improvement in validation loss for 1 epoch(s).\n"
     ]
    },
    {
     "name": "stderr",
     "output_type": "stream",
     "text": [
      "Epoch 196/1000: 100%|██████████| 141/141 [00:00<00:00, 1237.95it/s]\n"
     ]
    },
    {
     "name": "stdout",
     "output_type": "stream",
     "text": [
      "Epoch [196/1000], Train Loss: 0.0829, Val Loss: 0.0810\n",
      "No improvement in validation loss for 2 epoch(s).\n"
     ]
    },
    {
     "name": "stderr",
     "output_type": "stream",
     "text": [
      "Epoch 197/1000: 100%|██████████| 141/141 [00:00<00:00, 1332.89it/s]\n"
     ]
    },
    {
     "name": "stdout",
     "output_type": "stream",
     "text": [
      "Epoch [197/1000], Train Loss: 0.0838, Val Loss: 0.0808\n",
      "Best model saved with validation loss: 0.0808\n"
     ]
    },
    {
     "name": "stderr",
     "output_type": "stream",
     "text": [
      "Epoch 198/1000: 100%|██████████| 141/141 [00:00<00:00, 1358.81it/s]\n"
     ]
    },
    {
     "name": "stdout",
     "output_type": "stream",
     "text": [
      "Epoch [198/1000], Train Loss: 0.0832, Val Loss: 0.0808\n",
      "No improvement in validation loss for 1 epoch(s).\n"
     ]
    },
    {
     "name": "stderr",
     "output_type": "stream",
     "text": [
      "Epoch 199/1000: 100%|██████████| 141/141 [00:00<00:00, 1362.00it/s]\n"
     ]
    },
    {
     "name": "stdout",
     "output_type": "stream",
     "text": [
      "Epoch [199/1000], Train Loss: 0.0833, Val Loss: 0.0808\n",
      "Best model saved with validation loss: 0.0808\n"
     ]
    },
    {
     "name": "stderr",
     "output_type": "stream",
     "text": [
      "Epoch 200/1000: 100%|██████████| 141/141 [00:00<00:00, 1219.47it/s]\n"
     ]
    },
    {
     "name": "stdout",
     "output_type": "stream",
     "text": [
      "Epoch [200/1000], Train Loss: 0.0835, Val Loss: 0.0809\n",
      "No improvement in validation loss for 1 epoch(s).\n"
     ]
    },
    {
     "name": "stderr",
     "output_type": "stream",
     "text": [
      "Epoch 201/1000: 100%|██████████| 141/141 [00:00<00:00, 955.37it/s]\n"
     ]
    },
    {
     "name": "stdout",
     "output_type": "stream",
     "text": [
      "Epoch [201/1000], Train Loss: 0.0836, Val Loss: 0.0808\n",
      "No improvement in validation loss for 2 epoch(s).\n"
     ]
    },
    {
     "name": "stderr",
     "output_type": "stream",
     "text": [
      "Epoch 202/1000: 100%|██████████| 141/141 [00:00<00:00, 1297.16it/s]\n"
     ]
    },
    {
     "name": "stdout",
     "output_type": "stream",
     "text": [
      "Epoch [202/1000], Train Loss: 0.0829, Val Loss: 0.0807\n",
      "Best model saved with validation loss: 0.0807\n"
     ]
    },
    {
     "name": "stderr",
     "output_type": "stream",
     "text": [
      "Epoch 203/1000: 100%|██████████| 141/141 [00:00<00:00, 1343.79it/s]\n"
     ]
    },
    {
     "name": "stdout",
     "output_type": "stream",
     "text": [
      "Epoch [203/1000], Train Loss: 0.0826, Val Loss: 0.0806\n",
      "Best model saved with validation loss: 0.0806\n"
     ]
    },
    {
     "name": "stderr",
     "output_type": "stream",
     "text": [
      "Epoch 204/1000: 100%|██████████| 141/141 [00:00<00:00, 1341.00it/s]\n"
     ]
    },
    {
     "name": "stdout",
     "output_type": "stream",
     "text": [
      "Epoch [204/1000], Train Loss: 0.0833, Val Loss: 0.0806\n",
      "Best model saved with validation loss: 0.0806\n"
     ]
    },
    {
     "name": "stderr",
     "output_type": "stream",
     "text": [
      "Epoch 205/1000: 100%|██████████| 141/141 [00:00<00:00, 1246.65it/s]\n"
     ]
    },
    {
     "name": "stdout",
     "output_type": "stream",
     "text": [
      "Epoch [205/1000], Train Loss: 0.0828, Val Loss: 0.0806\n",
      "Best model saved with validation loss: 0.0806\n"
     ]
    },
    {
     "name": "stderr",
     "output_type": "stream",
     "text": [
      "Epoch 206/1000: 100%|██████████| 141/141 [00:00<00:00, 1168.48it/s]\n"
     ]
    },
    {
     "name": "stdout",
     "output_type": "stream",
     "text": [
      "Epoch [206/1000], Train Loss: 0.0825, Val Loss: 0.0807\n",
      "No improvement in validation loss for 1 epoch(s).\n"
     ]
    },
    {
     "name": "stderr",
     "output_type": "stream",
     "text": [
      "Epoch 207/1000: 100%|██████████| 141/141 [00:00<00:00, 1240.00it/s]\n"
     ]
    },
    {
     "name": "stdout",
     "output_type": "stream",
     "text": [
      "Epoch [207/1000], Train Loss: 0.0820, Val Loss: 0.0807\n",
      "No improvement in validation loss for 2 epoch(s).\n"
     ]
    },
    {
     "name": "stderr",
     "output_type": "stream",
     "text": [
      "Epoch 208/1000: 100%|██████████| 141/141 [00:00<00:00, 1381.46it/s]\n"
     ]
    },
    {
     "name": "stdout",
     "output_type": "stream",
     "text": [
      "Epoch [208/1000], Train Loss: 0.0821, Val Loss: 0.0806\n",
      "No improvement in validation loss for 3 epoch(s).\n"
     ]
    },
    {
     "name": "stderr",
     "output_type": "stream",
     "text": [
      "Epoch 209/1000: 100%|██████████| 141/141 [00:00<00:00, 1342.68it/s]\n"
     ]
    },
    {
     "name": "stdout",
     "output_type": "stream",
     "text": [
      "Epoch [209/1000], Train Loss: 0.0827, Val Loss: 0.0807\n",
      "No improvement in validation loss for 4 epoch(s).\n"
     ]
    },
    {
     "name": "stderr",
     "output_type": "stream",
     "text": [
      "Epoch 210/1000: 100%|██████████| 141/141 [00:00<00:00, 1066.67it/s]\n"
     ]
    },
    {
     "name": "stdout",
     "output_type": "stream",
     "text": [
      "Epoch [210/1000], Train Loss: 0.0826, Val Loss: 0.0805\n",
      "Best model saved with validation loss: 0.0805\n"
     ]
    },
    {
     "name": "stderr",
     "output_type": "stream",
     "text": [
      "Epoch 211/1000: 100%|██████████| 141/141 [00:00<00:00, 1376.66it/s]\n"
     ]
    },
    {
     "name": "stdout",
     "output_type": "stream",
     "text": [
      "Epoch [211/1000], Train Loss: 0.0823, Val Loss: 0.0802\n",
      "Best model saved with validation loss: 0.0802\n"
     ]
    },
    {
     "name": "stderr",
     "output_type": "stream",
     "text": [
      "Epoch 212/1000: 100%|██████████| 141/141 [00:00<00:00, 1228.48it/s]\n"
     ]
    },
    {
     "name": "stdout",
     "output_type": "stream",
     "text": [
      "Epoch [212/1000], Train Loss: 0.0833, Val Loss: 0.0804\n",
      "No improvement in validation loss for 1 epoch(s).\n"
     ]
    },
    {
     "name": "stderr",
     "output_type": "stream",
     "text": [
      "Epoch 213/1000: 100%|██████████| 141/141 [00:00<00:00, 1342.56it/s]\n"
     ]
    },
    {
     "name": "stdout",
     "output_type": "stream",
     "text": [
      "Epoch [213/1000], Train Loss: 0.0830, Val Loss: 0.0805\n",
      "No improvement in validation loss for 2 epoch(s).\n"
     ]
    },
    {
     "name": "stderr",
     "output_type": "stream",
     "text": [
      "Epoch 214/1000: 100%|██████████| 141/141 [00:00<00:00, 1371.54it/s]\n"
     ]
    },
    {
     "name": "stdout",
     "output_type": "stream",
     "text": [
      "Epoch [214/1000], Train Loss: 0.0825, Val Loss: 0.0804\n",
      "No improvement in validation loss for 3 epoch(s).\n"
     ]
    },
    {
     "name": "stderr",
     "output_type": "stream",
     "text": [
      "Epoch 215/1000: 100%|██████████| 141/141 [00:00<00:00, 1325.04it/s]\n"
     ]
    },
    {
     "name": "stdout",
     "output_type": "stream",
     "text": [
      "Epoch [215/1000], Train Loss: 0.0820, Val Loss: 0.0804\n",
      "No improvement in validation loss for 4 epoch(s).\n"
     ]
    },
    {
     "name": "stderr",
     "output_type": "stream",
     "text": [
      "Epoch 216/1000: 100%|██████████| 141/141 [00:00<00:00, 1380.67it/s]\n"
     ]
    },
    {
     "name": "stdout",
     "output_type": "stream",
     "text": [
      "Epoch [216/1000], Train Loss: 0.0825, Val Loss: 0.0804\n",
      "No improvement in validation loss for 5 epoch(s).\n"
     ]
    },
    {
     "name": "stderr",
     "output_type": "stream",
     "text": [
      "Epoch 217/1000: 100%|██████████| 141/141 [00:00<00:00, 1357.78it/s]\n"
     ]
    },
    {
     "name": "stdout",
     "output_type": "stream",
     "text": [
      "Epoch [217/1000], Train Loss: 0.0825, Val Loss: 0.0803\n",
      "No improvement in validation loss for 6 epoch(s).\n"
     ]
    },
    {
     "name": "stderr",
     "output_type": "stream",
     "text": [
      "Epoch 218/1000: 100%|██████████| 141/141 [00:00<00:00, 1358.46it/s]\n"
     ]
    },
    {
     "name": "stdout",
     "output_type": "stream",
     "text": [
      "Epoch [218/1000], Train Loss: 0.0826, Val Loss: 0.0803\n",
      "No improvement in validation loss for 7 epoch(s).\n"
     ]
    },
    {
     "name": "stderr",
     "output_type": "stream",
     "text": [
      "Epoch 219/1000: 100%|██████████| 141/141 [00:00<00:00, 1364.96it/s]\n"
     ]
    },
    {
     "name": "stdout",
     "output_type": "stream",
     "text": [
      "Epoch [219/1000], Train Loss: 0.0818, Val Loss: 0.0802\n",
      "Best model saved with validation loss: 0.0802\n"
     ]
    },
    {
     "name": "stderr",
     "output_type": "stream",
     "text": [
      "Epoch 220/1000: 100%|██████████| 141/141 [00:00<00:00, 1014.98it/s]\n"
     ]
    },
    {
     "name": "stdout",
     "output_type": "stream",
     "text": [
      "Epoch [220/1000], Train Loss: 0.0823, Val Loss: 0.0803\n",
      "No improvement in validation loss for 1 epoch(s).\n"
     ]
    },
    {
     "name": "stderr",
     "output_type": "stream",
     "text": [
      "Epoch 221/1000: 100%|██████████| 141/141 [00:00<00:00, 1222.75it/s]\n"
     ]
    },
    {
     "name": "stdout",
     "output_type": "stream",
     "text": [
      "Epoch [221/1000], Train Loss: 0.0828, Val Loss: 0.0805\n",
      "No improvement in validation loss for 2 epoch(s).\n"
     ]
    },
    {
     "name": "stderr",
     "output_type": "stream",
     "text": [
      "Epoch 222/1000: 100%|██████████| 141/141 [00:00<00:00, 1320.29it/s]\n"
     ]
    },
    {
     "name": "stdout",
     "output_type": "stream",
     "text": [
      "Epoch [222/1000], Train Loss: 0.0826, Val Loss: 0.0805\n",
      "No improvement in validation loss for 3 epoch(s).\n"
     ]
    },
    {
     "name": "stderr",
     "output_type": "stream",
     "text": [
      "Epoch 223/1000: 100%|██████████| 141/141 [00:00<00:00, 1319.96it/s]\n"
     ]
    },
    {
     "name": "stdout",
     "output_type": "stream",
     "text": [
      "Epoch [223/1000], Train Loss: 0.0822, Val Loss: 0.0804\n",
      "No improvement in validation loss for 4 epoch(s).\n"
     ]
    },
    {
     "name": "stderr",
     "output_type": "stream",
     "text": [
      "Epoch 224/1000: 100%|██████████| 141/141 [00:00<00:00, 1355.21it/s]\n"
     ]
    },
    {
     "name": "stdout",
     "output_type": "stream",
     "text": [
      "Epoch [224/1000], Train Loss: 0.0829, Val Loss: 0.0803\n",
      "No improvement in validation loss for 5 epoch(s).\n"
     ]
    },
    {
     "name": "stderr",
     "output_type": "stream",
     "text": [
      "Epoch 225/1000: 100%|██████████| 141/141 [00:00<00:00, 1329.16it/s]\n"
     ]
    },
    {
     "name": "stdout",
     "output_type": "stream",
     "text": [
      "Epoch [225/1000], Train Loss: 0.0820, Val Loss: 0.0802\n",
      "No improvement in validation loss for 6 epoch(s).\n"
     ]
    },
    {
     "name": "stderr",
     "output_type": "stream",
     "text": [
      "Epoch 226/1000: 100%|██████████| 141/141 [00:00<00:00, 1365.41it/s]\n"
     ]
    },
    {
     "name": "stdout",
     "output_type": "stream",
     "text": [
      "Epoch [226/1000], Train Loss: 0.0819, Val Loss: 0.0802\n",
      "Best model saved with validation loss: 0.0802\n"
     ]
    },
    {
     "name": "stderr",
     "output_type": "stream",
     "text": [
      "Epoch 227/1000: 100%|██████████| 141/141 [00:00<00:00, 1355.21it/s]\n"
     ]
    },
    {
     "name": "stdout",
     "output_type": "stream",
     "text": [
      "Epoch [227/1000], Train Loss: 0.0826, Val Loss: 0.0802\n",
      "No improvement in validation loss for 1 epoch(s).\n"
     ]
    },
    {
     "name": "stderr",
     "output_type": "stream",
     "text": [
      "Epoch 228/1000: 100%|██████████| 141/141 [00:00<00:00, 1193.15it/s]\n"
     ]
    },
    {
     "name": "stdout",
     "output_type": "stream",
     "text": [
      "Epoch [228/1000], Train Loss: 0.0821, Val Loss: 0.0801\n",
      "Best model saved with validation loss: 0.0801\n"
     ]
    },
    {
     "name": "stderr",
     "output_type": "stream",
     "text": [
      "Epoch 229/1000: 100%|██████████| 141/141 [00:00<00:00, 1032.54it/s]\n"
     ]
    },
    {
     "name": "stdout",
     "output_type": "stream",
     "text": [
      "Epoch [229/1000], Train Loss: 0.0819, Val Loss: 0.0801\n",
      "Best model saved with validation loss: 0.0801\n"
     ]
    },
    {
     "name": "stderr",
     "output_type": "stream",
     "text": [
      "Epoch 230/1000: 100%|██████████| 141/141 [00:00<00:00, 1185.60it/s]\n"
     ]
    },
    {
     "name": "stdout",
     "output_type": "stream",
     "text": [
      "Epoch [230/1000], Train Loss: 0.0821, Val Loss: 0.0800\n",
      "Best model saved with validation loss: 0.0800\n"
     ]
    },
    {
     "name": "stderr",
     "output_type": "stream",
     "text": [
      "Epoch 231/1000: 100%|██████████| 141/141 [00:00<00:00, 1324.98it/s]\n"
     ]
    },
    {
     "name": "stdout",
     "output_type": "stream",
     "text": [
      "Epoch [231/1000], Train Loss: 0.0826, Val Loss: 0.0800\n",
      "Best model saved with validation loss: 0.0800\n"
     ]
    },
    {
     "name": "stderr",
     "output_type": "stream",
     "text": [
      "Epoch 232/1000: 100%|██████████| 141/141 [00:00<00:00, 1189.34it/s]\n"
     ]
    },
    {
     "name": "stdout",
     "output_type": "stream",
     "text": [
      "Epoch [232/1000], Train Loss: 0.0826, Val Loss: 0.0799\n",
      "Best model saved with validation loss: 0.0799\n"
     ]
    },
    {
     "name": "stderr",
     "output_type": "stream",
     "text": [
      "Epoch 233/1000: 100%|██████████| 141/141 [00:00<00:00, 1269.86it/s]\n"
     ]
    },
    {
     "name": "stdout",
     "output_type": "stream",
     "text": [
      "Epoch [233/1000], Train Loss: 0.0812, Val Loss: 0.0798\n",
      "Best model saved with validation loss: 0.0798\n"
     ]
    },
    {
     "name": "stderr",
     "output_type": "stream",
     "text": [
      "Epoch 234/1000: 100%|██████████| 141/141 [00:00<00:00, 1294.20it/s]\n"
     ]
    },
    {
     "name": "stdout",
     "output_type": "stream",
     "text": [
      "Epoch [234/1000], Train Loss: 0.0815, Val Loss: 0.0798\n",
      "Best model saved with validation loss: 0.0798\n"
     ]
    },
    {
     "name": "stderr",
     "output_type": "stream",
     "text": [
      "Epoch 235/1000: 100%|██████████| 141/141 [00:00<00:00, 1125.33it/s]\n"
     ]
    },
    {
     "name": "stdout",
     "output_type": "stream",
     "text": [
      "Epoch [235/1000], Train Loss: 0.0818, Val Loss: 0.0798\n",
      "No improvement in validation loss for 1 epoch(s).\n"
     ]
    },
    {
     "name": "stderr",
     "output_type": "stream",
     "text": [
      "Epoch 236/1000: 100%|██████████| 141/141 [00:00<00:00, 1318.99it/s]\n"
     ]
    },
    {
     "name": "stdout",
     "output_type": "stream",
     "text": [
      "Epoch [236/1000], Train Loss: 0.0819, Val Loss: 0.0800\n",
      "No improvement in validation loss for 2 epoch(s).\n"
     ]
    },
    {
     "name": "stderr",
     "output_type": "stream",
     "text": [
      "Epoch 237/1000: 100%|██████████| 141/141 [00:00<00:00, 1311.89it/s]\n"
     ]
    },
    {
     "name": "stdout",
     "output_type": "stream",
     "text": [
      "Epoch [237/1000], Train Loss: 0.0824, Val Loss: 0.0797\n",
      "Best model saved with validation loss: 0.0797\n"
     ]
    },
    {
     "name": "stderr",
     "output_type": "stream",
     "text": [
      "Epoch 238/1000: 100%|██████████| 141/141 [00:00<00:00, 1068.77it/s]\n"
     ]
    },
    {
     "name": "stdout",
     "output_type": "stream",
     "text": [
      "Epoch [238/1000], Train Loss: 0.0825, Val Loss: 0.0797\n",
      "Best model saved with validation loss: 0.0797\n"
     ]
    },
    {
     "name": "stderr",
     "output_type": "stream",
     "text": [
      "Epoch 239/1000: 100%|██████████| 141/141 [00:00<00:00, 1328.75it/s]\n"
     ]
    },
    {
     "name": "stdout",
     "output_type": "stream",
     "text": [
      "Epoch [239/1000], Train Loss: 0.0818, Val Loss: 0.0798\n",
      "No improvement in validation loss for 1 epoch(s).\n"
     ]
    },
    {
     "name": "stderr",
     "output_type": "stream",
     "text": [
      "Epoch 240/1000: 100%|██████████| 141/141 [00:00<00:00, 1283.76it/s]\n"
     ]
    },
    {
     "name": "stdout",
     "output_type": "stream",
     "text": [
      "Epoch [240/1000], Train Loss: 0.0820, Val Loss: 0.0797\n",
      "Best model saved with validation loss: 0.0797\n"
     ]
    },
    {
     "name": "stderr",
     "output_type": "stream",
     "text": [
      "Epoch 241/1000: 100%|██████████| 141/141 [00:00<00:00, 1370.88it/s]\n"
     ]
    },
    {
     "name": "stdout",
     "output_type": "stream",
     "text": [
      "Epoch [241/1000], Train Loss: 0.0818, Val Loss: 0.0797\n",
      "No improvement in validation loss for 1 epoch(s).\n"
     ]
    },
    {
     "name": "stderr",
     "output_type": "stream",
     "text": [
      "Epoch 242/1000: 100%|██████████| 141/141 [00:00<00:00, 1331.62it/s]\n"
     ]
    },
    {
     "name": "stdout",
     "output_type": "stream",
     "text": [
      "Epoch [242/1000], Train Loss: 0.0816, Val Loss: 0.0796\n",
      "Best model saved with validation loss: 0.0796\n"
     ]
    },
    {
     "name": "stderr",
     "output_type": "stream",
     "text": [
      "Epoch 243/1000: 100%|██████████| 141/141 [00:00<00:00, 1235.67it/s]\n"
     ]
    },
    {
     "name": "stdout",
     "output_type": "stream",
     "text": [
      "Epoch [243/1000], Train Loss: 0.0820, Val Loss: 0.0798\n",
      "No improvement in validation loss for 1 epoch(s).\n"
     ]
    },
    {
     "name": "stderr",
     "output_type": "stream",
     "text": [
      "Epoch 244/1000: 100%|██████████| 141/141 [00:00<00:00, 1300.38it/s]\n"
     ]
    },
    {
     "name": "stdout",
     "output_type": "stream",
     "text": [
      "Epoch [244/1000], Train Loss: 0.0815, Val Loss: 0.0798\n",
      "No improvement in validation loss for 2 epoch(s).\n"
     ]
    },
    {
     "name": "stderr",
     "output_type": "stream",
     "text": [
      "Epoch 245/1000: 100%|██████████| 141/141 [00:00<00:00, 1218.65it/s]\n"
     ]
    },
    {
     "name": "stdout",
     "output_type": "stream",
     "text": [
      "Epoch [245/1000], Train Loss: 0.0817, Val Loss: 0.0798\n",
      "No improvement in validation loss for 3 epoch(s).\n"
     ]
    },
    {
     "name": "stderr",
     "output_type": "stream",
     "text": [
      "Epoch 246/1000: 100%|██████████| 141/141 [00:00<00:00, 1379.30it/s]\n"
     ]
    },
    {
     "name": "stdout",
     "output_type": "stream",
     "text": [
      "Epoch [246/1000], Train Loss: 0.0822, Val Loss: 0.0795\n",
      "Best model saved with validation loss: 0.0795\n"
     ]
    },
    {
     "name": "stderr",
     "output_type": "stream",
     "text": [
      "Epoch 247/1000: 100%|██████████| 141/141 [00:00<00:00, 1034.36it/s]\n"
     ]
    },
    {
     "name": "stdout",
     "output_type": "stream",
     "text": [
      "Epoch [247/1000], Train Loss: 0.0813, Val Loss: 0.0795\n",
      "Best model saved with validation loss: 0.0795\n"
     ]
    },
    {
     "name": "stderr",
     "output_type": "stream",
     "text": [
      "Epoch 248/1000: 100%|██████████| 141/141 [00:00<00:00, 1346.99it/s]\n"
     ]
    },
    {
     "name": "stdout",
     "output_type": "stream",
     "text": [
      "Epoch [248/1000], Train Loss: 0.0812, Val Loss: 0.0796\n",
      "No improvement in validation loss for 1 epoch(s).\n"
     ]
    },
    {
     "name": "stderr",
     "output_type": "stream",
     "text": [
      "Epoch 249/1000: 100%|██████████| 141/141 [00:00<00:00, 1230.83it/s]\n"
     ]
    },
    {
     "name": "stdout",
     "output_type": "stream",
     "text": [
      "Epoch [249/1000], Train Loss: 0.0815, Val Loss: 0.0798\n",
      "No improvement in validation loss for 2 epoch(s).\n"
     ]
    },
    {
     "name": "stderr",
     "output_type": "stream",
     "text": [
      "Epoch 250/1000: 100%|██████████| 141/141 [00:00<00:00, 1356.62it/s]\n"
     ]
    },
    {
     "name": "stdout",
     "output_type": "stream",
     "text": [
      "Epoch [250/1000], Train Loss: 0.0822, Val Loss: 0.0798\n",
      "No improvement in validation loss for 3 epoch(s).\n"
     ]
    },
    {
     "name": "stderr",
     "output_type": "stream",
     "text": [
      "Epoch 251/1000: 100%|██████████| 141/141 [00:00<00:00, 1282.19it/s]\n"
     ]
    },
    {
     "name": "stdout",
     "output_type": "stream",
     "text": [
      "Epoch [251/1000], Train Loss: 0.0811, Val Loss: 0.0796\n",
      "No improvement in validation loss for 4 epoch(s).\n"
     ]
    },
    {
     "name": "stderr",
     "output_type": "stream",
     "text": [
      "Epoch 252/1000: 100%|██████████| 141/141 [00:00<00:00, 1408.96it/s]\n"
     ]
    },
    {
     "name": "stdout",
     "output_type": "stream",
     "text": [
      "Epoch [252/1000], Train Loss: 0.0818, Val Loss: 0.0796\n",
      "No improvement in validation loss for 5 epoch(s).\n"
     ]
    },
    {
     "name": "stderr",
     "output_type": "stream",
     "text": [
      "Epoch 253/1000: 100%|██████████| 141/141 [00:00<00:00, 1448.31it/s]\n"
     ]
    },
    {
     "name": "stdout",
     "output_type": "stream",
     "text": [
      "Epoch [253/1000], Train Loss: 0.0814, Val Loss: 0.0796\n",
      "No improvement in validation loss for 6 epoch(s).\n"
     ]
    },
    {
     "name": "stderr",
     "output_type": "stream",
     "text": [
      "Epoch 254/1000: 100%|██████████| 141/141 [00:00<00:00, 1449.89it/s]\n"
     ]
    },
    {
     "name": "stdout",
     "output_type": "stream",
     "text": [
      "Epoch [254/1000], Train Loss: 0.0814, Val Loss: 0.0796\n",
      "No improvement in validation loss for 7 epoch(s).\n"
     ]
    },
    {
     "name": "stderr",
     "output_type": "stream",
     "text": [
      "Epoch 255/1000: 100%|██████████| 141/141 [00:00<00:00, 1423.87it/s]\n"
     ]
    },
    {
     "name": "stdout",
     "output_type": "stream",
     "text": [
      "Epoch [255/1000], Train Loss: 0.0812, Val Loss: 0.0795\n",
      "Best model saved with validation loss: 0.0795\n"
     ]
    },
    {
     "name": "stderr",
     "output_type": "stream",
     "text": [
      "Epoch 256/1000: 100%|██████████| 141/141 [00:00<00:00, 1427.01it/s]\n"
     ]
    },
    {
     "name": "stdout",
     "output_type": "stream",
     "text": [
      "Epoch [256/1000], Train Loss: 0.0813, Val Loss: 0.0794\n",
      "Best model saved with validation loss: 0.0794\n"
     ]
    },
    {
     "name": "stderr",
     "output_type": "stream",
     "text": [
      "Epoch 257/1000: 100%|██████████| 141/141 [00:00<00:00, 1446.87it/s]\n"
     ]
    },
    {
     "name": "stdout",
     "output_type": "stream",
     "text": [
      "Epoch [257/1000], Train Loss: 0.0809, Val Loss: 0.0795\n",
      "No improvement in validation loss for 1 epoch(s).\n"
     ]
    },
    {
     "name": "stderr",
     "output_type": "stream",
     "text": [
      "Epoch 258/1000: 100%|██████████| 141/141 [00:00<00:00, 1226.10it/s]\n"
     ]
    },
    {
     "name": "stdout",
     "output_type": "stream",
     "text": [
      "Epoch [258/1000], Train Loss: 0.0808, Val Loss: 0.0796\n",
      "No improvement in validation loss for 2 epoch(s).\n"
     ]
    },
    {
     "name": "stderr",
     "output_type": "stream",
     "text": [
      "Epoch 259/1000: 100%|██████████| 141/141 [00:00<00:00, 1443.30it/s]\n"
     ]
    },
    {
     "name": "stdout",
     "output_type": "stream",
     "text": [
      "Epoch [259/1000], Train Loss: 0.0820, Val Loss: 0.0795\n",
      "No improvement in validation loss for 3 epoch(s).\n"
     ]
    },
    {
     "name": "stderr",
     "output_type": "stream",
     "text": [
      "Epoch 260/1000: 100%|██████████| 141/141 [00:00<00:00, 1111.23it/s]\n"
     ]
    },
    {
     "name": "stdout",
     "output_type": "stream",
     "text": [
      "Epoch [260/1000], Train Loss: 0.0813, Val Loss: 0.0794\n",
      "Best model saved with validation loss: 0.0794\n"
     ]
    },
    {
     "name": "stderr",
     "output_type": "stream",
     "text": [
      "Epoch 261/1000: 100%|██████████| 141/141 [00:00<00:00, 1448.05it/s]\n"
     ]
    },
    {
     "name": "stdout",
     "output_type": "stream",
     "text": [
      "Epoch [261/1000], Train Loss: 0.0811, Val Loss: 0.0794\n",
      "No improvement in validation loss for 1 epoch(s).\n"
     ]
    },
    {
     "name": "stderr",
     "output_type": "stream",
     "text": [
      "Epoch 262/1000: 100%|██████████| 141/141 [00:00<00:00, 1287.89it/s]\n"
     ]
    },
    {
     "name": "stdout",
     "output_type": "stream",
     "text": [
      "Epoch [262/1000], Train Loss: 0.0809, Val Loss: 0.0794\n",
      "No improvement in validation loss for 2 epoch(s).\n"
     ]
    },
    {
     "name": "stderr",
     "output_type": "stream",
     "text": [
      "Epoch 263/1000: 100%|██████████| 141/141 [00:00<00:00, 1384.02it/s]\n"
     ]
    },
    {
     "name": "stdout",
     "output_type": "stream",
     "text": [
      "Epoch [263/1000], Train Loss: 0.0809, Val Loss: 0.0794\n",
      "No improvement in validation loss for 3 epoch(s).\n"
     ]
    },
    {
     "name": "stderr",
     "output_type": "stream",
     "text": [
      "Epoch 264/1000: 100%|██████████| 141/141 [00:00<00:00, 1424.49it/s]\n"
     ]
    },
    {
     "name": "stdout",
     "output_type": "stream",
     "text": [
      "Epoch [264/1000], Train Loss: 0.0814, Val Loss: 0.0794\n",
      "No improvement in validation loss for 4 epoch(s).\n"
     ]
    },
    {
     "name": "stderr",
     "output_type": "stream",
     "text": [
      "Epoch 265/1000: 100%|██████████| 141/141 [00:00<00:00, 1438.17it/s]\n"
     ]
    },
    {
     "name": "stdout",
     "output_type": "stream",
     "text": [
      "Epoch [265/1000], Train Loss: 0.0810, Val Loss: 0.0794\n",
      "No improvement in validation loss for 5 epoch(s).\n"
     ]
    },
    {
     "name": "stderr",
     "output_type": "stream",
     "text": [
      "Epoch 266/1000: 100%|██████████| 141/141 [00:00<00:00, 1411.61it/s]\n"
     ]
    },
    {
     "name": "stdout",
     "output_type": "stream",
     "text": [
      "Epoch [266/1000], Train Loss: 0.0805, Val Loss: 0.0794\n",
      "No improvement in validation loss for 6 epoch(s).\n"
     ]
    },
    {
     "name": "stderr",
     "output_type": "stream",
     "text": [
      "Epoch 267/1000: 100%|██████████| 141/141 [00:00<00:00, 1452.98it/s]\n"
     ]
    },
    {
     "name": "stdout",
     "output_type": "stream",
     "text": [
      "Epoch [267/1000], Train Loss: 0.0805, Val Loss: 0.0793\n",
      "Best model saved with validation loss: 0.0793\n"
     ]
    },
    {
     "name": "stderr",
     "output_type": "stream",
     "text": [
      "Epoch 268/1000: 100%|██████████| 141/141 [00:00<00:00, 1439.69it/s]\n"
     ]
    },
    {
     "name": "stdout",
     "output_type": "stream",
     "text": [
      "Epoch [268/1000], Train Loss: 0.0810, Val Loss: 0.0794\n",
      "No improvement in validation loss for 1 epoch(s).\n"
     ]
    },
    {
     "name": "stderr",
     "output_type": "stream",
     "text": [
      "Epoch 269/1000: 100%|██████████| 141/141 [00:00<00:00, 1430.71it/s]\n"
     ]
    },
    {
     "name": "stdout",
     "output_type": "stream",
     "text": [
      "Epoch [269/1000], Train Loss: 0.0811, Val Loss: 0.0795\n",
      "No improvement in validation loss for 2 epoch(s).\n"
     ]
    },
    {
     "name": "stderr",
     "output_type": "stream",
     "text": [
      "Epoch 270/1000: 100%|██████████| 141/141 [00:00<00:00, 1274.20it/s]\n"
     ]
    },
    {
     "name": "stdout",
     "output_type": "stream",
     "text": [
      "Epoch [270/1000], Train Loss: 0.0811, Val Loss: 0.0793\n",
      "No improvement in validation loss for 3 epoch(s).\n"
     ]
    },
    {
     "name": "stderr",
     "output_type": "stream",
     "text": [
      "Epoch 271/1000: 100%|██████████| 141/141 [00:00<00:00, 1398.90it/s]\n"
     ]
    },
    {
     "name": "stdout",
     "output_type": "stream",
     "text": [
      "Epoch [271/1000], Train Loss: 0.0806, Val Loss: 0.0793\n",
      "No improvement in validation loss for 4 epoch(s).\n"
     ]
    },
    {
     "name": "stderr",
     "output_type": "stream",
     "text": [
      "Epoch 272/1000: 100%|██████████| 141/141 [00:00<00:00, 1422.62it/s]\n"
     ]
    },
    {
     "name": "stdout",
     "output_type": "stream",
     "text": [
      "Epoch [272/1000], Train Loss: 0.0805, Val Loss: 0.0796\n",
      "No improvement in validation loss for 5 epoch(s).\n"
     ]
    },
    {
     "name": "stderr",
     "output_type": "stream",
     "text": [
      "Epoch 273/1000: 100%|██████████| 141/141 [00:00<00:00, 1451.15it/s]\n"
     ]
    },
    {
     "name": "stdout",
     "output_type": "stream",
     "text": [
      "Epoch [273/1000], Train Loss: 0.0814, Val Loss: 0.0795\n",
      "No improvement in validation loss for 6 epoch(s).\n"
     ]
    },
    {
     "name": "stderr",
     "output_type": "stream",
     "text": [
      "Epoch 274/1000: 100%|██████████| 141/141 [00:00<00:00, 1428.45it/s]\n"
     ]
    },
    {
     "name": "stdout",
     "output_type": "stream",
     "text": [
      "Epoch [274/1000], Train Loss: 0.0808, Val Loss: 0.0795\n",
      "No improvement in validation loss for 7 epoch(s).\n"
     ]
    },
    {
     "name": "stderr",
     "output_type": "stream",
     "text": [
      "Epoch 275/1000: 100%|██████████| 141/141 [00:00<00:00, 1434.21it/s]\n"
     ]
    },
    {
     "name": "stdout",
     "output_type": "stream",
     "text": [
      "Epoch [275/1000], Train Loss: 0.0810, Val Loss: 0.0793\n",
      "No improvement in validation loss for 8 epoch(s).\n"
     ]
    },
    {
     "name": "stderr",
     "output_type": "stream",
     "text": [
      "Epoch 276/1000: 100%|██████████| 141/141 [00:00<00:00, 1443.35it/s]\n"
     ]
    },
    {
     "name": "stdout",
     "output_type": "stream",
     "text": [
      "Epoch [276/1000], Train Loss: 0.0803, Val Loss: 0.0795\n",
      "No improvement in validation loss for 9 epoch(s).\n"
     ]
    },
    {
     "name": "stderr",
     "output_type": "stream",
     "text": [
      "Epoch 277/1000: 100%|██████████| 141/141 [00:00<00:00, 1255.15it/s]"
     ]
    },
    {
     "name": "stdout",
     "output_type": "stream",
     "text": [
      "Epoch [277/1000], Train Loss: 0.0812, Val Loss: 0.0794\n",
      "No improvement in validation loss for 10 epoch(s).\n",
      "Early stopping triggered.\n"
     ]
    },
    {
     "name": "stderr",
     "output_type": "stream",
     "text": [
      "\n"
     ]
    },
    {
     "data": {
      "image/png": "[encoded data removed]",
      "text/plain": [
       "<Figure size 1000x500 with 1 Axes>"
      ]
     },
     "metadata": {},
     "output_type": "display_data"
    }
   ],
   "source": [
    "\n",
    "# import torch\n",
    "# import matplotlib.pyplot as plt\n",
    "from tqdm import tqdm\n",
    "import os\n",
    "\n",
    "# Ensure 'checkpoint_dir' is defined\n",
    "checkpoint_dir = 'checkpoints_06'  # Update as needed\n",
    "os.makedirs(checkpoint_dir, exist_ok=True)\n",
    "\n",
    "# Check if a GPU is available and set device accordingly\n",
    "device = torch.device('cuda' if torch.cuda.is_available() else 'cpu')\n",
    "model.to(device)\n",
    "\n",
    "# Initialize lists to store losses\n",
    "train_losses = []\n",
    "val_losses = []\n",
    "\n",
    "# Set the number of epochs and early stopping parameters\n",
    "num_epochs = 1000\n",
    "patience = 10\n",
    "best_val_loss = float('inf')\n",
    "counter = 0\n",
    "\n",
    "for epoch in range(num_epochs):\n",
    "    model.train()\n",
    "    train_loss = 0\n",
    "\n",
    "    for batch_data, batch_labels in tqdm(train_dataloader, desc=f'Epoch {epoch+1}/{num_epochs}'):\n",
    "        batch_data = batch_data.to(device)\n",
    "        batch_labels = batch_labels.to(device)\n",
    "\n",
    "        # Forward pass\n",
    "        outputs = model(batch_data)\n",
    "        loss = criterion(outputs, batch_labels)\n",
    "\n",
    "        # Backward pass and optimization\n",
    "        optimizer.zero_grad()\n",
    "        loss.backward()\n",
    "        optimizer.step()\n",
    "\n",
    "        train_loss += loss.item()\n",
    "\n",
    "    avg_train_loss = train_loss / len(train_dataloader)\n",
    "    train_losses.append(avg_train_loss)\n",
    "\n",
    "    # Validation\n",
    "    model.eval()\n",
    "    val_loss = 0\n",
    "\n",
    "    with torch.no_grad():\n",
    "        for val_data, val_labels in val_dataloader:\n",
    "            val_data = val_data.to(device)\n",
    "            val_labels = val_labels.to(device)\n",
    "\n",
    "            outputs = model(val_data)\n",
    "            loss = criterion(outputs, val_labels)\n",
    "\n",
    "            val_loss += loss.item()\n",
    "\n",
    "    avg_val_loss = val_loss / len(val_dataloader)\n",
    "    val_losses.append(avg_val_loss)\n",
    "\n",
    "    print(f'Epoch [{epoch+1}/{num_epochs}], Train Loss: {avg_train_loss:.4f}, Val Loss: {avg_val_loss:.4f}')\n",
    "\n",
    "    # Early Stopping and Checkpoint Saving\n",
    "    if avg_val_loss < best_val_loss:\n",
    "        best_val_loss = avg_val_loss\n",
    "        # Save only the model's state_dict\n",
    "        torch.save(model.state_dict(), os.path.join(checkpoint_dir, 'best_tempo_model.pth'))\n",
    "        print(f\"Best model saved with validation loss: {best_val_loss:.4f}\")\n",
    "        counter = 0\n",
    "    else:\n",
    "        counter += 1\n",
    "        print(f\"No improvement in validation loss for {counter} epoch(s).\")\n",
    "        if counter >= patience:\n",
    "            print(\"Early stopping triggered.\")\n",
    "            break\n",
    "\n",
    "# Plot the training and validation losses\n",
    "plt.figure(figsize=(10, 5))\n",
    "plt.plot(train_losses, label=\"Train Loss\", color=\"blue\")\n",
    "plt.plot(val_losses, label=\"Validation Loss\", color=\"red\")\n",
    "plt.title('Training and Validation Loss Over Epochs')\n",
    "plt.xlabel('Epochs')\n",
    "plt.ylabel('MAE Loss')\n",
    "plt.legend()\n",
    "plt.show()\n"
   ]
  },
  {
   "cell_type": "markdown",
   "metadata": {},
   "source": []
  },
  {
   "cell_type": "markdown",
   "metadata": {},
   "source": [
    "Step 8: Analyze the Learned Representations\n",
    "8.1: Extract Latent Features from the training data"
   ]
  },
  {
   "cell_type": "code",
   "execution_count": 73,
   "metadata": {},
   "outputs": [
    {
     "name": "stdout",
     "output_type": "stream",
     "text": [
      "Mean Absolute Error in Tempo Estimation: 24.66 BPM\n"
     ]
    },
    {
     "name": "stderr",
     "output_type": "stream",
     "text": [
      "/var/folders/5k/5lwm6jlm8xjb4h00r6bnjs280000gn/T/ipykernel_89855/3186413704.py:8: FutureWarning: You are using `torch.load` with `weights_only=False` (the current default value), which uses the default pickle module implicitly. It is possible to construct malicious pickle data which will execute arbitrary code during unpickling (See https://github.com/pytorch/pytorch/blob/main/SECURITY.md#untrusted-models for more details). In a future release, the default value for `weights_only` will be flipped to `True`. This limits the functions that could be executed during unpickling. Arbitrary objects will no longer be allowed to be loaded via this mode unless they are explicitly allowlisted by the user via `torch.serialization.add_safe_globals`. We recommend you start setting `weights_only=True` for any use case where you don't have full control of the loaded file. Please open an issue on GitHub for any issues related to this experimental feature.\n",
      "  model.load_state_dict(torch.load(model_path))\n"
     ]
    },
    {
     "data": {
      "image/png": "[encoded data removed]",
      "text/plain": [
       "<Figure size 800x600 with 1 Axes>"
      ]
     },
     "metadata": {},
     "output_type": "display_data"
    }
   ],
   "source": [
    "from sklearn.metrics import mean_absolute_error\n",
    "\n",
    "# Load the best model from checkpoints_05\n",
    "checkpoint_dir = 'checkpoints_06'  # Specify the directory where your model is saved\n",
    "model_path = os.path.join(checkpoint_dir, 'best_tempo_model.pth')  # Adjust the filename if needed\n",
    "\n",
    "# Load the model's state_dict\n",
    "model.load_state_dict(torch.load(model_path))\n",
    "model.to(device)\n",
    "model.eval()\n",
    "\n",
    "true_tempos = []\n",
    "predicted_tempos = []\n",
    "\n",
    "with torch.no_grad():\n",
    "    for val_data, val_labels in val_dataloader:\n",
    "        val_data = val_data.to(device)\n",
    "        val_labels = val_labels.to(device)\n",
    "\n",
    "        outputs = model(val_data)\n",
    "\n",
    "        # Collect true and predicted tempos\n",
    "        true_tempos.extend(val_labels.cpu().numpy())\n",
    "        predicted_tempos.extend(outputs.cpu().numpy())\n",
    "\n",
    "# Rescale predictions and true labels back to original tempo range\n",
    "true_tempos_rescaled = [t * max_tempo for t in true_tempos]\n",
    "predicted_tempos_rescaled = [p * max_tempo for p in predicted_tempos]\n",
    "\n",
    "# Compute Mean Absolute Error\n",
    "mae = mean_absolute_error(true_tempos_rescaled, predicted_tempos_rescaled)\n",
    "print(f\"Mean Absolute Error in Tempo Estimation: {mae:.2f} BPM\")\n",
    "\n",
    "# Plot true vs. predicted tempos\n",
    "plt.figure(figsize=(8, 6))\n",
    "plt.scatter(true_tempos_rescaled, predicted_tempos_rescaled, alpha=0.7)\n",
    "plt.plot([min(true_tempos_rescaled), max(true_tempos_rescaled)],\n",
    "         [min(true_tempos_rescaled), max(true_tempos_rescaled)], 'r--')\n",
    "plt.xlabel('True Tempo (BPM)')\n",
    "plt.ylabel('Predicted Tempo (BPM)')\n",
    "plt.title('True vs. Predicted Tempo')\n",
    "plt.show()\n"
   ]
  },
  {
   "cell_type": "markdown",
   "metadata": {},
   "source": [
    "## Transform to ONNX"
   ]
  },
  {
   "cell_type": "code",
   "execution_count": 74,
   "metadata": {},
   "outputs": [
    {
     "name": "stdout",
     "output_type": "stream",
     "text": [
      "ONNX model saved to checkpoints_06/tempo_model.onnx\n"
     ]
    },
    {
     "name": "stderr",
     "output_type": "stream",
     "text": [
      "/var/folders/5k/5lwm6jlm8xjb4h00r6bnjs280000gn/T/ipykernel_89855/2930334969.py:11: FutureWarning: You are using `torch.load` with `weights_only=False` (the current default value), which uses the default pickle module implicitly. It is possible to construct malicious pickle data which will execute arbitrary code during unpickling (See https://github.com/pytorch/pytorch/blob/main/SECURITY.md#untrusted-models for more details). In a future release, the default value for `weights_only` will be flipped to `True`. This limits the functions that could be executed during unpickling. Arbitrary objects will no longer be allowed to be loaded via this mode unless they are explicitly allowlisted by the user via `torch.serialization.add_safe_globals`. We recommend you start setting `weights_only=True` for any use case where you don't have full control of the loaded file. Please open an issue on GitHub for any issues related to this experimental feature.\n",
      "  model.load_state_dict(torch.load(model_path))\n"
     ]
    }
   ],
   "source": [
    "# Assuming the model has already been instantiated and is available as `model`\n",
    "# Define the directory and file paths\n",
    "checkpoint_dir = 'checkpoints_06'  # Directory to save/load the ONNX model\n",
    "os.makedirs(checkpoint_dir, exist_ok=True)\n",
    "\n",
    "# Load your trained model from the specified checkpoint directory\n",
    "model_path = os.path.join(checkpoint_dir, 'best_tempo_model.pth')\n",
    "onnx_model_path = os.path.join(checkpoint_dir, 'tempo_model.onnx')\n",
    "\n",
    "# Load the state_dict into the existing model instance\n",
    "model.load_state_dict(torch.load(model_path))\n",
    "model.eval()\n",
    "\n",
    "# Dummy input for the model (size should match the input size of your model)\n",
    "dummy_input = torch.randn(1, model.fc1.in_features)  # `model.fc1.in_features` gets the input size\n",
    "\n",
    "# Export the model to ONNX and save it in the specified directory\n",
    "torch.onnx.export(model, dummy_input, onnx_model_path, opset_version=11)\n",
    "\n",
    "print(f\"ONNX model saved to {onnx_model_path}\")\n"
   ]
  }
 ],
 "metadata": {
  "kernelspec": {
   "display_name": "aicp",
   "language": "python",
   "name": "python3"
  },
  "language_info": {
   "codemirror_mode": {
    "name": "ipython",
    "version": 3
   },
   "file_extension": ".py",
   "mimetype": "text/x-python",
   "name": "python",
   "nbconvert_exporter": "python",
   "pygments_lexer": "ipython3",
   "version": "3.10.14"
  }
 },
 "nbformat": 4,
 "nbformat_minor": 2
}
