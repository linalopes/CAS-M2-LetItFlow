{
 "cells": [
  {
   "cell_type": "code",
   "execution_count": 24,
   "metadata": {},
   "outputs": [],
   "source": [
    "# Step 1: Import necessary libraries\n",
    "import os\n",
    "import tensorflow as tf\n",
    "from tensorflow.keras.layers import SimpleRNN, Dense, Dropout, Input\n",
    "from tensorflow.keras.models import Sequential\n",
    "import numpy as np\n",
    "import librosa"
   ]
  },
  {
   "cell_type": "code",
   "execution_count": 26,
   "metadata": {},
   "outputs": [],
   "source": [
    "# Step 2: Create a directory called 'simple_model' if it doesn't exist\n",
    "os.makedirs(\"simple_model\", exist_ok=True)"
   ]
  },
  {
   "cell_type": "code",
   "execution_count": 27,
   "metadata": {},
   "outputs": [],
   "source": [
    "# Step 3: Define the feature extraction function\n",
    "def extract_features(file_path, n_mfcc=13, max_pad_len=100):\n",
    "    \"\"\"Extract MFCC features from audio file\"\"\"\n",
    "    try:\n",
    "        audio, sample_rate = librosa.load(file_path, res_type='kaiser_fast') \n",
    "        mfccs = librosa.feature.mfcc(y=audio, sr=sample_rate, n_mfcc=n_mfcc)\n",
    "        pad_width = max_pad_len - mfccs.shape[1]\n",
    "        if pad_width > 0:\n",
    "            mfccs = np.pad(mfccs, pad_width=((0, 0), (0, pad_width)), mode='constant')\n",
    "        else:\n",
    "            mfccs = mfccs[:, :max_pad_len]\n",
    "        return mfccs.T  # Transpose to get (timesteps, features)\n",
    "    except Exception as e:\n",
    "        print(f\"Error processing {file_path}: {e}\")\n",
    "        return None"
   ]
  },
  {
   "cell_type": "code",
   "execution_count": 28,
   "metadata": {},
   "outputs": [],
   "source": [
    "# Step 4: Load and preprocess the audio dataset\n",
    "dataset_dir = '../dataset'\n",
    "audio_files = [os.path.join(dataset_dir, f) for f in os.listdir(dataset_dir) if f.endswith('.wav')]\n",
    "\n",
    "# Extract features and filter out any that failed to process\n",
    "features = [extract_features(file) for file in audio_files]\n",
    "features = [f for f in features if f is not None and f.shape == (100, 13)]  # Ensuring consistent shapes\n",
    "features = np.array(features)\n"
   ]
  },
  {
   "cell_type": "code",
   "execution_count": 29,
   "metadata": {},
   "outputs": [
    {
     "name": "stdout",
     "output_type": "stream",
     "text": [
      "Features shape: (615, 100, 13)\n"
     ]
    }
   ],
   "source": [
    "# Verify the final shape of the features array\n",
    "print(\"Features shape:\", features.shape)"
   ]
  },
  {
   "cell_type": "code",
   "execution_count": 30,
   "metadata": {},
   "outputs": [],
   "source": [
    "# Step 5: Create labels (assuming binary classification for simplicity)\n",
    "# Adjust this based on your own criteria, for example, based on file names\n",
    "labels = np.array([0 if 'slow' in f else 1 for f in audio_files[:len(features)]])\n"
   ]
  },
  {
   "cell_type": "code",
   "execution_count": 31,
   "metadata": {},
   "outputs": [],
   "source": [
    "# Step 6: Save the features and labels in 'simple_model' for future use\n",
    "np.save(\"simple_model/features.npy\", features)\n",
    "np.save(\"simple_model/labels.npy\", labels)"
   ]
  },
  {
   "cell_type": "code",
   "execution_count": 32,
   "metadata": {},
   "outputs": [
    {
     "name": "stdout",
     "output_type": "stream",
     "text": [
      "Model saved to simple_model/simple_rnn_model.keras\n"
     ]
    }
   ],
   "source": [
    "# Step 7: Build a simple RNN model\n",
    "input_shape = (features.shape[1], features.shape[2])  # (timesteps, features)\n",
    "\n",
    "# Create the model with custom names\n",
    "model = Sequential([\n",
    "    Input(shape=input_shape, name='input_layer'),  # Custom input name\n",
    "    SimpleRNN(128, return_sequences=False, name='rnn_layer'),\n",
    "    Dropout(0.5, name='dropout_layer'),\n",
    "    Dense(64, activation='relu', name='dense_layer'),\n",
    "    Dense(1, activation='sigmoid', name='output_layer')  # Custom output name\n",
    "])\n",
    "\n",
    "# Compile the model\n",
    "model.compile(optimizer='adam', loss='binary_crossentropy', metrics=['accuracy'])\n",
    "\n",
    "# Save the model\n",
    "model_path = \"simple_model/simple_rnn_model.keras\"\n",
    "model.save(model_path)\n",
    "print(f\"Model saved to {model_path}\")\n"
   ]
  },
  {
   "cell_type": "code",
   "execution_count": 33,
   "metadata": {},
   "outputs": [],
   "source": [
    "# Compile the model\n",
    "model.compile(optimizer='adam', loss='binary_crossentropy', metrics=['accuracy'])\n"
   ]
  },
  {
   "cell_type": "code",
   "execution_count": 34,
   "metadata": {},
   "outputs": [
    {
     "name": "stdout",
     "output_type": "stream",
     "text": [
      "Epoch 1/10\n",
      "\u001b[1m31/31\u001b[0m \u001b[32m━━━━━━━━━━━━━━━━━━━━\u001b[0m\u001b[37m\u001b[0m \u001b[1m1s\u001b[0m 10ms/step - accuracy: 0.7047 - loss: 0.5633 - val_accuracy: 1.0000 - val_loss: 0.0011\n",
      "Epoch 2/10\n",
      "\u001b[1m31/31\u001b[0m \u001b[32m━━━━━━━━━━━━━━━━━━━━\u001b[0m\u001b[37m\u001b[0m \u001b[1m0s\u001b[0m 7ms/step - accuracy: 1.0000 - loss: 0.0015 - val_accuracy: 1.0000 - val_loss: 5.3316e-04\n",
      "Epoch 3/10\n",
      "\u001b[1m31/31\u001b[0m \u001b[32m━━━━━━━━━━━━━━━━━━━━\u001b[0m\u001b[37m\u001b[0m \u001b[1m0s\u001b[0m 8ms/step - accuracy: 1.0000 - loss: 0.0010 - val_accuracy: 1.0000 - val_loss: 4.1421e-04\n",
      "Epoch 4/10\n",
      "\u001b[1m31/31\u001b[0m \u001b[32m━━━━━━━━━━━━━━━━━━━━\u001b[0m\u001b[37m\u001b[0m \u001b[1m0s\u001b[0m 7ms/step - accuracy: 1.0000 - loss: 9.2743e-04 - val_accuracy: 1.0000 - val_loss: 3.3744e-04\n",
      "Epoch 5/10\n",
      "\u001b[1m31/31\u001b[0m \u001b[32m━━━━━━━━━━━━━━━━━━━━\u001b[0m\u001b[37m\u001b[0m \u001b[1m0s\u001b[0m 7ms/step - accuracy: 1.0000 - loss: 6.6137e-04 - val_accuracy: 1.0000 - val_loss: 2.7728e-04\n",
      "Epoch 6/10\n",
      "\u001b[1m31/31\u001b[0m \u001b[32m━━━━━━━━━━━━━━━━━━━━\u001b[0m\u001b[37m\u001b[0m \u001b[1m0s\u001b[0m 7ms/step - accuracy: 1.0000 - loss: 5.7090e-04 - val_accuracy: 1.0000 - val_loss: 2.2675e-04\n",
      "Epoch 7/10\n",
      "\u001b[1m31/31\u001b[0m \u001b[32m━━━━━━━━━━━━━━━━━━━━\u001b[0m\u001b[37m\u001b[0m \u001b[1m0s\u001b[0m 7ms/step - accuracy: 1.0000 - loss: 5.2834e-04 - val_accuracy: 1.0000 - val_loss: 1.8363e-04\n",
      "Epoch 8/10\n",
      "\u001b[1m31/31\u001b[0m \u001b[32m━━━━━━━━━━━━━━━━━━━━\u001b[0m\u001b[37m\u001b[0m \u001b[1m0s\u001b[0m 7ms/step - accuracy: 1.0000 - loss: 4.4306e-04 - val_accuracy: 1.0000 - val_loss: 1.5030e-04\n",
      "Epoch 9/10\n",
      "\u001b[1m31/31\u001b[0m \u001b[32m━━━━━━━━━━━━━━━━━━━━\u001b[0m\u001b[37m\u001b[0m \u001b[1m0s\u001b[0m 7ms/step - accuracy: 1.0000 - loss: 3.4944e-04 - val_accuracy: 1.0000 - val_loss: 1.2687e-04\n",
      "Epoch 10/10\n",
      "\u001b[1m31/31\u001b[0m \u001b[32m━━━━━━━━━━━━━━━━━━━━\u001b[0m\u001b[37m\u001b[0m \u001b[1m0s\u001b[0m 7ms/step - accuracy: 1.0000 - loss: 3.3143e-04 - val_accuracy: 1.0000 - val_loss: 1.0420e-04\n"
     ]
    },
    {
     "data": {
      "text/plain": [
       "<keras.src.callbacks.history.History at 0x38a3bf2e0>"
      ]
     },
     "execution_count": 34,
     "metadata": {},
     "output_type": "execute_result"
    }
   ],
   "source": [
    "# Step 8: Train the model\n",
    "model.fit(features, labels, epochs=10, batch_size=16, validation_split=0.2)"
   ]
  },
  {
   "cell_type": "code",
   "execution_count": 35,
   "metadata": {},
   "outputs": [
    {
     "name": "stdout",
     "output_type": "stream",
     "text": [
      "Model saved to simple_model/simple_rnn_model.keras\n"
     ]
    }
   ],
   "source": [
    "# Updated code\n",
    "model_path = \"simple_model/simple_rnn_model.keras\"\n",
    "model.save(model_path)\n",
    "\n",
    "print(f\"Model saved to {model_path}\")\n"
   ]
  },
  {
   "cell_type": "code",
   "execution_count": 36,
   "metadata": {},
   "outputs": [
    {
     "name": "stderr",
     "output_type": "stream",
     "text": [
      "/Users/rrenoir/miniforge3/envs/tf-macos-env/lib/python3.9/site-packages/keras/src/layers/rnn/rnn.py:204: UserWarning: Do not pass an `input_shape`/`input_dim` argument to a layer. When using Sequential models, prefer using an `Input(shape)` object as the first layer in the model instead.\n",
      "  super().__init__(**kwargs)\n"
     ]
    }
   ],
   "source": [
    "# Step 7: Build a simple RNN model\n",
    "input_shape = (features.shape[1], features.shape[2])  # (timesteps, features)\n",
    "model = Sequential([\n",
    "    SimpleRNN(128, input_shape=input_shape, return_sequences=False),\n",
    "    Dropout(0.5),\n",
    "    Dense(64, activation='relu'),\n",
    "    Dense(1, activation='sigmoid')  # Binary classification\n",
    "])"
   ]
  },
  {
   "cell_type": "code",
   "execution_count": 38,
   "metadata": {},
   "outputs": [
    {
     "name": "stdout",
     "output_type": "stream",
     "text": [
      "Model saved to simple_model/simple_rnn_model.keras\n",
      "INFO:tensorflow:Assets written to: simple_model/tf_saved_model/assets\n"
     ]
    },
    {
     "name": "stderr",
     "output_type": "stream",
     "text": [
      "INFO:tensorflow:Assets written to: simple_model/tf_saved_model/assets\n"
     ]
    },
    {
     "name": "stdout",
     "output_type": "stream",
     "text": [
      "Model exported as TensorFlow SavedModel at simple_model/tf_saved_model\n"
     ]
    }
   ],
   "source": [
    "# Step 8: Save the model with the new naming convention\n",
    "model_path_keras = \"simple_model/simple_rnn_model.keras\"\n",
    "model.save(model_path_keras)  # Save as Keras model\n",
    "\n",
    "print(f\"Model saved to {model_path_keras}\")\n",
    "\n",
    "# Step 9: Export as a TensorFlow SavedModel\n",
    "tf_saved_model_path = \"simple_model/tf_saved_model\"\n",
    "tf.saved_model.save(model, tf_saved_model_path)  # Save as TensorFlow SavedModel\n",
    "\n",
    "print(f\"Model exported as TensorFlow SavedModel at {tf_saved_model_path}\")\n",
    "\n",
    "\n",
    "\n",
    "\n"
   ]
  },
  {
   "cell_type": "code",
   "execution_count": 22,
   "metadata": {},
   "outputs": [
    {
     "name": "stdout",
     "output_type": "stream",
     "text": [
      "Requirement already satisfied: tensorflowjs in /Users/rrenoir/miniforge3/envs/tf-macos-env/lib/python3.9/site-packages (4.21.0)\n",
      "Requirement already satisfied: flax>=0.7.2 in /Users/rrenoir/miniforge3/envs/tf-macos-env/lib/python3.9/site-packages (from tensorflowjs) (0.8.5)\n",
      "Requirement already satisfied: importlib_resources>=5.9.0 in /Users/rrenoir/miniforge3/envs/tf-macos-env/lib/python3.9/site-packages (from tensorflowjs) (6.4.5)\n",
      "Requirement already satisfied: jax>=0.4.13 in /Users/rrenoir/miniforge3/envs/tf-macos-env/lib/python3.9/site-packages (from tensorflowjs) (0.4.30)\n",
      "Requirement already satisfied: jaxlib>=0.4.13 in /Users/rrenoir/miniforge3/envs/tf-macos-env/lib/python3.9/site-packages (from tensorflowjs) (0.4.30)\n",
      "Requirement already satisfied: tensorflow<3,>=2.13.0 in /Users/rrenoir/miniforge3/envs/tf-macos-env/lib/python3.9/site-packages (from tensorflowjs) (2.17.0)\n",
      "Requirement already satisfied: tf-keras>=2.13.0 in /Users/rrenoir/miniforge3/envs/tf-macos-env/lib/python3.9/site-packages (from tensorflowjs) (2.17.0)\n",
      "Requirement already satisfied: tensorflow-decision-forests>=1.5.0 in /Users/rrenoir/miniforge3/envs/tf-macos-env/lib/python3.9/site-packages (from tensorflowjs) (1.10.0)\n",
      "Requirement already satisfied: six<2,>=1.16.0 in /Users/rrenoir/miniforge3/envs/tf-macos-env/lib/python3.9/site-packages (from tensorflowjs) (1.16.0)\n",
      "Requirement already satisfied: tensorflow-hub>=0.16.1 in /Users/rrenoir/miniforge3/envs/tf-macos-env/lib/python3.9/site-packages (from tensorflowjs) (0.16.1)\n",
      "Requirement already satisfied: packaging~=23.1 in /Users/rrenoir/miniforge3/envs/tf-macos-env/lib/python3.9/site-packages (from tensorflowjs) (23.2)\n",
      "Requirement already satisfied: numpy>=1.22 in /Users/rrenoir/miniforge3/envs/tf-macos-env/lib/python3.9/site-packages (from flax>=0.7.2->tensorflowjs) (1.26.4)\n",
      "Requirement already satisfied: msgpack in /Users/rrenoir/miniforge3/envs/tf-macos-env/lib/python3.9/site-packages (from flax>=0.7.2->tensorflowjs) (1.1.0)\n",
      "Requirement already satisfied: optax in /Users/rrenoir/miniforge3/envs/tf-macos-env/lib/python3.9/site-packages (from flax>=0.7.2->tensorflowjs) (0.2.3)\n",
      "Requirement already satisfied: orbax-checkpoint in /Users/rrenoir/miniforge3/envs/tf-macos-env/lib/python3.9/site-packages (from flax>=0.7.2->tensorflowjs) (0.6.4)\n",
      "Requirement already satisfied: tensorstore in /Users/rrenoir/miniforge3/envs/tf-macos-env/lib/python3.9/site-packages (from flax>=0.7.2->tensorflowjs) (0.1.66)\n",
      "Requirement already satisfied: rich>=11.1 in /Users/rrenoir/miniforge3/envs/tf-macos-env/lib/python3.9/site-packages (from flax>=0.7.2->tensorflowjs) (13.9.2)\n",
      "Requirement already satisfied: typing-extensions>=4.2 in /Users/rrenoir/miniforge3/envs/tf-macos-env/lib/python3.9/site-packages (from flax>=0.7.2->tensorflowjs) (4.12.2)\n",
      "Requirement already satisfied: PyYAML>=5.4.1 in /Users/rrenoir/miniforge3/envs/tf-macos-env/lib/python3.9/site-packages (from flax>=0.7.2->tensorflowjs) (6.0.2)\n",
      "Requirement already satisfied: zipp>=3.1.0 in /Users/rrenoir/miniforge3/envs/tf-macos-env/lib/python3.9/site-packages (from importlib_resources>=5.9.0->tensorflowjs) (3.20.2)\n",
      "Requirement already satisfied: ml-dtypes>=0.2.0 in /Users/rrenoir/miniforge3/envs/tf-macos-env/lib/python3.9/site-packages (from jax>=0.4.13->tensorflowjs) (0.4.1)\n",
      "Requirement already satisfied: opt-einsum in /Users/rrenoir/miniforge3/envs/tf-macos-env/lib/python3.9/site-packages (from jax>=0.4.13->tensorflowjs) (3.4.0)\n",
      "Requirement already satisfied: scipy>=1.9 in /Users/rrenoir/miniforge3/envs/tf-macos-env/lib/python3.9/site-packages (from jax>=0.4.13->tensorflowjs) (1.13.1)\n",
      "Requirement already satisfied: importlib-metadata>=4.6 in /Users/rrenoir/miniforge3/envs/tf-macos-env/lib/python3.9/site-packages (from jax>=0.4.13->tensorflowjs) (8.5.0)\n",
      "Requirement already satisfied: absl-py>=1.0.0 in /Users/rrenoir/miniforge3/envs/tf-macos-env/lib/python3.9/site-packages (from tensorflow<3,>=2.13.0->tensorflowjs) (2.1.0)\n",
      "Requirement already satisfied: astunparse>=1.6.0 in /Users/rrenoir/miniforge3/envs/tf-macos-env/lib/python3.9/site-packages (from tensorflow<3,>=2.13.0->tensorflowjs) (1.6.3)\n",
      "Requirement already satisfied: flatbuffers>=24.3.25 in /Users/rrenoir/miniforge3/envs/tf-macos-env/lib/python3.9/site-packages (from tensorflow<3,>=2.13.0->tensorflowjs) (24.3.25)\n",
      "Requirement already satisfied: gast!=0.5.0,!=0.5.1,!=0.5.2,>=0.2.1 in /Users/rrenoir/miniforge3/envs/tf-macos-env/lib/python3.9/site-packages (from tensorflow<3,>=2.13.0->tensorflowjs) (0.6.0)\n",
      "Requirement already satisfied: google-pasta>=0.1.1 in /Users/rrenoir/miniforge3/envs/tf-macos-env/lib/python3.9/site-packages (from tensorflow<3,>=2.13.0->tensorflowjs) (0.2.0)\n",
      "Requirement already satisfied: h5py>=3.10.0 in /Users/rrenoir/miniforge3/envs/tf-macos-env/lib/python3.9/site-packages (from tensorflow<3,>=2.13.0->tensorflowjs) (3.12.1)\n",
      "Requirement already satisfied: libclang>=13.0.0 in /Users/rrenoir/miniforge3/envs/tf-macos-env/lib/python3.9/site-packages (from tensorflow<3,>=2.13.0->tensorflowjs) (18.1.1)\n",
      "Requirement already satisfied: protobuf!=4.21.0,!=4.21.1,!=4.21.2,!=4.21.3,!=4.21.4,!=4.21.5,<5.0.0dev,>=3.20.3 in /Users/rrenoir/miniforge3/envs/tf-macos-env/lib/python3.9/site-packages (from tensorflow<3,>=2.13.0->tensorflowjs) (4.23.4)\n",
      "Requirement already satisfied: requests<3,>=2.21.0 in /Users/rrenoir/miniforge3/envs/tf-macos-env/lib/python3.9/site-packages (from tensorflow<3,>=2.13.0->tensorflowjs) (2.32.3)\n",
      "Requirement already satisfied: setuptools in /Users/rrenoir/miniforge3/envs/tf-macos-env/lib/python3.9/site-packages (from tensorflow<3,>=2.13.0->tensorflowjs) (75.1.0)\n",
      "Requirement already satisfied: termcolor>=1.1.0 in /Users/rrenoir/miniforge3/envs/tf-macos-env/lib/python3.9/site-packages (from tensorflow<3,>=2.13.0->tensorflowjs) (2.5.0)\n",
      "Requirement already satisfied: wrapt>=1.11.0 in /Users/rrenoir/miniforge3/envs/tf-macos-env/lib/python3.9/site-packages (from tensorflow<3,>=2.13.0->tensorflowjs) (1.14.1)\n",
      "Requirement already satisfied: grpcio<2.0,>=1.24.3 in /Users/rrenoir/miniforge3/envs/tf-macos-env/lib/python3.9/site-packages (from tensorflow<3,>=2.13.0->tensorflowjs) (1.67.0)\n",
      "Requirement already satisfied: tensorboard<2.18,>=2.17 in /Users/rrenoir/miniforge3/envs/tf-macos-env/lib/python3.9/site-packages (from tensorflow<3,>=2.13.0->tensorflowjs) (2.17.1)\n",
      "Requirement already satisfied: keras>=3.2.0 in /Users/rrenoir/miniforge3/envs/tf-macos-env/lib/python3.9/site-packages (from tensorflow<3,>=2.13.0->tensorflowjs) (3.6.0)\n",
      "Requirement already satisfied: tensorflow-io-gcs-filesystem>=0.23.1 in /Users/rrenoir/miniforge3/envs/tf-macos-env/lib/python3.9/site-packages (from tensorflow<3,>=2.13.0->tensorflowjs) (0.37.1)\n",
      "Requirement already satisfied: pandas in /Users/rrenoir/miniforge3/envs/tf-macos-env/lib/python3.9/site-packages (from tensorflow-decision-forests>=1.5.0->tensorflowjs) (2.2.3)\n",
      "Requirement already satisfied: wheel in /Users/rrenoir/miniforge3/envs/tf-macos-env/lib/python3.9/site-packages (from tensorflow-decision-forests>=1.5.0->tensorflowjs) (0.44.0)\n",
      "Requirement already satisfied: wurlitzer in /Users/rrenoir/miniforge3/envs/tf-macos-env/lib/python3.9/site-packages (from tensorflow-decision-forests>=1.5.0->tensorflowjs) (3.1.1)\n",
      "Requirement already satisfied: ydf in /Users/rrenoir/miniforge3/envs/tf-macos-env/lib/python3.9/site-packages (from tensorflow-decision-forests>=1.5.0->tensorflowjs) (0.8.0)\n",
      "Requirement already satisfied: namex in /Users/rrenoir/miniforge3/envs/tf-macos-env/lib/python3.9/site-packages (from keras>=3.2.0->tensorflow<3,>=2.13.0->tensorflowjs) (0.0.8)\n",
      "Requirement already satisfied: optree in /Users/rrenoir/miniforge3/envs/tf-macos-env/lib/python3.9/site-packages (from keras>=3.2.0->tensorflow<3,>=2.13.0->tensorflowjs) (0.13.0)\n",
      "Requirement already satisfied: charset-normalizer<4,>=2 in /Users/rrenoir/miniforge3/envs/tf-macos-env/lib/python3.9/site-packages (from requests<3,>=2.21.0->tensorflow<3,>=2.13.0->tensorflowjs) (3.4.0)\n",
      "Requirement already satisfied: idna<4,>=2.5 in /Users/rrenoir/miniforge3/envs/tf-macos-env/lib/python3.9/site-packages (from requests<3,>=2.21.0->tensorflow<3,>=2.13.0->tensorflowjs) (3.10)\n",
      "Requirement already satisfied: urllib3<3,>=1.21.1 in /Users/rrenoir/miniforge3/envs/tf-macos-env/lib/python3.9/site-packages (from requests<3,>=2.21.0->tensorflow<3,>=2.13.0->tensorflowjs) (2.2.3)\n",
      "Requirement already satisfied: certifi>=2017.4.17 in /Users/rrenoir/miniforge3/envs/tf-macos-env/lib/python3.9/site-packages (from requests<3,>=2.21.0->tensorflow<3,>=2.13.0->tensorflowjs) (2024.8.30)\n",
      "Requirement already satisfied: markdown-it-py>=2.2.0 in /Users/rrenoir/miniforge3/envs/tf-macos-env/lib/python3.9/site-packages (from rich>=11.1->flax>=0.7.2->tensorflowjs) (3.0.0)\n",
      "Requirement already satisfied: pygments<3.0.0,>=2.13.0 in /Users/rrenoir/miniforge3/envs/tf-macos-env/lib/python3.9/site-packages (from rich>=11.1->flax>=0.7.2->tensorflowjs) (2.18.0)\n",
      "Requirement already satisfied: markdown>=2.6.8 in /Users/rrenoir/miniforge3/envs/tf-macos-env/lib/python3.9/site-packages (from tensorboard<2.18,>=2.17->tensorflow<3,>=2.13.0->tensorflowjs) (3.7)\n",
      "Requirement already satisfied: tensorboard-data-server<0.8.0,>=0.7.0 in /Users/rrenoir/miniforge3/envs/tf-macos-env/lib/python3.9/site-packages (from tensorboard<2.18,>=2.17->tensorflow<3,>=2.13.0->tensorflowjs) (0.7.2)\n",
      "Requirement already satisfied: werkzeug>=1.0.1 in /Users/rrenoir/miniforge3/envs/tf-macos-env/lib/python3.9/site-packages (from tensorboard<2.18,>=2.17->tensorflow<3,>=2.13.0->tensorflowjs) (3.0.4)\n",
      "Requirement already satisfied: chex>=0.1.86 in /Users/rrenoir/miniforge3/envs/tf-macos-env/lib/python3.9/site-packages (from optax->flax>=0.7.2->tensorflowjs) (0.1.87)\n",
      "Requirement already satisfied: etils[epy] in /Users/rrenoir/miniforge3/envs/tf-macos-env/lib/python3.9/site-packages (from optax->flax>=0.7.2->tensorflowjs) (1.5.2)\n",
      "Requirement already satisfied: nest_asyncio in /Users/rrenoir/miniforge3/envs/tf-macos-env/lib/python3.9/site-packages (from orbax-checkpoint->flax>=0.7.2->tensorflowjs) (1.6.0)\n",
      "Requirement already satisfied: humanize in /Users/rrenoir/miniforge3/envs/tf-macos-env/lib/python3.9/site-packages (from orbax-checkpoint->flax>=0.7.2->tensorflowjs) (4.11.0)\n",
      "Requirement already satisfied: python-dateutil>=2.8.2 in /Users/rrenoir/miniforge3/envs/tf-macos-env/lib/python3.9/site-packages (from pandas->tensorflow-decision-forests>=1.5.0->tensorflowjs) (2.9.0.post0)\n",
      "Requirement already satisfied: pytz>=2020.1 in /Users/rrenoir/miniforge3/envs/tf-macos-env/lib/python3.9/site-packages (from pandas->tensorflow-decision-forests>=1.5.0->tensorflowjs) (2024.2)\n",
      "Requirement already satisfied: tzdata>=2022.7 in /Users/rrenoir/miniforge3/envs/tf-macos-env/lib/python3.9/site-packages (from pandas->tensorflow-decision-forests>=1.5.0->tensorflowjs) (2024.2)\n",
      "Requirement already satisfied: toolz>=0.9.0 in /Users/rrenoir/miniforge3/envs/tf-macos-env/lib/python3.9/site-packages (from chex>=0.1.86->optax->flax>=0.7.2->tensorflowjs) (1.0.0)\n",
      "Requirement already satisfied: mdurl~=0.1 in /Users/rrenoir/miniforge3/envs/tf-macos-env/lib/python3.9/site-packages (from markdown-it-py>=2.2.0->rich>=11.1->flax>=0.7.2->tensorflowjs) (0.1.2)\n",
      "Requirement already satisfied: MarkupSafe>=2.1.1 in /Users/rrenoir/miniforge3/envs/tf-macos-env/lib/python3.9/site-packages (from werkzeug>=1.0.1->tensorboard<2.18,>=2.17->tensorflow<3,>=2.13.0->tensorflowjs) (3.0.1)\n",
      "Requirement already satisfied: fsspec in /Users/rrenoir/miniforge3/envs/tf-macos-env/lib/python3.9/site-packages (from etils[epath,epy]->orbax-checkpoint->flax>=0.7.2->tensorflowjs) (2024.9.0)\n",
      "Note: you may need to restart the kernel to use updated packages.\n"
     ]
    }
   ],
   "source": [
    "pip install tensorflowjs\n"
   ]
  },
  {
   "cell_type": "code",
   "execution_count": 39,
   "metadata": {},
   "outputs": [
    {
     "name": "stderr",
     "output_type": "stream",
     "text": [
      "WARNING: All log messages before absl::InitializeLog() is called are written to STDERR\n",
      "I0000 00:00:1729517582.873903 3643892 devices.cc:76] Number of eligible GPUs (core count >= 8, compute capability >= 0.0): 0 (Note: TensorFlow was not compiled with CUDA or ROCm support)\n"
     ]
    },
    {
     "data": {
      "text/plain": [
       "CompletedProcess(args=['tensorflowjs_converter', '--input_format=tf_saved_model', '--output_format=tfjs_graph_model', 'simple_model/tf_saved_model', 'simple_model/tfjs_model'], returncode=0)"
      ]
     },
     "execution_count": 39,
     "metadata": {},
     "output_type": "execute_result"
    }
   ],
   "source": [
    "import subprocess\n",
    "\n",
    "subprocess.run([\n",
    "    \"tensorflowjs_converter\",\n",
    "    \"--input_format=tf_saved_model\",\n",
    "    \"--output_format=tfjs_graph_model\",\n",
    "    \"simple_model/tf_saved_model\",\n",
    "    \"simple_model/tfjs_model\"\n",
    "])\n"
   ]
  }
 ],
 "metadata": {
  "kernelspec": {
   "display_name": "tf-macos-env",
   "language": "python",
   "name": "python3"
  },
  "language_info": {
   "codemirror_mode": {
    "name": "ipython",
    "version": 3
   },
   "file_extension": ".py",
   "mimetype": "text/x-python",
   "name": "python",
   "nbconvert_exporter": "python",
   "pygments_lexer": "ipython3",
   "version": "3.9.20"
  }
 },
 "nbformat": 4,
 "nbformat_minor": 2
}
